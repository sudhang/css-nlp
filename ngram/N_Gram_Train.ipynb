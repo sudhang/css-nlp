{
  "cells": [
    {
      "cell_type": "markdown",
      "metadata": {
        "id": "view-in-github",
        "colab_type": "text"
      },
      "source": [
        "<a href=\"https://colab.research.google.com/github/sudhang/css-nlp/blob/master/ngram/N_Gram_Train.ipynb\" target=\"_parent\"><img src=\"https://colab.research.google.com/assets/colab-badge.svg\" alt=\"Open In Colab\"/></a>"
      ]
    },
    {
      "cell_type": "markdown",
      "metadata": {
        "id": "_hDYvccowjpM"
      },
      "source": [
        "In this notebook, we will use train an n-gram MLE-based model.  We will rely on the library [nltk](https://www.nltk.org/api/nltk.lm.html) for this purpose.\n",
        "\n"
      ]
    },
    {
      "cell_type": "markdown",
      "metadata": {
        "id": "GKE7r6Z9w5Hi"
      },
      "source": [
        "### Installations"
      ]
    },
    {
      "cell_type": "code",
      "execution_count": null,
      "metadata": {
        "id": "hkn_4CgUuUTK"
      },
      "outputs": [],
      "source": [
        "# Nothing"
      ]
    },
    {
      "cell_type": "markdown",
      "metadata": {
        "id": "GZUCvVv2xbWw"
      },
      "source": [
        "## Imports\n",
        "\n",
        "To use the llama2 models from huggingface, we need to input an access token."
      ]
    },
    {
      "cell_type": "code",
      "source": [
        "GDRIVEPATH = \"/content/drive/MyDrive/TU/Sem 4/NLP\""
      ],
      "metadata": {
        "id": "dmI1SB1kfjjo"
      },
      "execution_count": null,
      "outputs": []
    },
    {
      "cell_type": "code",
      "execution_count": null,
      "metadata": {
        "id": "wM3YbedRxosD"
      },
      "outputs": [],
      "source": [
        "import pandas as pd\n",
        "import pandas as pd\n",
        "from nltk.lm.preprocessing import padded_everygram_pipeline\n",
        "from nltk.tokenize.treebank import TreebankWordDetokenizer\n",
        "import nltk"
      ]
    },
    {
      "cell_type": "code",
      "source": [
        "nltk.download('punkt')"
      ],
      "metadata": {
        "colab": {
          "base_uri": "https://localhost:8080/"
        },
        "id": "pVBGfsj9Tl4T",
        "outputId": "d9b7d38c-917f-4456-edba-861e9e2361b5"
      },
      "execution_count": null,
      "outputs": [
        {
          "output_type": "stream",
          "name": "stderr",
          "text": [
            "[nltk_data] Downloading package punkt to /root/nltk_data...\n",
            "[nltk_data]   Unzipping tokenizers/punkt.zip.\n"
          ]
        },
        {
          "output_type": "execute_result",
          "data": {
            "text/plain": [
              "True"
            ]
          },
          "metadata": {},
          "execution_count": 4
        }
      ]
    },
    {
      "cell_type": "markdown",
      "metadata": {
        "id": "9IkVhQTe-k3r"
      },
      "source": [
        "## Dataset"
      ]
    },
    {
      "cell_type": "code",
      "execution_count": null,
      "metadata": {
        "colab": {
          "base_uri": "https://localhost:8080/",
          "height": 424
        },
        "id": "zk-1UMT4-mij",
        "outputId": "67b65820-15f4-4b82-8731-e0829c696c59"
      },
      "outputs": [
        {
          "output_type": "display_data",
          "data": {
            "text/plain": [
              "                                                content\n",
              "0     WASHINGTON — Three years ago, President Barack...\n",
              "1     When Honda Motor Company said two months ago t...\n",
              "2     WASHINGTON — Four months after a historic acco...\n",
              "3     WASHINGTON — Within hours of opening an invest...\n",
              "4     WASHINGTON — The F.B.I. director, James B. Com...\n",
              "...                                                 ...\n",
              "8580  Senator Marco Rubio of Florida won the Puerto ...\n",
              "8581  EXETER, N.H. — Eight years after aggressively ...\n",
              "8582  PRINCETON, Ore. — The armed occupation of a wi...\n",
              "8583  WASHINGTON — As North Korea’s reclusive ruler,...\n",
              "8584  The man entered the Red Robin restaurant insid...\n",
              "\n",
              "[8585 rows x 1 columns]"
            ],
            "text/html": [
              "\n",
              "\n",
              "  <div id=\"df-7b0a5412-d162-424f-b60b-8c63e221dfc5\">\n",
              "    <div class=\"colab-df-container\">\n",
              "      <div>\n",
              "<style scoped>\n",
              "    .dataframe tbody tr th:only-of-type {\n",
              "        vertical-align: middle;\n",
              "    }\n",
              "\n",
              "    .dataframe tbody tr th {\n",
              "        vertical-align: top;\n",
              "    }\n",
              "\n",
              "    .dataframe thead th {\n",
              "        text-align: right;\n",
              "    }\n",
              "</style>\n",
              "<table border=\"1\" class=\"dataframe\">\n",
              "  <thead>\n",
              "    <tr style=\"text-align: right;\">\n",
              "      <th></th>\n",
              "      <th>content</th>\n",
              "    </tr>\n",
              "  </thead>\n",
              "  <tbody>\n",
              "    <tr>\n",
              "      <th>0</th>\n",
              "      <td>WASHINGTON — Three years ago, President Barack...</td>\n",
              "    </tr>\n",
              "    <tr>\n",
              "      <th>1</th>\n",
              "      <td>When Honda Motor Company said two months ago t...</td>\n",
              "    </tr>\n",
              "    <tr>\n",
              "      <th>2</th>\n",
              "      <td>WASHINGTON — Four months after a historic acco...</td>\n",
              "    </tr>\n",
              "    <tr>\n",
              "      <th>3</th>\n",
              "      <td>WASHINGTON — Within hours of opening an invest...</td>\n",
              "    </tr>\n",
              "    <tr>\n",
              "      <th>4</th>\n",
              "      <td>WASHINGTON — The F.B.I. director, James B. Com...</td>\n",
              "    </tr>\n",
              "    <tr>\n",
              "      <th>...</th>\n",
              "      <td>...</td>\n",
              "    </tr>\n",
              "    <tr>\n",
              "      <th>8580</th>\n",
              "      <td>Senator Marco Rubio of Florida won the Puerto ...</td>\n",
              "    </tr>\n",
              "    <tr>\n",
              "      <th>8581</th>\n",
              "      <td>EXETER, N.H. — Eight years after aggressively ...</td>\n",
              "    </tr>\n",
              "    <tr>\n",
              "      <th>8582</th>\n",
              "      <td>PRINCETON, Ore. — The armed occupation of a wi...</td>\n",
              "    </tr>\n",
              "    <tr>\n",
              "      <th>8583</th>\n",
              "      <td>WASHINGTON — As North Korea’s reclusive ruler,...</td>\n",
              "    </tr>\n",
              "    <tr>\n",
              "      <th>8584</th>\n",
              "      <td>The man entered the Red Robin restaurant insid...</td>\n",
              "    </tr>\n",
              "  </tbody>\n",
              "</table>\n",
              "<p>8585 rows × 1 columns</p>\n",
              "</div>\n",
              "      <button class=\"colab-df-convert\" onclick=\"convertToInteractive('df-7b0a5412-d162-424f-b60b-8c63e221dfc5')\"\n",
              "              title=\"Convert this dataframe to an interactive table.\"\n",
              "              style=\"display:none;\">\n",
              "\n",
              "  <svg xmlns=\"http://www.w3.org/2000/svg\" height=\"24px\"viewBox=\"0 0 24 24\"\n",
              "       width=\"24px\">\n",
              "    <path d=\"M0 0h24v24H0V0z\" fill=\"none\"/>\n",
              "    <path d=\"M18.56 5.44l.94 2.06.94-2.06 2.06-.94-2.06-.94-.94-2.06-.94 2.06-2.06.94zm-11 1L8.5 8.5l.94-2.06 2.06-.94-2.06-.94L8.5 2.5l-.94 2.06-2.06.94zm10 10l.94 2.06.94-2.06 2.06-.94-2.06-.94-.94-2.06-.94 2.06-2.06.94z\"/><path d=\"M17.41 7.96l-1.37-1.37c-.4-.4-.92-.59-1.43-.59-.52 0-1.04.2-1.43.59L10.3 9.45l-7.72 7.72c-.78.78-.78 2.05 0 2.83L4 21.41c.39.39.9.59 1.41.59.51 0 1.02-.2 1.41-.59l7.78-7.78 2.81-2.81c.8-.78.8-2.07 0-2.86zM5.41 20L4 18.59l7.72-7.72 1.47 1.35L5.41 20z\"/>\n",
              "  </svg>\n",
              "      </button>\n",
              "\n",
              "\n",
              "\n",
              "    <div id=\"df-64258324-f3d5-455b-b65d-3c7076ddeb02\">\n",
              "      <button class=\"colab-df-quickchart\" onclick=\"quickchart('df-64258324-f3d5-455b-b65d-3c7076ddeb02')\"\n",
              "              title=\"Suggest charts.\"\n",
              "              style=\"display:none;\">\n",
              "\n",
              "<svg xmlns=\"http://www.w3.org/2000/svg\" height=\"24px\"viewBox=\"0 0 24 24\"\n",
              "     width=\"24px\">\n",
              "    <g>\n",
              "        <path d=\"M19 3H5c-1.1 0-2 .9-2 2v14c0 1.1.9 2 2 2h14c1.1 0 2-.9 2-2V5c0-1.1-.9-2-2-2zM9 17H7v-7h2v7zm4 0h-2V7h2v10zm4 0h-2v-4h2v4z\"/>\n",
              "    </g>\n",
              "</svg>\n",
              "      </button>\n",
              "    </div>\n",
              "\n",
              "<style>\n",
              "  .colab-df-quickchart {\n",
              "    background-color: #E8F0FE;\n",
              "    border: none;\n",
              "    border-radius: 50%;\n",
              "    cursor: pointer;\n",
              "    display: none;\n",
              "    fill: #1967D2;\n",
              "    height: 32px;\n",
              "    padding: 0 0 0 0;\n",
              "    width: 32px;\n",
              "  }\n",
              "\n",
              "  .colab-df-quickchart:hover {\n",
              "    background-color: #E2EBFA;\n",
              "    box-shadow: 0px 1px 2px rgba(60, 64, 67, 0.3), 0px 1px 3px 1px rgba(60, 64, 67, 0.15);\n",
              "    fill: #174EA6;\n",
              "  }\n",
              "\n",
              "  [theme=dark] .colab-df-quickchart {\n",
              "    background-color: #3B4455;\n",
              "    fill: #D2E3FC;\n",
              "  }\n",
              "\n",
              "  [theme=dark] .colab-df-quickchart:hover {\n",
              "    background-color: #434B5C;\n",
              "    box-shadow: 0px 1px 3px 1px rgba(0, 0, 0, 0.15);\n",
              "    filter: drop-shadow(0px 1px 2px rgba(0, 0, 0, 0.3));\n",
              "    fill: #FFFFFF;\n",
              "  }\n",
              "</style>\n",
              "\n",
              "    <script>\n",
              "      async function quickchart(key) {\n",
              "        const containerElement = document.querySelector('#' + key);\n",
              "        const charts = await google.colab.kernel.invokeFunction(\n",
              "            'suggestCharts', [key], {});\n",
              "      }\n",
              "    </script>\n",
              "\n",
              "      <script>\n",
              "\n",
              "function displayQuickchartButton(domScope) {\n",
              "  let quickchartButtonEl =\n",
              "    domScope.querySelector('#df-64258324-f3d5-455b-b65d-3c7076ddeb02 button.colab-df-quickchart');\n",
              "  quickchartButtonEl.style.display =\n",
              "    google.colab.kernel.accessAllowed ? 'block' : 'none';\n",
              "}\n",
              "\n",
              "        displayQuickchartButton(document);\n",
              "      </script>\n",
              "      <style>\n",
              "    .colab-df-container {\n",
              "      display:flex;\n",
              "      flex-wrap:wrap;\n",
              "      gap: 12px;\n",
              "    }\n",
              "\n",
              "    .colab-df-convert {\n",
              "      background-color: #E8F0FE;\n",
              "      border: none;\n",
              "      border-radius: 50%;\n",
              "      cursor: pointer;\n",
              "      display: none;\n",
              "      fill: #1967D2;\n",
              "      height: 32px;\n",
              "      padding: 0 0 0 0;\n",
              "      width: 32px;\n",
              "    }\n",
              "\n",
              "    .colab-df-convert:hover {\n",
              "      background-color: #E2EBFA;\n",
              "      box-shadow: 0px 1px 2px rgba(60, 64, 67, 0.3), 0px 1px 3px 1px rgba(60, 64, 67, 0.15);\n",
              "      fill: #174EA6;\n",
              "    }\n",
              "\n",
              "    [theme=dark] .colab-df-convert {\n",
              "      background-color: #3B4455;\n",
              "      fill: #D2E3FC;\n",
              "    }\n",
              "\n",
              "    [theme=dark] .colab-df-convert:hover {\n",
              "      background-color: #434B5C;\n",
              "      box-shadow: 0px 1px 3px 1px rgba(0, 0, 0, 0.15);\n",
              "      filter: drop-shadow(0px 1px 2px rgba(0, 0, 0, 0.3));\n",
              "      fill: #FFFFFF;\n",
              "    }\n",
              "  </style>\n",
              "\n",
              "      <script>\n",
              "        const buttonEl =\n",
              "          document.querySelector('#df-7b0a5412-d162-424f-b60b-8c63e221dfc5 button.colab-df-convert');\n",
              "        buttonEl.style.display =\n",
              "          google.colab.kernel.accessAllowed ? 'block' : 'none';\n",
              "\n",
              "        async function convertToInteractive(key) {\n",
              "          const element = document.querySelector('#df-7b0a5412-d162-424f-b60b-8c63e221dfc5');\n",
              "          const dataTable =\n",
              "            await google.colab.kernel.invokeFunction('convertToInteractive',\n",
              "                                                     [key], {});\n",
              "          if (!dataTable) return;\n",
              "\n",
              "          const docLinkHtml = 'Like what you see? Visit the ' +\n",
              "            '<a target=\"_blank\" href=https://colab.research.google.com/notebooks/data_table.ipynb>data table notebook</a>'\n",
              "            + ' to learn more about interactive tables.';\n",
              "          element.innerHTML = '';\n",
              "          dataTable['output_type'] = 'display_data';\n",
              "          await google.colab.output.renderOutput(dataTable, element);\n",
              "          const docLink = document.createElement('div');\n",
              "          docLink.innerHTML = docLinkHtml;\n",
              "          element.appendChild(docLink);\n",
              "        }\n",
              "      </script>\n",
              "    </div>\n",
              "  </div>\n"
            ]
          },
          "metadata": {}
        }
      ],
      "source": [
        "df = pd.read_csv(f\"{GDRIVEPATH}/data/nyt_train.csv\")\n",
        "\n",
        "df = df[[\"content\"]]\n",
        "display(df)"
      ]
    },
    {
      "cell_type": "markdown",
      "metadata": {
        "id": "kTP4OLnofiyO"
      },
      "source": [
        "## PARAMS"
      ]
    },
    {
      "cell_type": "code",
      "execution_count": null,
      "metadata": {
        "id": "rTK0Ba6JfiCW"
      },
      "outputs": [],
      "source": [
        "N = 6"
      ]
    },
    {
      "cell_type": "markdown",
      "metadata": {
        "id": "nmlqmWiQ5cEo"
      },
      "source": [
        "## Preprocessing"
      ]
    },
    {
      "cell_type": "code",
      "execution_count": null,
      "metadata": {
        "id": "3Wx_3ga65eGY"
      },
      "outputs": [],
      "source": [
        "the_corpus = list(df['content'].apply(nltk.word_tokenize))\n",
        "train_data, padded_sents = padded_everygram_pipeline(N, the_corpus)"
      ]
    },
    {
      "cell_type": "markdown",
      "metadata": {
        "id": "PIzQPXzS_pXB"
      },
      "source": [
        "## Training"
      ]
    },
    {
      "cell_type": "code",
      "execution_count": null,
      "metadata": {
        "id": "8i4kt9KB6I7E",
        "colab": {
          "base_uri": "https://localhost:8080/",
          "height": 331
        },
        "outputId": "07798a98-6db8-4bac-c98d-4235e0b70155"
      },
      "outputs": [
        {
          "output_type": "error",
          "ename": "KeyboardInterrupt",
          "evalue": "ignored",
          "traceback": [
            "\u001b[0;31m---------------------------------------------------------------------------\u001b[0m",
            "\u001b[0;31mKeyboardInterrupt\u001b[0m                         Traceback (most recent call last)",
            "\u001b[0;32m<ipython-input-11-0f203b38b966>\u001b[0m in \u001b[0;36m<cell line: 2>\u001b[0;34m()\u001b[0m\n\u001b[1;32m      1\u001b[0m \u001b[0mthe_model\u001b[0m \u001b[0;34m=\u001b[0m \u001b[0mnltk\u001b[0m\u001b[0;34m.\u001b[0m\u001b[0mlm\u001b[0m\u001b[0;34m.\u001b[0m\u001b[0mMLE\u001b[0m\u001b[0;34m(\u001b[0m\u001b[0mN\u001b[0m\u001b[0;34m)\u001b[0m\u001b[0;34m\u001b[0m\u001b[0;34m\u001b[0m\u001b[0m\n\u001b[0;32m----> 2\u001b[0;31m \u001b[0mthe_model\u001b[0m\u001b[0;34m.\u001b[0m\u001b[0mfit\u001b[0m\u001b[0;34m(\u001b[0m\u001b[0mtrain_data\u001b[0m\u001b[0;34m,\u001b[0m \u001b[0mpadded_sents\u001b[0m\u001b[0;34m)\u001b[0m\u001b[0;34m\u001b[0m\u001b[0;34m\u001b[0m\u001b[0m\n\u001b[0m",
            "\u001b[0;32m/usr/local/lib/python3.10/dist-packages/nltk/lm/api.py\u001b[0m in \u001b[0;36mfit\u001b[0;34m(self, text, vocabulary_text)\u001b[0m\n\u001b[1;32m    114\u001b[0m                 )\n\u001b[1;32m    115\u001b[0m             \u001b[0mself\u001b[0m\u001b[0;34m.\u001b[0m\u001b[0mvocab\u001b[0m\u001b[0;34m.\u001b[0m\u001b[0mupdate\u001b[0m\u001b[0;34m(\u001b[0m\u001b[0mvocabulary_text\u001b[0m\u001b[0;34m)\u001b[0m\u001b[0;34m\u001b[0m\u001b[0;34m\u001b[0m\u001b[0m\n\u001b[0;32m--> 116\u001b[0;31m         \u001b[0mself\u001b[0m\u001b[0;34m.\u001b[0m\u001b[0mcounts\u001b[0m\u001b[0;34m.\u001b[0m\u001b[0mupdate\u001b[0m\u001b[0;34m(\u001b[0m\u001b[0mself\u001b[0m\u001b[0;34m.\u001b[0m\u001b[0mvocab\u001b[0m\u001b[0;34m.\u001b[0m\u001b[0mlookup\u001b[0m\u001b[0;34m(\u001b[0m\u001b[0msent\u001b[0m\u001b[0;34m)\u001b[0m \u001b[0;32mfor\u001b[0m \u001b[0msent\u001b[0m \u001b[0;32min\u001b[0m \u001b[0mtext\u001b[0m\u001b[0;34m)\u001b[0m\u001b[0;34m\u001b[0m\u001b[0;34m\u001b[0m\u001b[0m\n\u001b[0m\u001b[1;32m    117\u001b[0m \u001b[0;34m\u001b[0m\u001b[0m\n\u001b[1;32m    118\u001b[0m     \u001b[0;32mdef\u001b[0m \u001b[0mscore\u001b[0m\u001b[0;34m(\u001b[0m\u001b[0mself\u001b[0m\u001b[0;34m,\u001b[0m \u001b[0mword\u001b[0m\u001b[0;34m,\u001b[0m \u001b[0mcontext\u001b[0m\u001b[0;34m=\u001b[0m\u001b[0;32mNone\u001b[0m\u001b[0;34m)\u001b[0m\u001b[0;34m:\u001b[0m\u001b[0;34m\u001b[0m\u001b[0;34m\u001b[0m\u001b[0m\n",
            "\u001b[0;32m/usr/local/lib/python3.10/dist-packages/nltk/lm/counter.py\u001b[0m in \u001b[0;36mupdate\u001b[0;34m(self, ngram_text)\u001b[0m\n\u001b[1;32m    114\u001b[0m         \"\"\"\n\u001b[1;32m    115\u001b[0m \u001b[0;34m\u001b[0m\u001b[0m\n\u001b[0;32m--> 116\u001b[0;31m         \u001b[0;32mfor\u001b[0m \u001b[0msent\u001b[0m \u001b[0;32min\u001b[0m \u001b[0mngram_text\u001b[0m\u001b[0;34m:\u001b[0m\u001b[0;34m\u001b[0m\u001b[0;34m\u001b[0m\u001b[0m\n\u001b[0m\u001b[1;32m    117\u001b[0m             \u001b[0;32mfor\u001b[0m \u001b[0mngram\u001b[0m \u001b[0;32min\u001b[0m \u001b[0msent\u001b[0m\u001b[0;34m:\u001b[0m\u001b[0;34m\u001b[0m\u001b[0;34m\u001b[0m\u001b[0m\n\u001b[1;32m    118\u001b[0m                 \u001b[0;32mif\u001b[0m \u001b[0;32mnot\u001b[0m \u001b[0misinstance\u001b[0m\u001b[0;34m(\u001b[0m\u001b[0mngram\u001b[0m\u001b[0;34m,\u001b[0m \u001b[0mtuple\u001b[0m\u001b[0;34m)\u001b[0m\u001b[0;34m:\u001b[0m\u001b[0;34m\u001b[0m\u001b[0;34m\u001b[0m\u001b[0m\n",
            "\u001b[0;32m/usr/local/lib/python3.10/dist-packages/nltk/lm/api.py\u001b[0m in \u001b[0;36m<genexpr>\u001b[0;34m(.0)\u001b[0m\n\u001b[1;32m    114\u001b[0m                 )\n\u001b[1;32m    115\u001b[0m             \u001b[0mself\u001b[0m\u001b[0;34m.\u001b[0m\u001b[0mvocab\u001b[0m\u001b[0;34m.\u001b[0m\u001b[0mupdate\u001b[0m\u001b[0;34m(\u001b[0m\u001b[0mvocabulary_text\u001b[0m\u001b[0;34m)\u001b[0m\u001b[0;34m\u001b[0m\u001b[0;34m\u001b[0m\u001b[0m\n\u001b[0;32m--> 116\u001b[0;31m         \u001b[0mself\u001b[0m\u001b[0;34m.\u001b[0m\u001b[0mcounts\u001b[0m\u001b[0;34m.\u001b[0m\u001b[0mupdate\u001b[0m\u001b[0;34m(\u001b[0m\u001b[0mself\u001b[0m\u001b[0;34m.\u001b[0m\u001b[0mvocab\u001b[0m\u001b[0;34m.\u001b[0m\u001b[0mlookup\u001b[0m\u001b[0;34m(\u001b[0m\u001b[0msent\u001b[0m\u001b[0;34m)\u001b[0m \u001b[0;32mfor\u001b[0m \u001b[0msent\u001b[0m \u001b[0;32min\u001b[0m \u001b[0mtext\u001b[0m\u001b[0;34m)\u001b[0m\u001b[0;34m\u001b[0m\u001b[0;34m\u001b[0m\u001b[0m\n\u001b[0m\u001b[1;32m    117\u001b[0m \u001b[0;34m\u001b[0m\u001b[0m\n\u001b[1;32m    118\u001b[0m     \u001b[0;32mdef\u001b[0m \u001b[0mscore\u001b[0m\u001b[0;34m(\u001b[0m\u001b[0mself\u001b[0m\u001b[0;34m,\u001b[0m \u001b[0mword\u001b[0m\u001b[0;34m,\u001b[0m \u001b[0mcontext\u001b[0m\u001b[0;34m=\u001b[0m\u001b[0;32mNone\u001b[0m\u001b[0;34m)\u001b[0m\u001b[0;34m:\u001b[0m\u001b[0;34m\u001b[0m\u001b[0;34m\u001b[0m\u001b[0m\n",
            "\u001b[0;32m/usr/local/lib/python3.10/dist-packages/nltk/lm/vocabulary.py\u001b[0m in \u001b[0;36mlookup\u001b[0;34m(self, words)\u001b[0m\n\u001b[1;32m    184\u001b[0m \u001b[0;34m\u001b[0m\u001b[0m\n\u001b[1;32m    185\u001b[0m         \"\"\"\n\u001b[0;32m--> 186\u001b[0;31m         \u001b[0;32mreturn\u001b[0m \u001b[0m_dispatched_lookup\u001b[0m\u001b[0;34m(\u001b[0m\u001b[0mwords\u001b[0m\u001b[0;34m,\u001b[0m \u001b[0mself\u001b[0m\u001b[0;34m)\u001b[0m\u001b[0;34m\u001b[0m\u001b[0;34m\u001b[0m\u001b[0m\n\u001b[0m\u001b[1;32m    187\u001b[0m \u001b[0;34m\u001b[0m\u001b[0m\n\u001b[1;32m    188\u001b[0m     \u001b[0;32mdef\u001b[0m \u001b[0m__getitem__\u001b[0m\u001b[0;34m(\u001b[0m\u001b[0mself\u001b[0m\u001b[0;34m,\u001b[0m \u001b[0mitem\u001b[0m\u001b[0;34m)\u001b[0m\u001b[0;34m:\u001b[0m\u001b[0;34m\u001b[0m\u001b[0;34m\u001b[0m\u001b[0m\n",
            "\u001b[0;32m/usr/lib/python3.10/functools.py\u001b[0m in \u001b[0;36mwrapper\u001b[0;34m(*args, **kw)\u001b[0m\n\u001b[1;32m    887\u001b[0m                             '1 positional argument')\n\u001b[1;32m    888\u001b[0m \u001b[0;34m\u001b[0m\u001b[0m\n\u001b[0;32m--> 889\u001b[0;31m         \u001b[0;32mreturn\u001b[0m \u001b[0mdispatch\u001b[0m\u001b[0;34m(\u001b[0m\u001b[0margs\u001b[0m\u001b[0;34m[\u001b[0m\u001b[0;36m0\u001b[0m\u001b[0;34m]\u001b[0m\u001b[0;34m.\u001b[0m\u001b[0m__class__\u001b[0m\u001b[0;34m)\u001b[0m\u001b[0;34m(\u001b[0m\u001b[0;34m*\u001b[0m\u001b[0margs\u001b[0m\u001b[0;34m,\u001b[0m \u001b[0;34m**\u001b[0m\u001b[0mkw\u001b[0m\u001b[0;34m)\u001b[0m\u001b[0;34m\u001b[0m\u001b[0;34m\u001b[0m\u001b[0m\n\u001b[0m\u001b[1;32m    890\u001b[0m \u001b[0;34m\u001b[0m\u001b[0m\n\u001b[1;32m    891\u001b[0m     \u001b[0mfuncname\u001b[0m \u001b[0;34m=\u001b[0m \u001b[0mgetattr\u001b[0m\u001b[0;34m(\u001b[0m\u001b[0mfunc\u001b[0m\u001b[0;34m,\u001b[0m \u001b[0;34m'__name__'\u001b[0m\u001b[0;34m,\u001b[0m \u001b[0;34m'singledispatch function'\u001b[0m\u001b[0;34m)\u001b[0m\u001b[0;34m\u001b[0m\u001b[0;34m\u001b[0m\u001b[0m\n",
            "\u001b[0;32m/usr/local/lib/python3.10/dist-packages/nltk/lm/vocabulary.py\u001b[0m in \u001b[0;36m_\u001b[0;34m(words, vocab)\u001b[0m\n\u001b[1;32m     26\u001b[0m \u001b[0;34m\u001b[0m\u001b[0m\n\u001b[1;32m     27\u001b[0m     \"\"\"\n\u001b[0;32m---> 28\u001b[0;31m     \u001b[0;32mreturn\u001b[0m \u001b[0mtuple\u001b[0m\u001b[0;34m(\u001b[0m\u001b[0m_dispatched_lookup\u001b[0m\u001b[0;34m(\u001b[0m\u001b[0mw\u001b[0m\u001b[0;34m,\u001b[0m \u001b[0mvocab\u001b[0m\u001b[0;34m)\u001b[0m \u001b[0;32mfor\u001b[0m \u001b[0mw\u001b[0m \u001b[0;32min\u001b[0m \u001b[0mwords\u001b[0m\u001b[0;34m)\u001b[0m\u001b[0;34m\u001b[0m\u001b[0;34m\u001b[0m\u001b[0m\n\u001b[0m\u001b[1;32m     29\u001b[0m \u001b[0;34m\u001b[0m\u001b[0m\n\u001b[1;32m     30\u001b[0m \u001b[0;34m\u001b[0m\u001b[0m\n",
            "\u001b[0;32m/usr/local/lib/python3.10/dist-packages/nltk/lm/vocabulary.py\u001b[0m in \u001b[0;36m<genexpr>\u001b[0;34m(.0)\u001b[0m\n\u001b[1;32m     26\u001b[0m \u001b[0;34m\u001b[0m\u001b[0m\n\u001b[1;32m     27\u001b[0m     \"\"\"\n\u001b[0;32m---> 28\u001b[0;31m     \u001b[0;32mreturn\u001b[0m \u001b[0mtuple\u001b[0m\u001b[0;34m(\u001b[0m\u001b[0m_dispatched_lookup\u001b[0m\u001b[0;34m(\u001b[0m\u001b[0mw\u001b[0m\u001b[0;34m,\u001b[0m \u001b[0mvocab\u001b[0m\u001b[0;34m)\u001b[0m \u001b[0;32mfor\u001b[0m \u001b[0mw\u001b[0m \u001b[0;32min\u001b[0m \u001b[0mwords\u001b[0m\u001b[0;34m)\u001b[0m\u001b[0;34m\u001b[0m\u001b[0;34m\u001b[0m\u001b[0m\n\u001b[0m\u001b[1;32m     29\u001b[0m \u001b[0;34m\u001b[0m\u001b[0m\n\u001b[1;32m     30\u001b[0m \u001b[0;34m\u001b[0m\u001b[0m\n",
            "\u001b[0;32m/usr/lib/python3.10/functools.py\u001b[0m in \u001b[0;36mwrapper\u001b[0;34m(*args, **kw)\u001b[0m\n\u001b[1;32m    882\u001b[0m         \u001b[0;32mreturn\u001b[0m \u001b[0mfunc\u001b[0m\u001b[0;34m\u001b[0m\u001b[0;34m\u001b[0m\u001b[0m\n\u001b[1;32m    883\u001b[0m \u001b[0;34m\u001b[0m\u001b[0m\n\u001b[0;32m--> 884\u001b[0;31m     \u001b[0;32mdef\u001b[0m \u001b[0mwrapper\u001b[0m\u001b[0;34m(\u001b[0m\u001b[0;34m*\u001b[0m\u001b[0margs\u001b[0m\u001b[0;34m,\u001b[0m \u001b[0;34m**\u001b[0m\u001b[0mkw\u001b[0m\u001b[0;34m)\u001b[0m\u001b[0;34m:\u001b[0m\u001b[0;34m\u001b[0m\u001b[0;34m\u001b[0m\u001b[0m\n\u001b[0m\u001b[1;32m    885\u001b[0m         \u001b[0;32mif\u001b[0m \u001b[0;32mnot\u001b[0m \u001b[0margs\u001b[0m\u001b[0;34m:\u001b[0m\u001b[0;34m\u001b[0m\u001b[0;34m\u001b[0m\u001b[0m\n\u001b[1;32m    886\u001b[0m             raise TypeError(f'{funcname} requires at least '\n",
            "\u001b[0;31mKeyboardInterrupt\u001b[0m: "
          ]
        }
      ],
      "source": [
        "the_model = nltk.lm.MLE(N)\n",
        "the_model.fit(train_data, padded_sents)"
      ]
    },
    {
      "cell_type": "code",
      "source": [
        "len(the_model.vocab)"
      ],
      "metadata": {
        "id": "BibEhSYiBpYY"
      },
      "execution_count": null,
      "outputs": []
    },
    {
      "cell_type": "code",
      "source": [
        "detokenize = TreebankWordDetokenizer().detokenize\n",
        "\n",
        "def generate_sent(model, num_words, prompt=[\"Graz\"], random_seed=None):\n",
        "    \"\"\"\n",
        "    :param model: An ngram language model from `nltk.lm.model`.\n",
        "    :param num_words: Max no. of words to generate.\n",
        "    :param random_seed: Seed value for random.\n",
        "    \"\"\"\n",
        "    content = []\n",
        "    for token in model.generate(num_words, random_seed=random_seed, text_seed=prompt):\n",
        "        if token == '<s>':\n",
        "            continue\n",
        "        if token == '</s>':\n",
        "            break\n",
        "        content.append(token)\n",
        "    return detokenize(content)\n",
        "\n",
        "prompt = \"MEXICO CITY — Mexico’s most prominent human rights lawyers, journalists and anti-corruption activists have been targeted by advanced spyware sold to the Mexican government on the condition that it be used only to investigate criminals and terrorists. The targets include lawyers looking into the mass disappearance of 43 students, a highly respected academic who helped write anti-corruption legislation, two of Mexico’s most influential journalists and an American representing victims of sexual abuse by the police.\"\n",
        "prompt_tokens = nltk.word_tokenize(prompt)\n",
        "the_gen_text = prompt + generate_sent(the_model, num_words=2000, prompt=prompt_tokens)\n",
        "the_gen_text"
      ],
      "metadata": {
        "colab": {
          "base_uri": "https://localhost:8080/",
          "height": 209
        },
        "id": "ffUEwBSLSyVU",
        "outputId": "5b90da09-f2ff-487e-84f8-9ce5bcf7c044"
      },
      "execution_count": null,
      "outputs": [
        {
          "output_type": "execute_result",
          "data": {
            "text/plain": [
              "'MEXICO CITY — Mexico’s most prominent human rights lawyers, journalists and anti-corruption activists have been targeted by advanced spyware sold to the Mexican government on the condition that it be used only to investigate criminals and terrorists. The targets include lawyers looking into the mass disappearance of 43 students, a highly respected academic who helped write anti-corruption legislation, two of Mexico’s most influential journalists and an American representing victims of sexual abuse by the police.The police have arrested several men for sexually abusing and exploiting women and girls, according to the United Nations, François Delattre, singled out “ strong political instincts ” as Ms. Haley ’ s trademark . Mr. Delattre recalled how Ms. Haley had orchestrated a White House lunch for the Security Council diplomats . “ Now, does everybody like Nikki? ” the president asked . “ They weren ’ t outgoing, ” she said . “ We do not want to stand in the way of a simple, fair tax system, ” the narrator concludes . Another group has been tracking Mr. Donnelly ’ s every public movement for five months, in an effort by all three countries to counter Iran, has diminished Jordan ’ s role as regional mediator with Israel and power broker in the Israeli-Palestinian peace process . “ Now that the F.B.I . has accessed this iPhone, it should disclose the method for doing so to Apple, ” she added . “ We already had a very bad experience of not implementing Minsk 1 . We ’ ll see if we can do the kind of changes that we need . We have to protect our workers. ” Mr. Trump ’ s preparation for those questions has fallen to Secretary of State John Kerry was excluded in recent months . It is unclear who would replace Mr. Baghdadi as the self-declared caliph if he died, a Kurdish official said . But the official said it could not be trusted as a partner . “ President Trump should stay on the golf course and stay out of the campaign ’ s responses to uproars over Mrs. Clinton ’ s private server, pleaded with Americans on Sunday to get out and vote as if their very way of life were on the line . Scrambling across the electoral map, Donald J. Trump and Ben Carson, leaders in many recent polls, are little more than political fads . But Mr. Rubio ’ s loss extinguished that possibility and left a multi-ballot convention fight this summer as mainstream Republicans ’ last avenue to block Mr. Trump with a more palatable alternative . With 358 delegates on the line, Tuesday ’ s voting opened a new phase in the Republican race, who include Marco Rubio of Florida, another 41-year-old Cuban-American and oratorically gifted conservative, who had ridden a wave of Tea Party support two years earlier to victory over his state ’ s Republican governor, Pat McCrory, a former Charlotte mayor who had expressed reservations as recently as Friday about releasing any evidence, said he supported Chief Putney ’ s decision announced on Saturday . He said he was ashamed to ask for government help but listened to a township official who encouraged him to apply for HOME money . “ That program saved me, ” Mr. Brown said of his father . “ I said the first list we ’ ll throw in the trash and the second list — that ’ s who we ’ re going to do when things go wrong, ” he said . “ But I have watched over the years when one party has had control of the White House and found nothing amiss . Security at the White House became a major issue in 2014, when there were several cases of intruders scaling the fence and entering the grounds . In one episode, a mother taking her children to school used her cellphone to film them hovering in fear in a suspended cable car . Two people, a police officer and two civilians, and nine were wounded before the suspect finally surrendered more than five hours after the startling video surfaced online, showing an ailing Mrs. Clinton being helped into a van, that her campaign released a statement from Dr. Bardack saying Mrs. Clinton had been told she had pneumonia and put on antibiotics . The statement said she had become dehydrated and overheated at ground zero . The events quickly intensified pressure on both Mrs. Clinton, 68, beaming next to Mr. Castro, 41, turned out so well that cable networks often show the campaign ’ s images of the two together on screen when Mrs. Clinton calls in for phone interviews . On a Saturday night in Youngstown, Ohio, with the president and his family calm . Mr. Dowd has been at the center of Mr. Trump ’ s talk on trade . “ Given the Tea Party ’ s emergence in heavily Republican districts in 2010 . Mr. McMahon said these struggles would probably move the party to the left, with one immediate result: Democrats in places like California will come under increasing pressure to support single-payer health care, much the same way opposition to the Iraq war, when analysts trusted information from sources they knew little about, and who were later discredited . During his two years in the mountains, Mr. Castro had sketched a social revolution whose aim, at least on the fight against Al Qaeda in the Arabian Peninsula, whose leaders have tried to carry out at least three attacks on the United States . “ This decision was probably necessary if the coalition to defeat the Islamic State by calling for a no-fly zone in Syria . She has praised her husband ’ s economic record as president and offered to put him in charge of pursuing the truth about the president ’ s motive for firing him . “ Was this really about something else? ” Senator Chuck Schumer of New York, the top Democrat on the House Appropriations Committee . “ We will certainly finish any work that Prepa wants us to complete, and stand by our commitments, knowing that we made an important contribution to the restoration of the power grid since our arrival on the island on Oct. 2. ” The company said it had stemmed losses in its biggest cities, and aimed to become “ gross-margin positive ” — that is, a change in how the public views low-wage work — “ before you ’ d actually get an opportunity to organize again. ” Partly in response to the political shift as well as competitive pressure from tighter labor markets, several major employers of low-wage workers have moved to raised their base pay in recent months . Walmart, Target and McDonald ’ s have announced nearly $680 billion in buybacks of their own stock, according to the research and advocacy group BishopAccountability.org, but those examined single dioceses or counties . The Pennsylvania grand jury report lands as the sex abuse scandal in the church has reached a new stage, with calls to discipline bishops who sexually abused younger priests and seminarians, or who have covered up for abusive colleagues . Catholics are calling for independent investigations into why Cardinal McCarrick was advanced up the hierarchy despite warnings to his superiors in Rome and fellow bishops that he had molested seminarians and young priests . Cardinal McCarrick resigned in July over allegations of sexually abusing minors, but since then priests in the diocese of Lincoln, Nebraska, and seminarians in Boston and elsewhere have publicly accused their superiors of turning a blind eye to their housing need, ” said Mr. Chiu . In the Bay Area, the explosive growth of the tech industry has led to escalating rents, opening a tough debate over gentrification and brutal commutes for workers . “ Cities that deny housing are contributing to skyrocketing rents, unfair evictions and homelessness, ” said Lori Droste, a member of the Board of Supervisors . She was there to make a two-minute public comment in favor of a dull-but-important proposal to streamline the permitting process for some affordable-housing projects . Three days later she was back, this time to support a “ density bonus ” — a proposal to let developers build taller buildings in exchange for including more affordable housing as well . When she arrived, Mr. Campos, from the Board of Supervisors and a longtime supporter of the project, to praise the anticipated economic stimulus . Even before the first flake fell, as the storm churned ominously north and local officials cautioned against complacency . At the meeting in the cafeteria Sunday evening at James F. Byrnes High School in Duncan, a small city near the Alabama line that claims to have been the site of the first blast, had climbed to a higher spot of the sidewalk when the second explosion went off . “ I heard a gunshot, ” Chris Norman, a British consultant who helps African entrepreneurs find financing in Europe, said at a news conference . Senator Mitch McConnell, the Republican leader, had stepped back from his earlier criticism of Mr. Moore, saying Alabama voters should “ make the call ” on whether to send Mr. Moore to the Senate . Taken together, the moves would turn the full weight of the federal government behind that, ” said Lisa M. Manheim, an associate professor and election-law scholar at the University of Cambridge in 1976 with a degree in English, started as a journalist at The Cambridge Evening News . He joined The Guardian in 1979, and in 1988 became an editor there . In 1994, he was promoted to his salaried position and now drives a 2015 Nissan Pathfinder . His wife was able to leave her job at a clothing store and take care of their four daughters, ages 10 to 24, if anything were to happen to her . Her mother, Maria Hernandez, said: “ We came to the conclusion that there is no justification in giving Adolf Eichmann a pardon or easing the sentence imposed on him. ” At midnight on June 1, 1962, just days after he was rebuked and fined $1,500 for assigning an on-duty subordinate to drive him and his family to the airport for a trip to Las Vegas to wager on March Madness or the Super Bowl could soon seem quaint . The law the decision overturned — the Professional and Amateur Sports Protection Act, or Paspa, which was passed in 1992 . Now, in a process known as en banc . The process would require every judge on the appeals court that heard the case, and Justice Kagan formerly served as United States solicitor general . They had presumably been involved in the case in those capacities . Justice Stephen G. Breyer followed, working his way through his dissent mildly and analytically . Then it was Justice Sonia Sotomayor ’ s turn . Steely and unwavering, she began: “ The United States of America is a nation built on the principle of religious tolerance . We must protect our houses of worship & religious centers . #JCC. ” JCC is the abbreviation for Jewish community centers . Morton A. Klein, the president of the Lawyers ’ Committee for Civil Rights Under Law, called the statement “ shameful. ” The United Negro College Fund said it had sought “ clarification ” from the White House, a cluster of Senate Democrats began the search for common cause with the unlikely new president, scouring the populist policy agenda that dominated his campaign . For their part, Alabama Republicans are warning of the perils of barring Mr. Moore from the Senate . A write-in campaign, they suggested, would prove fruitless and perhaps help'"
            ],
            "application/vnd.google.colaboratory.intrinsic+json": {
              "type": "string"
            }
          },
          "metadata": {},
          "execution_count": 9
        }
      ]
    },
    {
      "cell_type": "markdown",
      "metadata": {
        "id": "U0A0EihCBhQg"
      },
      "source": [
        "## Save The Model\n",
        "\n",
        "To save the adapter, we rely on the Huggingface hub"
      ]
    },
    {
      "cell_type": "code",
      "execution_count": null,
      "metadata": {
        "id": "RNIx8QcUBiyi"
      },
      "outputs": [],
      "source": [
        "import pickle\n",
        "\n",
        "with open(f\"{GDRIVEPATH}/models/ngram_nyt_{N}.pkl\", 'wb') as f:\n",
        "    pickle.dump(the_model, f)"
      ]
    }
  ],
  "metadata": {
    "colab": {
      "machine_shape": "hm",
      "provenance": [],
      "gpuType": "T4",
      "mount_file_id": "18DJjtCEx2dSV6Zq7DG1zNM63WQIrriL6",
      "authorship_tag": "ABX9TyOQ+d2S5yV8VAHNYjaGr9tb",
      "include_colab_link": true
    },
    "kernelspec": {
      "display_name": "Python 3",
      "name": "python3"
    },
    "language_info": {
      "name": "python"
    }
  },
  "nbformat": 4,
  "nbformat_minor": 0
}