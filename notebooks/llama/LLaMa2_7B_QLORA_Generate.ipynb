{
  "nbformat": 4,
  "nbformat_minor": 0,
  "metadata": {
    "colab": {
      "provenance": [],
      "machine_shape": "hm",
      "gpuType": "T4",
      "mount_file_id": "1O1db3MPUdxvAbLNyMt0AvCeIX00XWYN8",
      "authorship_tag": "ABX9TyPemXEhylCiomVWCnxTQjgh",
      "include_colab_link": true
    },
    "kernelspec": {
      "name": "python3",
      "display_name": "Python 3"
    },
    "language_info": {
      "name": "python"
    },
    "widgets": {
      "application/vnd.jupyter.widget-state+json": {
        "eae3aa3fda0245c7965f319de76408fa": {
          "model_module": "@jupyter-widgets/controls",
          "model_name": "VBoxModel",
          "model_module_version": "1.5.0",
          "state": {
            "_dom_classes": [],
            "_model_module": "@jupyter-widgets/controls",
            "_model_module_version": "1.5.0",
            "_model_name": "VBoxModel",
            "_view_count": null,
            "_view_module": "@jupyter-widgets/controls",
            "_view_module_version": "1.5.0",
            "_view_name": "VBoxView",
            "box_style": "",
            "children": [
              "IPY_MODEL_133cc826f6644d6887c0be5523c35497",
              "IPY_MODEL_c443e69bee794cd8a0f3a5aa319be046",
              "IPY_MODEL_36dd898d49764454b80d15cc48f716e6",
              "IPY_MODEL_a5f4af9541b6451eacd96258b8bd34a7"
            ],
            "layout": "IPY_MODEL_ccbe00acd6774af094ad2fae513fb1d7"
          }
        },
        "47cb56a054294af280070363851f4d82": {
          "model_module": "@jupyter-widgets/controls",
          "model_name": "HTMLModel",
          "model_module_version": "1.5.0",
          "state": {
            "_dom_classes": [],
            "_model_module": "@jupyter-widgets/controls",
            "_model_module_version": "1.5.0",
            "_model_name": "HTMLModel",
            "_view_count": null,
            "_view_module": "@jupyter-widgets/controls",
            "_view_module_version": "1.5.0",
            "_view_name": "HTMLView",
            "description": "",
            "description_tooltip": null,
            "layout": "IPY_MODEL_269e7044e78542a2b952e8530215265b",
            "placeholder": "​",
            "style": "IPY_MODEL_6d8eff37e15945899a717415a5be8429",
            "value": "<center> <img\nsrc=https://huggingface.co/front/assets/huggingface_logo-noborder.svg\nalt='Hugging Face'> <br> Copy a token from <a\nhref=\"https://huggingface.co/settings/tokens\" target=\"_blank\">your Hugging Face\ntokens page</a> and paste it below. <br> Immediately click login after copying\nyour token or it might be stored in plain text in this notebook file. </center>"
          }
        },
        "5832f66dc08f44eea170a29c635a7852": {
          "model_module": "@jupyter-widgets/controls",
          "model_name": "PasswordModel",
          "model_module_version": "1.5.0",
          "state": {
            "_dom_classes": [],
            "_model_module": "@jupyter-widgets/controls",
            "_model_module_version": "1.5.0",
            "_model_name": "PasswordModel",
            "_view_count": null,
            "_view_module": "@jupyter-widgets/controls",
            "_view_module_version": "1.5.0",
            "_view_name": "PasswordView",
            "continuous_update": true,
            "description": "Token:",
            "description_tooltip": null,
            "disabled": false,
            "layout": "IPY_MODEL_72804752973c4f3e823c3f9cb311d2cb",
            "placeholder": "​",
            "style": "IPY_MODEL_d3de5a064a8e44d5b38d2c8d44fb2d6d",
            "value": ""
          }
        },
        "46364617a92248ee863788bb902d3ecc": {
          "model_module": "@jupyter-widgets/controls",
          "model_name": "CheckboxModel",
          "model_module_version": "1.5.0",
          "state": {
            "_dom_classes": [],
            "_model_module": "@jupyter-widgets/controls",
            "_model_module_version": "1.5.0",
            "_model_name": "CheckboxModel",
            "_view_count": null,
            "_view_module": "@jupyter-widgets/controls",
            "_view_module_version": "1.5.0",
            "_view_name": "CheckboxView",
            "description": "Add token as git credential?",
            "description_tooltip": null,
            "disabled": false,
            "indent": true,
            "layout": "IPY_MODEL_a0abf1dd02d348a8bc016b7614afb9ac",
            "style": "IPY_MODEL_bcad21e6337546e1a260a0bea253298d",
            "value": true
          }
        },
        "e74a873e159d46269e8de9fa706929e5": {
          "model_module": "@jupyter-widgets/controls",
          "model_name": "ButtonModel",
          "model_module_version": "1.5.0",
          "state": {
            "_dom_classes": [],
            "_model_module": "@jupyter-widgets/controls",
            "_model_module_version": "1.5.0",
            "_model_name": "ButtonModel",
            "_view_count": null,
            "_view_module": "@jupyter-widgets/controls",
            "_view_module_version": "1.5.0",
            "_view_name": "ButtonView",
            "button_style": "",
            "description": "Login",
            "disabled": false,
            "icon": "",
            "layout": "IPY_MODEL_1dfc30af20244c319280b0e29639e3fc",
            "style": "IPY_MODEL_1944122081f249ae9445f6a7450825d3",
            "tooltip": ""
          }
        },
        "bf57032a4db64f8397461da01178c5e2": {
          "model_module": "@jupyter-widgets/controls",
          "model_name": "HTMLModel",
          "model_module_version": "1.5.0",
          "state": {
            "_dom_classes": [],
            "_model_module": "@jupyter-widgets/controls",
            "_model_module_version": "1.5.0",
            "_model_name": "HTMLModel",
            "_view_count": null,
            "_view_module": "@jupyter-widgets/controls",
            "_view_module_version": "1.5.0",
            "_view_name": "HTMLView",
            "description": "",
            "description_tooltip": null,
            "layout": "IPY_MODEL_972f4dde14e547d9857aa0beb78882fc",
            "placeholder": "​",
            "style": "IPY_MODEL_af23d0abc3cd4b64baa3edef9aa1e827",
            "value": "\n<b>Pro Tip:</b> If you don't already have one, you can create a dedicated\n'notebooks' token with 'write' access, that you can then easily reuse for all\nnotebooks. </center>"
          }
        },
        "ccbe00acd6774af094ad2fae513fb1d7": {
          "model_module": "@jupyter-widgets/base",
          "model_name": "LayoutModel",
          "model_module_version": "1.2.0",
          "state": {
            "_model_module": "@jupyter-widgets/base",
            "_model_module_version": "1.2.0",
            "_model_name": "LayoutModel",
            "_view_count": null,
            "_view_module": "@jupyter-widgets/base",
            "_view_module_version": "1.2.0",
            "_view_name": "LayoutView",
            "align_content": null,
            "align_items": "center",
            "align_self": null,
            "border": null,
            "bottom": null,
            "display": "flex",
            "flex": null,
            "flex_flow": "column",
            "grid_area": null,
            "grid_auto_columns": null,
            "grid_auto_flow": null,
            "grid_auto_rows": null,
            "grid_column": null,
            "grid_gap": null,
            "grid_row": null,
            "grid_template_areas": null,
            "grid_template_columns": null,
            "grid_template_rows": null,
            "height": null,
            "justify_content": null,
            "justify_items": null,
            "left": null,
            "margin": null,
            "max_height": null,
            "max_width": null,
            "min_height": null,
            "min_width": null,
            "object_fit": null,
            "object_position": null,
            "order": null,
            "overflow": null,
            "overflow_x": null,
            "overflow_y": null,
            "padding": null,
            "right": null,
            "top": null,
            "visibility": null,
            "width": "50%"
          }
        },
        "269e7044e78542a2b952e8530215265b": {
          "model_module": "@jupyter-widgets/base",
          "model_name": "LayoutModel",
          "model_module_version": "1.2.0",
          "state": {
            "_model_module": "@jupyter-widgets/base",
            "_model_module_version": "1.2.0",
            "_model_name": "LayoutModel",
            "_view_count": null,
            "_view_module": "@jupyter-widgets/base",
            "_view_module_version": "1.2.0",
            "_view_name": "LayoutView",
            "align_content": null,
            "align_items": null,
            "align_self": null,
            "border": null,
            "bottom": null,
            "display": null,
            "flex": null,
            "flex_flow": null,
            "grid_area": null,
            "grid_auto_columns": null,
            "grid_auto_flow": null,
            "grid_auto_rows": null,
            "grid_column": null,
            "grid_gap": null,
            "grid_row": null,
            "grid_template_areas": null,
            "grid_template_columns": null,
            "grid_template_rows": null,
            "height": null,
            "justify_content": null,
            "justify_items": null,
            "left": null,
            "margin": null,
            "max_height": null,
            "max_width": null,
            "min_height": null,
            "min_width": null,
            "object_fit": null,
            "object_position": null,
            "order": null,
            "overflow": null,
            "overflow_x": null,
            "overflow_y": null,
            "padding": null,
            "right": null,
            "top": null,
            "visibility": null,
            "width": null
          }
        },
        "6d8eff37e15945899a717415a5be8429": {
          "model_module": "@jupyter-widgets/controls",
          "model_name": "DescriptionStyleModel",
          "model_module_version": "1.5.0",
          "state": {
            "_model_module": "@jupyter-widgets/controls",
            "_model_module_version": "1.5.0",
            "_model_name": "DescriptionStyleModel",
            "_view_count": null,
            "_view_module": "@jupyter-widgets/base",
            "_view_module_version": "1.2.0",
            "_view_name": "StyleView",
            "description_width": ""
          }
        },
        "72804752973c4f3e823c3f9cb311d2cb": {
          "model_module": "@jupyter-widgets/base",
          "model_name": "LayoutModel",
          "model_module_version": "1.2.0",
          "state": {
            "_model_module": "@jupyter-widgets/base",
            "_model_module_version": "1.2.0",
            "_model_name": "LayoutModel",
            "_view_count": null,
            "_view_module": "@jupyter-widgets/base",
            "_view_module_version": "1.2.0",
            "_view_name": "LayoutView",
            "align_content": null,
            "align_items": null,
            "align_self": null,
            "border": null,
            "bottom": null,
            "display": null,
            "flex": null,
            "flex_flow": null,
            "grid_area": null,
            "grid_auto_columns": null,
            "grid_auto_flow": null,
            "grid_auto_rows": null,
            "grid_column": null,
            "grid_gap": null,
            "grid_row": null,
            "grid_template_areas": null,
            "grid_template_columns": null,
            "grid_template_rows": null,
            "height": null,
            "justify_content": null,
            "justify_items": null,
            "left": null,
            "margin": null,
            "max_height": null,
            "max_width": null,
            "min_height": null,
            "min_width": null,
            "object_fit": null,
            "object_position": null,
            "order": null,
            "overflow": null,
            "overflow_x": null,
            "overflow_y": null,
            "padding": null,
            "right": null,
            "top": null,
            "visibility": null,
            "width": null
          }
        },
        "d3de5a064a8e44d5b38d2c8d44fb2d6d": {
          "model_module": "@jupyter-widgets/controls",
          "model_name": "DescriptionStyleModel",
          "model_module_version": "1.5.0",
          "state": {
            "_model_module": "@jupyter-widgets/controls",
            "_model_module_version": "1.5.0",
            "_model_name": "DescriptionStyleModel",
            "_view_count": null,
            "_view_module": "@jupyter-widgets/base",
            "_view_module_version": "1.2.0",
            "_view_name": "StyleView",
            "description_width": ""
          }
        },
        "a0abf1dd02d348a8bc016b7614afb9ac": {
          "model_module": "@jupyter-widgets/base",
          "model_name": "LayoutModel",
          "model_module_version": "1.2.0",
          "state": {
            "_model_module": "@jupyter-widgets/base",
            "_model_module_version": "1.2.0",
            "_model_name": "LayoutModel",
            "_view_count": null,
            "_view_module": "@jupyter-widgets/base",
            "_view_module_version": "1.2.0",
            "_view_name": "LayoutView",
            "align_content": null,
            "align_items": null,
            "align_self": null,
            "border": null,
            "bottom": null,
            "display": null,
            "flex": null,
            "flex_flow": null,
            "grid_area": null,
            "grid_auto_columns": null,
            "grid_auto_flow": null,
            "grid_auto_rows": null,
            "grid_column": null,
            "grid_gap": null,
            "grid_row": null,
            "grid_template_areas": null,
            "grid_template_columns": null,
            "grid_template_rows": null,
            "height": null,
            "justify_content": null,
            "justify_items": null,
            "left": null,
            "margin": null,
            "max_height": null,
            "max_width": null,
            "min_height": null,
            "min_width": null,
            "object_fit": null,
            "object_position": null,
            "order": null,
            "overflow": null,
            "overflow_x": null,
            "overflow_y": null,
            "padding": null,
            "right": null,
            "top": null,
            "visibility": null,
            "width": null
          }
        },
        "bcad21e6337546e1a260a0bea253298d": {
          "model_module": "@jupyter-widgets/controls",
          "model_name": "DescriptionStyleModel",
          "model_module_version": "1.5.0",
          "state": {
            "_model_module": "@jupyter-widgets/controls",
            "_model_module_version": "1.5.0",
            "_model_name": "DescriptionStyleModel",
            "_view_count": null,
            "_view_module": "@jupyter-widgets/base",
            "_view_module_version": "1.2.0",
            "_view_name": "StyleView",
            "description_width": ""
          }
        },
        "1dfc30af20244c319280b0e29639e3fc": {
          "model_module": "@jupyter-widgets/base",
          "model_name": "LayoutModel",
          "model_module_version": "1.2.0",
          "state": {
            "_model_module": "@jupyter-widgets/base",
            "_model_module_version": "1.2.0",
            "_model_name": "LayoutModel",
            "_view_count": null,
            "_view_module": "@jupyter-widgets/base",
            "_view_module_version": "1.2.0",
            "_view_name": "LayoutView",
            "align_content": null,
            "align_items": null,
            "align_self": null,
            "border": null,
            "bottom": null,
            "display": null,
            "flex": null,
            "flex_flow": null,
            "grid_area": null,
            "grid_auto_columns": null,
            "grid_auto_flow": null,
            "grid_auto_rows": null,
            "grid_column": null,
            "grid_gap": null,
            "grid_row": null,
            "grid_template_areas": null,
            "grid_template_columns": null,
            "grid_template_rows": null,
            "height": null,
            "justify_content": null,
            "justify_items": null,
            "left": null,
            "margin": null,
            "max_height": null,
            "max_width": null,
            "min_height": null,
            "min_width": null,
            "object_fit": null,
            "object_position": null,
            "order": null,
            "overflow": null,
            "overflow_x": null,
            "overflow_y": null,
            "padding": null,
            "right": null,
            "top": null,
            "visibility": null,
            "width": null
          }
        },
        "1944122081f249ae9445f6a7450825d3": {
          "model_module": "@jupyter-widgets/controls",
          "model_name": "ButtonStyleModel",
          "model_module_version": "1.5.0",
          "state": {
            "_model_module": "@jupyter-widgets/controls",
            "_model_module_version": "1.5.0",
            "_model_name": "ButtonStyleModel",
            "_view_count": null,
            "_view_module": "@jupyter-widgets/base",
            "_view_module_version": "1.2.0",
            "_view_name": "StyleView",
            "button_color": null,
            "font_weight": ""
          }
        },
        "972f4dde14e547d9857aa0beb78882fc": {
          "model_module": "@jupyter-widgets/base",
          "model_name": "LayoutModel",
          "model_module_version": "1.2.0",
          "state": {
            "_model_module": "@jupyter-widgets/base",
            "_model_module_version": "1.2.0",
            "_model_name": "LayoutModel",
            "_view_count": null,
            "_view_module": "@jupyter-widgets/base",
            "_view_module_version": "1.2.0",
            "_view_name": "LayoutView",
            "align_content": null,
            "align_items": null,
            "align_self": null,
            "border": null,
            "bottom": null,
            "display": null,
            "flex": null,
            "flex_flow": null,
            "grid_area": null,
            "grid_auto_columns": null,
            "grid_auto_flow": null,
            "grid_auto_rows": null,
            "grid_column": null,
            "grid_gap": null,
            "grid_row": null,
            "grid_template_areas": null,
            "grid_template_columns": null,
            "grid_template_rows": null,
            "height": null,
            "justify_content": null,
            "justify_items": null,
            "left": null,
            "margin": null,
            "max_height": null,
            "max_width": null,
            "min_height": null,
            "min_width": null,
            "object_fit": null,
            "object_position": null,
            "order": null,
            "overflow": null,
            "overflow_x": null,
            "overflow_y": null,
            "padding": null,
            "right": null,
            "top": null,
            "visibility": null,
            "width": null
          }
        },
        "af23d0abc3cd4b64baa3edef9aa1e827": {
          "model_module": "@jupyter-widgets/controls",
          "model_name": "DescriptionStyleModel",
          "model_module_version": "1.5.0",
          "state": {
            "_model_module": "@jupyter-widgets/controls",
            "_model_module_version": "1.5.0",
            "_model_name": "DescriptionStyleModel",
            "_view_count": null,
            "_view_module": "@jupyter-widgets/base",
            "_view_module_version": "1.2.0",
            "_view_name": "StyleView",
            "description_width": ""
          }
        },
        "d8f286a7cc774b299df08f11b7e3c7af": {
          "model_module": "@jupyter-widgets/controls",
          "model_name": "LabelModel",
          "model_module_version": "1.5.0",
          "state": {
            "_dom_classes": [],
            "_model_module": "@jupyter-widgets/controls",
            "_model_module_version": "1.5.0",
            "_model_name": "LabelModel",
            "_view_count": null,
            "_view_module": "@jupyter-widgets/controls",
            "_view_module_version": "1.5.0",
            "_view_name": "LabelView",
            "description": "",
            "description_tooltip": null,
            "layout": "IPY_MODEL_7f072746eb2946fca66bd046adee04e4",
            "placeholder": "​",
            "style": "IPY_MODEL_da8f148a8e5f4f8f9ea48715a672985e",
            "value": "Connecting..."
          }
        },
        "7f072746eb2946fca66bd046adee04e4": {
          "model_module": "@jupyter-widgets/base",
          "model_name": "LayoutModel",
          "model_module_version": "1.2.0",
          "state": {
            "_model_module": "@jupyter-widgets/base",
            "_model_module_version": "1.2.0",
            "_model_name": "LayoutModel",
            "_view_count": null,
            "_view_module": "@jupyter-widgets/base",
            "_view_module_version": "1.2.0",
            "_view_name": "LayoutView",
            "align_content": null,
            "align_items": null,
            "align_self": null,
            "border": null,
            "bottom": null,
            "display": null,
            "flex": null,
            "flex_flow": null,
            "grid_area": null,
            "grid_auto_columns": null,
            "grid_auto_flow": null,
            "grid_auto_rows": null,
            "grid_column": null,
            "grid_gap": null,
            "grid_row": null,
            "grid_template_areas": null,
            "grid_template_columns": null,
            "grid_template_rows": null,
            "height": null,
            "justify_content": null,
            "justify_items": null,
            "left": null,
            "margin": null,
            "max_height": null,
            "max_width": null,
            "min_height": null,
            "min_width": null,
            "object_fit": null,
            "object_position": null,
            "order": null,
            "overflow": null,
            "overflow_x": null,
            "overflow_y": null,
            "padding": null,
            "right": null,
            "top": null,
            "visibility": null,
            "width": null
          }
        },
        "da8f148a8e5f4f8f9ea48715a672985e": {
          "model_module": "@jupyter-widgets/controls",
          "model_name": "DescriptionStyleModel",
          "model_module_version": "1.5.0",
          "state": {
            "_model_module": "@jupyter-widgets/controls",
            "_model_module_version": "1.5.0",
            "_model_name": "DescriptionStyleModel",
            "_view_count": null,
            "_view_module": "@jupyter-widgets/base",
            "_view_module_version": "1.2.0",
            "_view_name": "StyleView",
            "description_width": ""
          }
        },
        "133cc826f6644d6887c0be5523c35497": {
          "model_module": "@jupyter-widgets/controls",
          "model_name": "LabelModel",
          "model_module_version": "1.5.0",
          "state": {
            "_dom_classes": [],
            "_model_module": "@jupyter-widgets/controls",
            "_model_module_version": "1.5.0",
            "_model_name": "LabelModel",
            "_view_count": null,
            "_view_module": "@jupyter-widgets/controls",
            "_view_module_version": "1.5.0",
            "_view_name": "LabelView",
            "description": "",
            "description_tooltip": null,
            "layout": "IPY_MODEL_bf4ce214612747fa89a568b080a600b9",
            "placeholder": "​",
            "style": "IPY_MODEL_61765a6e90f644da9f397dc340d903d1",
            "value": "Token is valid (permission: write)."
          }
        },
        "c443e69bee794cd8a0f3a5aa319be046": {
          "model_module": "@jupyter-widgets/controls",
          "model_name": "LabelModel",
          "model_module_version": "1.5.0",
          "state": {
            "_dom_classes": [],
            "_model_module": "@jupyter-widgets/controls",
            "_model_module_version": "1.5.0",
            "_model_name": "LabelModel",
            "_view_count": null,
            "_view_module": "@jupyter-widgets/controls",
            "_view_module_version": "1.5.0",
            "_view_name": "LabelView",
            "description": "",
            "description_tooltip": null,
            "layout": "IPY_MODEL_985d44ea2c0d4d8d97e1f3d0ea5e0ad0",
            "placeholder": "​",
            "style": "IPY_MODEL_1ff486c42b2748919223b4d30652f6c3",
            "value": "Your token has been saved in your configured git credential helpers (store)."
          }
        },
        "36dd898d49764454b80d15cc48f716e6": {
          "model_module": "@jupyter-widgets/controls",
          "model_name": "LabelModel",
          "model_module_version": "1.5.0",
          "state": {
            "_dom_classes": [],
            "_model_module": "@jupyter-widgets/controls",
            "_model_module_version": "1.5.0",
            "_model_name": "LabelModel",
            "_view_count": null,
            "_view_module": "@jupyter-widgets/controls",
            "_view_module_version": "1.5.0",
            "_view_name": "LabelView",
            "description": "",
            "description_tooltip": null,
            "layout": "IPY_MODEL_88df7be19b9949f087fce486fb951837",
            "placeholder": "​",
            "style": "IPY_MODEL_87b79e91fccb46f0becf9838fc5d3f79",
            "value": "Your token has been saved to /root/.cache/huggingface/token"
          }
        },
        "a5f4af9541b6451eacd96258b8bd34a7": {
          "model_module": "@jupyter-widgets/controls",
          "model_name": "LabelModel",
          "model_module_version": "1.5.0",
          "state": {
            "_dom_classes": [],
            "_model_module": "@jupyter-widgets/controls",
            "_model_module_version": "1.5.0",
            "_model_name": "LabelModel",
            "_view_count": null,
            "_view_module": "@jupyter-widgets/controls",
            "_view_module_version": "1.5.0",
            "_view_name": "LabelView",
            "description": "",
            "description_tooltip": null,
            "layout": "IPY_MODEL_87d0b4b3818d434f91a383b7fad01ea5",
            "placeholder": "​",
            "style": "IPY_MODEL_cce7665c4a7a47828123c78c718ea13e",
            "value": "Login successful"
          }
        },
        "bf4ce214612747fa89a568b080a600b9": {
          "model_module": "@jupyter-widgets/base",
          "model_name": "LayoutModel",
          "model_module_version": "1.2.0",
          "state": {
            "_model_module": "@jupyter-widgets/base",
            "_model_module_version": "1.2.0",
            "_model_name": "LayoutModel",
            "_view_count": null,
            "_view_module": "@jupyter-widgets/base",
            "_view_module_version": "1.2.0",
            "_view_name": "LayoutView",
            "align_content": null,
            "align_items": null,
            "align_self": null,
            "border": null,
            "bottom": null,
            "display": null,
            "flex": null,
            "flex_flow": null,
            "grid_area": null,
            "grid_auto_columns": null,
            "grid_auto_flow": null,
            "grid_auto_rows": null,
            "grid_column": null,
            "grid_gap": null,
            "grid_row": null,
            "grid_template_areas": null,
            "grid_template_columns": null,
            "grid_template_rows": null,
            "height": null,
            "justify_content": null,
            "justify_items": null,
            "left": null,
            "margin": null,
            "max_height": null,
            "max_width": null,
            "min_height": null,
            "min_width": null,
            "object_fit": null,
            "object_position": null,
            "order": null,
            "overflow": null,
            "overflow_x": null,
            "overflow_y": null,
            "padding": null,
            "right": null,
            "top": null,
            "visibility": null,
            "width": null
          }
        },
        "61765a6e90f644da9f397dc340d903d1": {
          "model_module": "@jupyter-widgets/controls",
          "model_name": "DescriptionStyleModel",
          "model_module_version": "1.5.0",
          "state": {
            "_model_module": "@jupyter-widgets/controls",
            "_model_module_version": "1.5.0",
            "_model_name": "DescriptionStyleModel",
            "_view_count": null,
            "_view_module": "@jupyter-widgets/base",
            "_view_module_version": "1.2.0",
            "_view_name": "StyleView",
            "description_width": ""
          }
        },
        "985d44ea2c0d4d8d97e1f3d0ea5e0ad0": {
          "model_module": "@jupyter-widgets/base",
          "model_name": "LayoutModel",
          "model_module_version": "1.2.0",
          "state": {
            "_model_module": "@jupyter-widgets/base",
            "_model_module_version": "1.2.0",
            "_model_name": "LayoutModel",
            "_view_count": null,
            "_view_module": "@jupyter-widgets/base",
            "_view_module_version": "1.2.0",
            "_view_name": "LayoutView",
            "align_content": null,
            "align_items": null,
            "align_self": null,
            "border": null,
            "bottom": null,
            "display": null,
            "flex": null,
            "flex_flow": null,
            "grid_area": null,
            "grid_auto_columns": null,
            "grid_auto_flow": null,
            "grid_auto_rows": null,
            "grid_column": null,
            "grid_gap": null,
            "grid_row": null,
            "grid_template_areas": null,
            "grid_template_columns": null,
            "grid_template_rows": null,
            "height": null,
            "justify_content": null,
            "justify_items": null,
            "left": null,
            "margin": null,
            "max_height": null,
            "max_width": null,
            "min_height": null,
            "min_width": null,
            "object_fit": null,
            "object_position": null,
            "order": null,
            "overflow": null,
            "overflow_x": null,
            "overflow_y": null,
            "padding": null,
            "right": null,
            "top": null,
            "visibility": null,
            "width": null
          }
        },
        "1ff486c42b2748919223b4d30652f6c3": {
          "model_module": "@jupyter-widgets/controls",
          "model_name": "DescriptionStyleModel",
          "model_module_version": "1.5.0",
          "state": {
            "_model_module": "@jupyter-widgets/controls",
            "_model_module_version": "1.5.0",
            "_model_name": "DescriptionStyleModel",
            "_view_count": null,
            "_view_module": "@jupyter-widgets/base",
            "_view_module_version": "1.2.0",
            "_view_name": "StyleView",
            "description_width": ""
          }
        },
        "88df7be19b9949f087fce486fb951837": {
          "model_module": "@jupyter-widgets/base",
          "model_name": "LayoutModel",
          "model_module_version": "1.2.0",
          "state": {
            "_model_module": "@jupyter-widgets/base",
            "_model_module_version": "1.2.0",
            "_model_name": "LayoutModel",
            "_view_count": null,
            "_view_module": "@jupyter-widgets/base",
            "_view_module_version": "1.2.0",
            "_view_name": "LayoutView",
            "align_content": null,
            "align_items": null,
            "align_self": null,
            "border": null,
            "bottom": null,
            "display": null,
            "flex": null,
            "flex_flow": null,
            "grid_area": null,
            "grid_auto_columns": null,
            "grid_auto_flow": null,
            "grid_auto_rows": null,
            "grid_column": null,
            "grid_gap": null,
            "grid_row": null,
            "grid_template_areas": null,
            "grid_template_columns": null,
            "grid_template_rows": null,
            "height": null,
            "justify_content": null,
            "justify_items": null,
            "left": null,
            "margin": null,
            "max_height": null,
            "max_width": null,
            "min_height": null,
            "min_width": null,
            "object_fit": null,
            "object_position": null,
            "order": null,
            "overflow": null,
            "overflow_x": null,
            "overflow_y": null,
            "padding": null,
            "right": null,
            "top": null,
            "visibility": null,
            "width": null
          }
        },
        "87b79e91fccb46f0becf9838fc5d3f79": {
          "model_module": "@jupyter-widgets/controls",
          "model_name": "DescriptionStyleModel",
          "model_module_version": "1.5.0",
          "state": {
            "_model_module": "@jupyter-widgets/controls",
            "_model_module_version": "1.5.0",
            "_model_name": "DescriptionStyleModel",
            "_view_count": null,
            "_view_module": "@jupyter-widgets/base",
            "_view_module_version": "1.2.0",
            "_view_name": "StyleView",
            "description_width": ""
          }
        },
        "87d0b4b3818d434f91a383b7fad01ea5": {
          "model_module": "@jupyter-widgets/base",
          "model_name": "LayoutModel",
          "model_module_version": "1.2.0",
          "state": {
            "_model_module": "@jupyter-widgets/base",
            "_model_module_version": "1.2.0",
            "_model_name": "LayoutModel",
            "_view_count": null,
            "_view_module": "@jupyter-widgets/base",
            "_view_module_version": "1.2.0",
            "_view_name": "LayoutView",
            "align_content": null,
            "align_items": null,
            "align_self": null,
            "border": null,
            "bottom": null,
            "display": null,
            "flex": null,
            "flex_flow": null,
            "grid_area": null,
            "grid_auto_columns": null,
            "grid_auto_flow": null,
            "grid_auto_rows": null,
            "grid_column": null,
            "grid_gap": null,
            "grid_row": null,
            "grid_template_areas": null,
            "grid_template_columns": null,
            "grid_template_rows": null,
            "height": null,
            "justify_content": null,
            "justify_items": null,
            "left": null,
            "margin": null,
            "max_height": null,
            "max_width": null,
            "min_height": null,
            "min_width": null,
            "object_fit": null,
            "object_position": null,
            "order": null,
            "overflow": null,
            "overflow_x": null,
            "overflow_y": null,
            "padding": null,
            "right": null,
            "top": null,
            "visibility": null,
            "width": null
          }
        },
        "cce7665c4a7a47828123c78c718ea13e": {
          "model_module": "@jupyter-widgets/controls",
          "model_name": "DescriptionStyleModel",
          "model_module_version": "1.5.0",
          "state": {
            "_model_module": "@jupyter-widgets/controls",
            "_model_module_version": "1.5.0",
            "_model_name": "DescriptionStyleModel",
            "_view_count": null,
            "_view_module": "@jupyter-widgets/base",
            "_view_module_version": "1.2.0",
            "_view_name": "StyleView",
            "description_width": ""
          }
        },
        "2660bdbf8c8843d28730b9a4d6d62330": {
          "model_module": "@jupyter-widgets/controls",
          "model_name": "HBoxModel",
          "model_module_version": "1.5.0",
          "state": {
            "_dom_classes": [],
            "_model_module": "@jupyter-widgets/controls",
            "_model_module_version": "1.5.0",
            "_model_name": "HBoxModel",
            "_view_count": null,
            "_view_module": "@jupyter-widgets/controls",
            "_view_module_version": "1.5.0",
            "_view_name": "HBoxView",
            "box_style": "",
            "children": [
              "IPY_MODEL_39c8d0cb4dbd4c4595bd53a4675b13a0",
              "IPY_MODEL_3540bcdb3604464fbe07daae7f5379c8",
              "IPY_MODEL_83e72a4b8b6f4c43ae3eea40116c7272"
            ],
            "layout": "IPY_MODEL_d767e197745a4603a06563a1c2ffe6d7"
          }
        },
        "39c8d0cb4dbd4c4595bd53a4675b13a0": {
          "model_module": "@jupyter-widgets/controls",
          "model_name": "HTMLModel",
          "model_module_version": "1.5.0",
          "state": {
            "_dom_classes": [],
            "_model_module": "@jupyter-widgets/controls",
            "_model_module_version": "1.5.0",
            "_model_name": "HTMLModel",
            "_view_count": null,
            "_view_module": "@jupyter-widgets/controls",
            "_view_module_version": "1.5.0",
            "_view_name": "HTMLView",
            "description": "",
            "description_tooltip": null,
            "layout": "IPY_MODEL_039abbdbac98451481a97550bf09dd7c",
            "placeholder": "​",
            "style": "IPY_MODEL_c6491735c8dc43f88e8eab1442fb935a",
            "value": "Loading checkpoint shards: 100%"
          }
        },
        "3540bcdb3604464fbe07daae7f5379c8": {
          "model_module": "@jupyter-widgets/controls",
          "model_name": "FloatProgressModel",
          "model_module_version": "1.5.0",
          "state": {
            "_dom_classes": [],
            "_model_module": "@jupyter-widgets/controls",
            "_model_module_version": "1.5.0",
            "_model_name": "FloatProgressModel",
            "_view_count": null,
            "_view_module": "@jupyter-widgets/controls",
            "_view_module_version": "1.5.0",
            "_view_name": "ProgressView",
            "bar_style": "success",
            "description": "",
            "description_tooltip": null,
            "layout": "IPY_MODEL_5d45de6110e54072af0fe4d9507c32df",
            "max": 2,
            "min": 0,
            "orientation": "horizontal",
            "style": "IPY_MODEL_108e8ab7ab3342779fe24ad61853be8a",
            "value": 2
          }
        },
        "83e72a4b8b6f4c43ae3eea40116c7272": {
          "model_module": "@jupyter-widgets/controls",
          "model_name": "HTMLModel",
          "model_module_version": "1.5.0",
          "state": {
            "_dom_classes": [],
            "_model_module": "@jupyter-widgets/controls",
            "_model_module_version": "1.5.0",
            "_model_name": "HTMLModel",
            "_view_count": null,
            "_view_module": "@jupyter-widgets/controls",
            "_view_module_version": "1.5.0",
            "_view_name": "HTMLView",
            "description": "",
            "description_tooltip": null,
            "layout": "IPY_MODEL_5677f5a49ad04e578bc36583fd8bcccf",
            "placeholder": "​",
            "style": "IPY_MODEL_da2ef59c0d8d4c39a341fefd24c4f969",
            "value": " 2/2 [00:04&lt;00:00,  2.12s/it]"
          }
        },
        "d767e197745a4603a06563a1c2ffe6d7": {
          "model_module": "@jupyter-widgets/base",
          "model_name": "LayoutModel",
          "model_module_version": "1.2.0",
          "state": {
            "_model_module": "@jupyter-widgets/base",
            "_model_module_version": "1.2.0",
            "_model_name": "LayoutModel",
            "_view_count": null,
            "_view_module": "@jupyter-widgets/base",
            "_view_module_version": "1.2.0",
            "_view_name": "LayoutView",
            "align_content": null,
            "align_items": null,
            "align_self": null,
            "border": null,
            "bottom": null,
            "display": null,
            "flex": null,
            "flex_flow": null,
            "grid_area": null,
            "grid_auto_columns": null,
            "grid_auto_flow": null,
            "grid_auto_rows": null,
            "grid_column": null,
            "grid_gap": null,
            "grid_row": null,
            "grid_template_areas": null,
            "grid_template_columns": null,
            "grid_template_rows": null,
            "height": null,
            "justify_content": null,
            "justify_items": null,
            "left": null,
            "margin": null,
            "max_height": null,
            "max_width": null,
            "min_height": null,
            "min_width": null,
            "object_fit": null,
            "object_position": null,
            "order": null,
            "overflow": null,
            "overflow_x": null,
            "overflow_y": null,
            "padding": null,
            "right": null,
            "top": null,
            "visibility": null,
            "width": null
          }
        },
        "039abbdbac98451481a97550bf09dd7c": {
          "model_module": "@jupyter-widgets/base",
          "model_name": "LayoutModel",
          "model_module_version": "1.2.0",
          "state": {
            "_model_module": "@jupyter-widgets/base",
            "_model_module_version": "1.2.0",
            "_model_name": "LayoutModel",
            "_view_count": null,
            "_view_module": "@jupyter-widgets/base",
            "_view_module_version": "1.2.0",
            "_view_name": "LayoutView",
            "align_content": null,
            "align_items": null,
            "align_self": null,
            "border": null,
            "bottom": null,
            "display": null,
            "flex": null,
            "flex_flow": null,
            "grid_area": null,
            "grid_auto_columns": null,
            "grid_auto_flow": null,
            "grid_auto_rows": null,
            "grid_column": null,
            "grid_gap": null,
            "grid_row": null,
            "grid_template_areas": null,
            "grid_template_columns": null,
            "grid_template_rows": null,
            "height": null,
            "justify_content": null,
            "justify_items": null,
            "left": null,
            "margin": null,
            "max_height": null,
            "max_width": null,
            "min_height": null,
            "min_width": null,
            "object_fit": null,
            "object_position": null,
            "order": null,
            "overflow": null,
            "overflow_x": null,
            "overflow_y": null,
            "padding": null,
            "right": null,
            "top": null,
            "visibility": null,
            "width": null
          }
        },
        "c6491735c8dc43f88e8eab1442fb935a": {
          "model_module": "@jupyter-widgets/controls",
          "model_name": "DescriptionStyleModel",
          "model_module_version": "1.5.0",
          "state": {
            "_model_module": "@jupyter-widgets/controls",
            "_model_module_version": "1.5.0",
            "_model_name": "DescriptionStyleModel",
            "_view_count": null,
            "_view_module": "@jupyter-widgets/base",
            "_view_module_version": "1.2.0",
            "_view_name": "StyleView",
            "description_width": ""
          }
        },
        "5d45de6110e54072af0fe4d9507c32df": {
          "model_module": "@jupyter-widgets/base",
          "model_name": "LayoutModel",
          "model_module_version": "1.2.0",
          "state": {
            "_model_module": "@jupyter-widgets/base",
            "_model_module_version": "1.2.0",
            "_model_name": "LayoutModel",
            "_view_count": null,
            "_view_module": "@jupyter-widgets/base",
            "_view_module_version": "1.2.0",
            "_view_name": "LayoutView",
            "align_content": null,
            "align_items": null,
            "align_self": null,
            "border": null,
            "bottom": null,
            "display": null,
            "flex": null,
            "flex_flow": null,
            "grid_area": null,
            "grid_auto_columns": null,
            "grid_auto_flow": null,
            "grid_auto_rows": null,
            "grid_column": null,
            "grid_gap": null,
            "grid_row": null,
            "grid_template_areas": null,
            "grid_template_columns": null,
            "grid_template_rows": null,
            "height": null,
            "justify_content": null,
            "justify_items": null,
            "left": null,
            "margin": null,
            "max_height": null,
            "max_width": null,
            "min_height": null,
            "min_width": null,
            "object_fit": null,
            "object_position": null,
            "order": null,
            "overflow": null,
            "overflow_x": null,
            "overflow_y": null,
            "padding": null,
            "right": null,
            "top": null,
            "visibility": null,
            "width": null
          }
        },
        "108e8ab7ab3342779fe24ad61853be8a": {
          "model_module": "@jupyter-widgets/controls",
          "model_name": "ProgressStyleModel",
          "model_module_version": "1.5.0",
          "state": {
            "_model_module": "@jupyter-widgets/controls",
            "_model_module_version": "1.5.0",
            "_model_name": "ProgressStyleModel",
            "_view_count": null,
            "_view_module": "@jupyter-widgets/base",
            "_view_module_version": "1.2.0",
            "_view_name": "StyleView",
            "bar_color": null,
            "description_width": ""
          }
        },
        "5677f5a49ad04e578bc36583fd8bcccf": {
          "model_module": "@jupyter-widgets/base",
          "model_name": "LayoutModel",
          "model_module_version": "1.2.0",
          "state": {
            "_model_module": "@jupyter-widgets/base",
            "_model_module_version": "1.2.0",
            "_model_name": "LayoutModel",
            "_view_count": null,
            "_view_module": "@jupyter-widgets/base",
            "_view_module_version": "1.2.0",
            "_view_name": "LayoutView",
            "align_content": null,
            "align_items": null,
            "align_self": null,
            "border": null,
            "bottom": null,
            "display": null,
            "flex": null,
            "flex_flow": null,
            "grid_area": null,
            "grid_auto_columns": null,
            "grid_auto_flow": null,
            "grid_auto_rows": null,
            "grid_column": null,
            "grid_gap": null,
            "grid_row": null,
            "grid_template_areas": null,
            "grid_template_columns": null,
            "grid_template_rows": null,
            "height": null,
            "justify_content": null,
            "justify_items": null,
            "left": null,
            "margin": null,
            "max_height": null,
            "max_width": null,
            "min_height": null,
            "min_width": null,
            "object_fit": null,
            "object_position": null,
            "order": null,
            "overflow": null,
            "overflow_x": null,
            "overflow_y": null,
            "padding": null,
            "right": null,
            "top": null,
            "visibility": null,
            "width": null
          }
        },
        "da2ef59c0d8d4c39a341fefd24c4f969": {
          "model_module": "@jupyter-widgets/controls",
          "model_name": "DescriptionStyleModel",
          "model_module_version": "1.5.0",
          "state": {
            "_model_module": "@jupyter-widgets/controls",
            "_model_module_version": "1.5.0",
            "_model_name": "DescriptionStyleModel",
            "_view_count": null,
            "_view_module": "@jupyter-widgets/base",
            "_view_module_version": "1.2.0",
            "_view_name": "StyleView",
            "description_width": ""
          }
        }
      }
    },
    "accelerator": "GPU"
  },
  "cells": [
    {
      "cell_type": "markdown",
      "metadata": {
        "id": "view-in-github",
        "colab_type": "text"
      },
      "source": [
        "<a href=\"https://colab.research.google.com/github/sudhang/css-nlp/blob/master/llama/LLaMa2_7B_QLORA_Generate.ipynb\" target=\"_parent\"><img src=\"https://colab.research.google.com/assets/colab-badge.svg\" alt=\"Open In Colab\"/></a>"
      ]
    },
    {
      "cell_type": "code",
      "source": [
        "# Make it pretty\n",
        "from IPython.display import HTML, display\n",
        "\n",
        "def set_css():\n",
        "  display(HTML('''\n",
        "  <style>\n",
        "    pre {\n",
        "        white-space: pre-wrap;\n",
        "    }\n",
        "  </style>\n",
        "  '''))\n",
        "get_ipython().events.register('pre_run_cell', set_css)"
      ],
      "metadata": {
        "id": "zXfXqv_XmHtn"
      },
      "execution_count": 1,
      "outputs": []
    },
    {
      "cell_type": "markdown",
      "source": [
        "In this notebook, we will use LLaMa2 from meta, which was released very recently.  We have obtained access from meta, and will fine-tune it using QLORA.  We will do 4-bit quantization, enabling this 7Billion Parameter model to be trained on a free Google Colab\n",
        "\n",
        "We rely a lot on the google colab notebooks and the tutorials provided by huggingface:  https://huggingface.co/blog/4bit-transformers-bitsandbytes\n",
        "\n",
        "Apart form that, we used a number of tutorial blogs and even youtube videos:\n",
        "\n",
        "\n",
        "\n",
        "1.   [Fine-tuning Alpaca and LLaMA: Training on a Custom Dataset](https://www.mlexpert.io/machine-learning/tutorials/alpaca-fine-tuning#user-content-fn-6)\n",
        "2.   [LORA: LOW-RANK ADAPTATION OF LARGE LANGUAGE MODELS](https://arxiv.org/pdf/2106.09685.pdf)\n",
        "3.   [How to Fine-Tune Open-Source LLMs Locally Using QLoRA!](https://youtu.be/2bkrL2ZcOiM)\n",
        "4.   [QLORA: Efficient Finetuning of Quantized LLMs](https://arxiv.org/pdf/2305.14314.pdf)\n",
        "5. [How to generate text: using different decoding methods for language generation with Transformers](https://huggingface.co/blog/how-to-generate)\n",
        "6. [Making LLMs even more accessible with bitsandbytes, 4-bit quantization and QLoRA](https://huggingface.co/blog/4bit-transformers-bitsandbytes)\n",
        "\n",
        "\n",
        "\n",
        "\n",
        "\n"
      ],
      "metadata": {
        "id": "_hDYvccowjpM"
      }
    },
    {
      "cell_type": "markdown",
      "source": [
        "### Installations"
      ],
      "metadata": {
        "id": "GKE7r6Z9w5Hi"
      }
    },
    {
      "cell_type": "code",
      "execution_count": 2,
      "metadata": {
        "colab": {
          "base_uri": "https://localhost:8080/",
          "height": 225
        },
        "id": "hkn_4CgUuUTK",
        "outputId": "bb42f48c-dadd-482a-a103-b036c78e4bfe"
      },
      "outputs": [
        {
          "output_type": "display_data",
          "data": {
            "text/plain": [
              "<IPython.core.display.HTML object>"
            ],
            "text/html": [
              "\n",
              "  <style>\n",
              "    pre {\n",
              "        white-space: pre-wrap;\n",
              "    }\n",
              "  </style>\n",
              "  "
            ]
          },
          "metadata": {}
        },
        {
          "output_type": "stream",
          "name": "stdout",
          "text": [
            "  Installing build dependencies ... \u001b[?25l\u001b[?25hdone\n",
            "  Getting requirements to build wheel ... \u001b[?25l\u001b[?25hdone\n",
            "  Preparing metadata (pyproject.toml) ... \u001b[?25l\u001b[?25hdone\n",
            "  Installing build dependencies ... \u001b[?25l\u001b[?25hdone\n",
            "  Getting requirements to build wheel ... \u001b[?25l\u001b[?25hdone\n",
            "  Preparing metadata (pyproject.toml) ... \u001b[?25l\u001b[?25hdone\n",
            "  Installing build dependencies ... \u001b[?25l\u001b[?25hdone\n",
            "  Getting requirements to build wheel ... \u001b[?25l\u001b[?25hdone\n",
            "  Preparing metadata (pyproject.toml) ... \u001b[?25l\u001b[?25hdone\n",
            "Requirement already satisfied: rouge in /usr/local/lib/python3.10/dist-packages (1.0.1)\n",
            "Requirement already satisfied: six in /usr/local/lib/python3.10/dist-packages (from rouge) (1.16.0)\n"
          ]
        }
      ],
      "source": [
        "!pip install -q -U bitsandbytes\n",
        "!pip install -q -U git+https://github.com/huggingface/transformers.git\n",
        "!pip install -q -U git+https://github.com/huggingface/peft.git\n",
        "!pip install -q -U git+https://github.com/huggingface/accelerate.git\n",
        "!pip install -q datasets\n",
        "!pip install rouge"
      ]
    },
    {
      "cell_type": "markdown",
      "source": [
        "## FLAGS and PARAMS"
      ],
      "metadata": {
        "id": "zsN3gcSo9N-h"
      }
    },
    {
      "cell_type": "code",
      "source": [
        "GDRIVEPATH = \"/content/drive/MyDrive/TU/Sem 4/NLP\""
      ],
      "metadata": {
        "colab": {
          "base_uri": "https://localhost:8080/",
          "height": 17
        },
        "id": "4wb3JlM5hhtE",
        "outputId": "7f384e72-0dc4-45d7-a2cb-de8bc5b3716f"
      },
      "execution_count": 28,
      "outputs": [
        {
          "output_type": "display_data",
          "data": {
            "text/plain": [
              "<IPython.core.display.HTML object>"
            ],
            "text/html": [
              "\n",
              "  <style>\n",
              "    pre {\n",
              "        white-space: pre-wrap;\n",
              "    }\n",
              "  </style>\n",
              "  "
            ]
          },
          "metadata": {}
        }
      ]
    },
    {
      "cell_type": "code",
      "source": [
        "DEBUG = False\n",
        "NUM_TO_GEN = 10"
      ],
      "metadata": {
        "colab": {
          "base_uri": "https://localhost:8080/",
          "height": 17
        },
        "id": "_tjlGXF69PwV",
        "outputId": "e5fa4ec9-f61e-49bd-f512-5ce7e599ef58"
      },
      "execution_count": 4,
      "outputs": [
        {
          "output_type": "display_data",
          "data": {
            "text/plain": [
              "<IPython.core.display.HTML object>"
            ],
            "text/html": [
              "\n",
              "  <style>\n",
              "    pre {\n",
              "        white-space: pre-wrap;\n",
              "    }\n",
              "  </style>\n",
              "  "
            ]
          },
          "metadata": {}
        }
      ]
    },
    {
      "cell_type": "markdown",
      "source": [
        "## Imports\n",
        "\n",
        "To use the llama2 models from huggingface, we need to input an access token."
      ],
      "metadata": {
        "id": "GZUCvVv2xbWw"
      }
    },
    {
      "cell_type": "code",
      "source": [
        "from huggingface_hub import login\n",
        "login()"
      ],
      "metadata": {
        "id": "v0ORKPiLxc5z",
        "colab": {
          "base_uri": "https://localhost:8080/",
          "height": 145,
          "referenced_widgets": [
            "eae3aa3fda0245c7965f319de76408fa",
            "47cb56a054294af280070363851f4d82",
            "5832f66dc08f44eea170a29c635a7852",
            "46364617a92248ee863788bb902d3ecc",
            "e74a873e159d46269e8de9fa706929e5",
            "bf57032a4db64f8397461da01178c5e2",
            "ccbe00acd6774af094ad2fae513fb1d7",
            "269e7044e78542a2b952e8530215265b",
            "6d8eff37e15945899a717415a5be8429",
            "72804752973c4f3e823c3f9cb311d2cb",
            "d3de5a064a8e44d5b38d2c8d44fb2d6d",
            "a0abf1dd02d348a8bc016b7614afb9ac",
            "bcad21e6337546e1a260a0bea253298d",
            "1dfc30af20244c319280b0e29639e3fc",
            "1944122081f249ae9445f6a7450825d3",
            "972f4dde14e547d9857aa0beb78882fc",
            "af23d0abc3cd4b64baa3edef9aa1e827",
            "d8f286a7cc774b299df08f11b7e3c7af",
            "7f072746eb2946fca66bd046adee04e4",
            "da8f148a8e5f4f8f9ea48715a672985e",
            "133cc826f6644d6887c0be5523c35497",
            "c443e69bee794cd8a0f3a5aa319be046",
            "36dd898d49764454b80d15cc48f716e6",
            "a5f4af9541b6451eacd96258b8bd34a7",
            "bf4ce214612747fa89a568b080a600b9",
            "61765a6e90f644da9f397dc340d903d1",
            "985d44ea2c0d4d8d97e1f3d0ea5e0ad0",
            "1ff486c42b2748919223b4d30652f6c3",
            "88df7be19b9949f087fce486fb951837",
            "87b79e91fccb46f0becf9838fc5d3f79",
            "87d0b4b3818d434f91a383b7fad01ea5",
            "cce7665c4a7a47828123c78c718ea13e"
          ]
        },
        "outputId": "04d87a62-00cc-4fe8-e00f-d48bab873ce2"
      },
      "execution_count": 5,
      "outputs": [
        {
          "output_type": "display_data",
          "data": {
            "text/plain": [
              "<IPython.core.display.HTML object>"
            ],
            "text/html": [
              "\n",
              "  <style>\n",
              "    pre {\n",
              "        white-space: pre-wrap;\n",
              "    }\n",
              "  </style>\n",
              "  "
            ]
          },
          "metadata": {}
        },
        {
          "output_type": "display_data",
          "data": {
            "text/plain": [
              "VBox(children=(HTML(value='<center> <img\\nsrc=https://huggingface.co/front/assets/huggingface_logo-noborder.sv…"
            ],
            "application/vnd.jupyter.widget-view+json": {
              "version_major": 2,
              "version_minor": 0,
              "model_id": "eae3aa3fda0245c7965f319de76408fa"
            }
          },
          "metadata": {}
        }
      ]
    },
    {
      "cell_type": "code",
      "source": [
        "import pandas as pd\n",
        "\n",
        "import torch\n",
        "import transformers\n",
        "from transformers import AutoTokenizer\n",
        "from transformers import AutoModelForCausalLM\n",
        "from transformers import BitsAndBytesConfig       # For quantization\n",
        "from peft import prepare_model_for_kbit_training\n",
        "\n",
        "from peft import LoraConfig                       # For LORA\n",
        "from peft import get_peft_model\n",
        "\n",
        "from datasets import Dataset, load_dataset, DatasetDict"
      ],
      "metadata": {
        "id": "wM3YbedRxosD",
        "colab": {
          "base_uri": "https://localhost:8080/",
          "height": 17
        },
        "outputId": "8cdab941-4d03-4514-cd0e-ca2edc68305f"
      },
      "execution_count": 6,
      "outputs": [
        {
          "output_type": "display_data",
          "data": {
            "text/plain": [
              "<IPython.core.display.HTML object>"
            ],
            "text/html": [
              "\n",
              "  <style>\n",
              "    pre {\n",
              "        white-space: pre-wrap;\n",
              "    }\n",
              "  </style>\n",
              "  "
            ]
          },
          "metadata": {}
        }
      ]
    },
    {
      "cell_type": "markdown",
      "source": [
        "## Load a previous model"
      ],
      "metadata": {
        "id": "qwmqKRqsaMSj"
      }
    },
    {
      "cell_type": "code",
      "source": [
        "import torch\n",
        "from peft import PeftModel, PeftConfig\n",
        "from transformers import AutoModelForCausalLM, AutoTokenizer\n",
        "import nltk\n",
        "nltk.download('punkt')\n",
        "\n",
        "adapter_model_id = \"llama2_cssnlp\"\n",
        "peft_model_id = f\"sudhangshankar/{adapter_model_id}\"\n",
        "\n",
        "config = PeftConfig.from_pretrained(peft_model_id)\n",
        "the_base_model = config.base_model_name_or_path"
      ],
      "metadata": {
        "id": "n5T6hQuqaN3A",
        "colab": {
          "base_uri": "https://localhost:8080/",
          "height": 52
        },
        "outputId": "d0652c86-6582-44d8-eb46-3c8f4d2cc3ff"
      },
      "execution_count": 7,
      "outputs": [
        {
          "output_type": "display_data",
          "data": {
            "text/plain": [
              "<IPython.core.display.HTML object>"
            ],
            "text/html": [
              "\n",
              "  <style>\n",
              "    pre {\n",
              "        white-space: pre-wrap;\n",
              "    }\n",
              "  </style>\n",
              "  "
            ]
          },
          "metadata": {}
        },
        {
          "output_type": "stream",
          "name": "stderr",
          "text": [
            "[nltk_data] Downloading package punkt to /root/nltk_data...\n",
            "[nltk_data]   Package punkt is already up-to-date!\n"
          ]
        }
      ]
    },
    {
      "cell_type": "code",
      "source": [
        "config"
      ],
      "metadata": {
        "colab": {
          "base_uri": "https://localhost:8080/",
          "height": 52
        },
        "id": "s5JTfCJJ4364",
        "outputId": "9568380a-4756-4f6b-81a5-5113e5904c75"
      },
      "execution_count": 8,
      "outputs": [
        {
          "output_type": "display_data",
          "data": {
            "text/plain": [
              "<IPython.core.display.HTML object>"
            ],
            "text/html": [
              "\n",
              "  <style>\n",
              "    pre {\n",
              "        white-space: pre-wrap;\n",
              "    }\n",
              "  </style>\n",
              "  "
            ]
          },
          "metadata": {}
        },
        {
          "output_type": "execute_result",
          "data": {
            "text/plain": [
              "PeftConfig(peft_type='LORA', auto_mapping=None, base_model_name_or_path='meta-llama/Llama-2-7b-hf', revision=None, task_type='CAUSAL_LM', inference_mode=True)"
            ]
          },
          "metadata": {},
          "execution_count": 8
        }
      ]
    },
    {
      "cell_type": "code",
      "source": [
        "bnb_config = BitsAndBytesConfig(\n",
        "    load_in_4bit=True,\n",
        "    bnb_4bit_use_double_quant=True,         # nested quantization to preserve memory\n",
        "    bnb_4bit_quant_type=\"nf4\",              # NF4 gives higher precision than FP4\n",
        "    bnb_4bit_compute_dtype=torch.bfloat16\n",
        ")\n",
        "\n",
        "model = AutoModelForCausalLM.from_pretrained(\n",
        "                the_base_model,\n",
        "                return_dict=True,\n",
        "                quantization_config=bnb_config,\n",
        "                device_map='auto'\n",
        "              )\n",
        "tokenizer = AutoTokenizer.from_pretrained(the_base_model)\n",
        "\n",
        "# Load the Lora model\n",
        "model = PeftModel.from_pretrained(model, peft_model_id)\n"
      ],
      "metadata": {
        "colab": {
          "base_uri": "https://localhost:8080/",
          "height": 49,
          "referenced_widgets": [
            "2660bdbf8c8843d28730b9a4d6d62330",
            "39c8d0cb4dbd4c4595bd53a4675b13a0",
            "3540bcdb3604464fbe07daae7f5379c8",
            "83e72a4b8b6f4c43ae3eea40116c7272",
            "d767e197745a4603a06563a1c2ffe6d7",
            "039abbdbac98451481a97550bf09dd7c",
            "c6491735c8dc43f88e8eab1442fb935a",
            "5d45de6110e54072af0fe4d9507c32df",
            "108e8ab7ab3342779fe24ad61853be8a",
            "5677f5a49ad04e578bc36583fd8bcccf",
            "da2ef59c0d8d4c39a341fefd24c4f969"
          ]
        },
        "id": "fQBFR08a6uY6",
        "outputId": "99c72583-8fc0-4ea9-84d7-6c8c00bbd8d5"
      },
      "execution_count": 9,
      "outputs": [
        {
          "output_type": "display_data",
          "data": {
            "text/plain": [
              "<IPython.core.display.HTML object>"
            ],
            "text/html": [
              "\n",
              "  <style>\n",
              "    pre {\n",
              "        white-space: pre-wrap;\n",
              "    }\n",
              "  </style>\n",
              "  "
            ]
          },
          "metadata": {}
        },
        {
          "output_type": "display_data",
          "data": {
            "text/plain": [
              "Loading checkpoint shards:   0%|          | 0/2 [00:00<?, ?it/s]"
            ],
            "application/vnd.jupyter.widget-view+json": {
              "version_major": 2,
              "version_minor": 0,
              "model_id": "2660bdbf8c8843d28730b9a4d6d62330"
            }
          },
          "metadata": {}
        }
      ]
    },
    {
      "cell_type": "markdown",
      "source": [
        "## Generation\n"
      ],
      "metadata": {
        "id": "hOc3mvvkAd3w"
      }
    },
    {
      "cell_type": "code",
      "source": [
        "if DEBUG:\n",
        "  # Generate a prompt\n",
        "  prompt = 'Greek Coast Guard vessels on Saturday evacuated hundreds of tourists and locals trapped in seaside villages on Rhodes that were threatened by five-day-old wildfires, moving them to safer parts of the island.'\n",
        "\n",
        "  device = \"cuda:0\"\n",
        "  inputs = tokenizer(prompt, return_tensors=\"pt\").to(device)\n",
        "\n",
        "  model.config.use_cache = True\n",
        "  outputs = model.generate(**inputs,\n",
        "                  # Use sampling instead of greedy decoding\n",
        "                  do_sample=True,\n",
        "                  # Keep only top 50 token with\n",
        "                  # the highest probability\n",
        "                  top_k=50,\n",
        "                  # Maximum sequence length\n",
        "                  max_length=300,             # TODO: Max token length for LLaMa2 is 4096\n",
        "                  # Keep only the most probable tokens\n",
        "                  # with cumulative probability of 95%\n",
        "                  top_p=0.95,\n",
        "                  # Changes randomness of generated sequences\n",
        "                  temperature=0.7,\n",
        "                  repetition_penalty=1.2,  # Corrected here\n",
        "                  # Number of sequences to generate\n",
        "                  num_return_sequences=1)\n",
        "\n",
        "\n",
        "  for i, sample_output in enumerate(outputs):\n",
        "      print(f\"{i}: {tokenizer.decode(sample_output, skip_special_tokens=True)}\\n\\n\")"
      ],
      "metadata": {
        "id": "MtON793rArzP",
        "colab": {
          "base_uri": "https://localhost:8080/",
          "height": 17
        },
        "outputId": "6b2f4869-549b-471d-836c-e30191b8e1b1"
      },
      "execution_count": 10,
      "outputs": [
        {
          "output_type": "display_data",
          "data": {
            "text/plain": [
              "<IPython.core.display.HTML object>"
            ],
            "text/html": [
              "\n",
              "  <style>\n",
              "    pre {\n",
              "        white-space: pre-wrap;\n",
              "    }\n",
              "  </style>\n",
              "  "
            ]
          },
          "metadata": {}
        }
      ]
    },
    {
      "cell_type": "code",
      "source": [
        "def count_sentences(text_list):\n",
        "    total_sentences = 0\n",
        "    for text in text_list:\n",
        "        sentences = nltk.sent_tokenize(text)\n",
        "        total_sentences += len(sentences)\n",
        "    return total_sentences\n",
        "\n",
        "# Example usage:\n",
        "text_list = [\n",
        "    \"This is the first sentence. This is the second sentence.\",\n",
        "    \"This is another sentence.\"\n",
        "  ]\n",
        "print(count_sentences(text_list))  # Output: 3\n"
      ],
      "metadata": {
        "id": "l-lbmF25HBxa",
        "colab": {
          "base_uri": "https://localhost:8080/",
          "height": 34
        },
        "outputId": "6a611671-6627-4e25-8ebe-705e5487dca6"
      },
      "execution_count": 11,
      "outputs": [
        {
          "output_type": "display_data",
          "data": {
            "text/plain": [
              "<IPython.core.display.HTML object>"
            ],
            "text/html": [
              "\n",
              "  <style>\n",
              "    pre {\n",
              "        white-space: pre-wrap;\n",
              "    }\n",
              "  </style>\n",
              "  "
            ]
          },
          "metadata": {}
        },
        {
          "output_type": "stream",
          "name": "stdout",
          "text": [
            "3\n"
          ]
        }
      ]
    },
    {
      "cell_type": "code",
      "source": [
        "def generate_news_article(prompt=\"Graz, Austria - \", min_sentences = 50):\n",
        "\n",
        "  device = \"cuda:0\"\n",
        "\n",
        "  gen_text_snippets = [prompt]\n",
        "  count_gen_sentences = count_sentences(gen_text_snippets)\n",
        "\n",
        "  while count_gen_sentences < min_sentences:\n",
        "    last_gen_snippet = gen_text_snippets[-1].rstrip('. ')\n",
        "                                                # rstrip('. ') to trick it into\n",
        "                                                # thinking the sentence isn't\n",
        "                                                # over so that it doesn't decide\n",
        "                                                # to go on a tangent\n",
        "\n",
        "    inputs = tokenizer(last_gen_snippet, return_tensors=\"pt\").to(device)\n",
        "\n",
        "    outputs = model.generate(**inputs,\n",
        "                    # Use sampling instead of greedy decoding\n",
        "                    do_sample=True,\n",
        "                    # Keep only top 50 token with\n",
        "                    # the highest probability\n",
        "                    top_k=50,\n",
        "                    # Maximum sequence length\n",
        "                    max_length=1000,             # TODO: Max token length for LLaMa2 is 4096\n",
        "                    # Keep only the most probable tokens\n",
        "                    # with cumulative probability of 95%\n",
        "                    top_p=0.95,\n",
        "                    temperature=0.4,        # Low temperature, since we have such a large sequence being generated\n",
        "                    repetition_penalty=1.2,  # Corrected here\n",
        "                    # Number of sequences to generate\n",
        "                    num_return_sequences=1)\n",
        "\n",
        "    last_gen_snippet_length = len(tokenizer.encode(last_gen_snippet))\n",
        "    gen_text = tokenizer.decode(\n",
        "        outputs[0][last_gen_snippet_length:],\n",
        "        skip_special_tokens=True\n",
        "      )\n",
        "    gen_text_snippets.append(gen_text)\n",
        "    count_gen_sentences = count_sentences(gen_text_snippets)\n",
        "    if DEBUG:\n",
        "      print(f\"{gen_text=}\\n{count_gen_sentences=}====\\n\")\n",
        "\n",
        "  gen_text = \" \".join(gen_text_snippets)\n",
        "\n",
        "  return gen_text\n",
        "\n"
      ],
      "metadata": {
        "id": "M1k87t9WFr9V",
        "colab": {
          "base_uri": "https://localhost:8080/",
          "height": 17
        },
        "outputId": "f0bb6fe6-ef4e-4e36-cff5-5e79a980318b"
      },
      "execution_count": 12,
      "outputs": [
        {
          "output_type": "display_data",
          "data": {
            "text/plain": [
              "<IPython.core.display.HTML object>"
            ],
            "text/html": [
              "\n",
              "  <style>\n",
              "    pre {\n",
              "        white-space: pre-wrap;\n",
              "    }\n",
              "  </style>\n",
              "  "
            ]
          },
          "metadata": {}
        }
      ]
    },
    {
      "cell_type": "code",
      "source": [
        "if DEBUG:\n",
        "  the_prompt = \"NEW DELHI - Thousands of people were evacuated from their homes \"\n",
        "  article = generate_news_article(prompt = the_prompt, min_sentences=51)\n",
        "  display(article)\n",
        "  print(\"\\n\\n\")"
      ],
      "metadata": {
        "id": "U39dHhX7IWP4",
        "colab": {
          "base_uri": "https://localhost:8080/",
          "height": 17
        },
        "outputId": "615fef2a-eaf5-42fe-f367-6cd91a0bc3c8"
      },
      "execution_count": 13,
      "outputs": [
        {
          "output_type": "display_data",
          "data": {
            "text/plain": [
              "<IPython.core.display.HTML object>"
            ],
            "text/html": [
              "\n",
              "  <style>\n",
              "    pre {\n",
              "        white-space: pre-wrap;\n",
              "    }\n",
              "  </style>\n",
              "  "
            ]
          },
          "metadata": {}
        }
      ]
    },
    {
      "cell_type": "code",
      "source": [
        "# Load the csv file\n",
        "df = pd.read_csv(f'{GDRIVEPATH}/data/nyt_test.csv')\n",
        "\n",
        "# Initialize a new dataframe\n",
        "new_df = pd.DataFrame(columns=['Original Article', 'Prompt', 'Generated Article'])\n",
        "\n",
        "for i in range(NUM_TO_GEN):\n",
        "    random_article = df['content'].sample(1).values[0]\n",
        "\n",
        "    sentences = nltk.sent_tokenize(random_article)\n",
        "    # Use the first two sentences of the real article as the prompt\n",
        "    prompt = ' '.join(sentences[:2])\n",
        "\n",
        "    generated_article = generate_news_article(prompt=prompt, min_sentences=51)\n",
        "\n",
        "    current_df = pd.DataFrame({\n",
        "        'Original Article': [random_article],\n",
        "        'Prompt': [prompt],\n",
        "        'Generated Article': [generated_article]\n",
        "    })\n",
        "\n",
        "    # Append the current dataframe to the new dataframe\n",
        "    new_df = pd.concat([new_df, current_df], ignore_index=True)\n",
        "\n",
        "# Post-processing to remove incomplete sentences\n",
        "new_df['Generated Article'] = new_df['Generated Article'].apply(lambda text:\n",
        "                                      ' '.join(nltk.sent_tokenize(text)[:-1])\n",
        "                                      if not text.endswith(('.', '!', '?'))\n",
        "                                      else text\n",
        "                                    )\n"
      ],
      "metadata": {
        "colab": {
          "base_uri": "https://localhost:8080/",
          "height": 121
        },
        "id": "Dgv4qXZTy0AC",
        "outputId": "deaf50f7-d7d8-44e5-f2d0-9b4e49a084a2"
      },
      "execution_count": 14,
      "outputs": [
        {
          "output_type": "display_data",
          "data": {
            "text/plain": [
              "<IPython.core.display.HTML object>"
            ],
            "text/html": [
              "\n",
              "  <style>\n",
              "    pre {\n",
              "        white-space: pre-wrap;\n",
              "    }\n",
              "  </style>\n",
              "  "
            ]
          },
          "metadata": {}
        },
        {
          "output_type": "stream",
          "name": "stderr",
          "text": [
            "/usr/local/lib/python3.10/dist-packages/transformers/generation/utils.py:1270: UserWarning: You have modified the pretrained model configuration to control generation. This is a deprecated strategy to control generation and will be removed soon, in a future version. Please use a generation configuration file (see https://huggingface.co/docs/transformers/main_classes/text_generation )\n",
            "  warnings.warn(\n"
          ]
        }
      ]
    },
    {
      "cell_type": "code",
      "source": [
        "new_df"
      ],
      "metadata": {
        "colab": {
          "base_uri": "https://localhost:8080/",
          "height": 581
        },
        "id": "lZPjyTNsNEGM",
        "outputId": "2cae7c39-cf2a-489f-9a77-71de64dd6a75"
      },
      "execution_count": 16,
      "outputs": [
        {
          "output_type": "display_data",
          "data": {
            "text/plain": [
              "<IPython.core.display.HTML object>"
            ],
            "text/html": [
              "\n",
              "  <style>\n",
              "    pre {\n",
              "        white-space: pre-wrap;\n",
              "    }\n",
              "  </style>\n",
              "  "
            ]
          },
          "metadata": {}
        },
        {
          "output_type": "execute_result",
          "data": {
            "text/plain": [
              "                                    Original Article  \\\n",
              "0  WASHINGTON — After decades of maintaining a mi...   \n",
              "1  KABUL, Afghanistan — Soon, American Embassy em...   \n",
              "2  MEXICO CITY — Mexico’s most prominent human ri...   \n",
              "3  WASHINGTON — Tom Price, the health and human s...   \n",
              "4  • Bruno Mars swept the top categories, winning...   \n",
              "5  A jury in San Diego on Thursday rejected claim...   \n",
              "6  WASHINGTON — A Senate security officer stepped...   \n",
              "7  WASHINGTON — In private, President Trump somet...   \n",
              "8  Wells Fargo’s board said on Monday that it wou...   \n",
              "9  KHOGYANI, Afghanistan — When the American mili...   \n",
              "\n",
              "                                              Prompt  \\\n",
              "0  WASHINGTON — After decades of maintaining a mi...   \n",
              "1  KABUL, Afghanistan — Soon, American Embassy em...   \n",
              "2  MEXICO CITY — Mexico’s most prominent human ri...   \n",
              "3  WASHINGTON — Tom Price, the health and human s...   \n",
              "4  • Bruno Mars swept the top categories, winning...   \n",
              "5  A jury in San Diego on Thursday rejected claim...   \n",
              "6  WASHINGTON — A Senate security officer stepped...   \n",
              "7  WASHINGTON — In private, President Trump somet...   \n",
              "8  Wells Fargo’s board said on Monday that it wou...   \n",
              "9  KHOGYANI, Afghanistan — When the American mili...   \n",
              "\n",
              "                                   Generated Article  \n",
              "0  WASHINGTON — After decades of maintaining a mi...  \n",
              "1  KABUL, Afghanistan — Soon, American Embassy em...  \n",
              "2  MEXICO CITY — Mexico’s most prominent human ri...  \n",
              "3  WASHINGTON — Tom Price, the health and human s...  \n",
              "4  • Bruno Mars swept the top categories, winning...  \n",
              "5  A jury in San Diego on Thursday rejected claim...  \n",
              "6  WASHINGTON — A Senate security officer stepped...  \n",
              "7  WASHINGTON — In private, President Trump somet...  \n",
              "8  Wells Fargo’s board said on Monday that it wou...  \n",
              "9  KHOGYANI, Afghanistan — When the American mili...  "
            ],
            "text/html": [
              "\n",
              "\n",
              "  <div id=\"df-7b8640e0-8f3c-4e11-b2c9-93d06ce4465a\">\n",
              "    <div class=\"colab-df-container\">\n",
              "      <div>\n",
              "<style scoped>\n",
              "    .dataframe tbody tr th:only-of-type {\n",
              "        vertical-align: middle;\n",
              "    }\n",
              "\n",
              "    .dataframe tbody tr th {\n",
              "        vertical-align: top;\n",
              "    }\n",
              "\n",
              "    .dataframe thead th {\n",
              "        text-align: right;\n",
              "    }\n",
              "</style>\n",
              "<table border=\"1\" class=\"dataframe\">\n",
              "  <thead>\n",
              "    <tr style=\"text-align: right;\">\n",
              "      <th></th>\n",
              "      <th>Original Article</th>\n",
              "      <th>Prompt</th>\n",
              "      <th>Generated Article</th>\n",
              "    </tr>\n",
              "  </thead>\n",
              "  <tbody>\n",
              "    <tr>\n",
              "      <th>0</th>\n",
              "      <td>WASHINGTON — After decades of maintaining a mi...</td>\n",
              "      <td>WASHINGTON — After decades of maintaining a mi...</td>\n",
              "      <td>WASHINGTON — After decades of maintaining a mi...</td>\n",
              "    </tr>\n",
              "    <tr>\n",
              "      <th>1</th>\n",
              "      <td>KABUL, Afghanistan — Soon, American Embassy em...</td>\n",
              "      <td>KABUL, Afghanistan — Soon, American Embassy em...</td>\n",
              "      <td>KABUL, Afghanistan — Soon, American Embassy em...</td>\n",
              "    </tr>\n",
              "    <tr>\n",
              "      <th>2</th>\n",
              "      <td>MEXICO CITY — Mexico’s most prominent human ri...</td>\n",
              "      <td>MEXICO CITY — Mexico’s most prominent human ri...</td>\n",
              "      <td>MEXICO CITY — Mexico’s most prominent human ri...</td>\n",
              "    </tr>\n",
              "    <tr>\n",
              "      <th>3</th>\n",
              "      <td>WASHINGTON — Tom Price, the health and human s...</td>\n",
              "      <td>WASHINGTON — Tom Price, the health and human s...</td>\n",
              "      <td>WASHINGTON — Tom Price, the health and human s...</td>\n",
              "    </tr>\n",
              "    <tr>\n",
              "      <th>4</th>\n",
              "      <td>• Bruno Mars swept the top categories, winning...</td>\n",
              "      <td>• Bruno Mars swept the top categories, winning...</td>\n",
              "      <td>• Bruno Mars swept the top categories, winning...</td>\n",
              "    </tr>\n",
              "    <tr>\n",
              "      <th>5</th>\n",
              "      <td>A jury in San Diego on Thursday rejected claim...</td>\n",
              "      <td>A jury in San Diego on Thursday rejected claim...</td>\n",
              "      <td>A jury in San Diego on Thursday rejected claim...</td>\n",
              "    </tr>\n",
              "    <tr>\n",
              "      <th>6</th>\n",
              "      <td>WASHINGTON — A Senate security officer stepped...</td>\n",
              "      <td>WASHINGTON — A Senate security officer stepped...</td>\n",
              "      <td>WASHINGTON — A Senate security officer stepped...</td>\n",
              "    </tr>\n",
              "    <tr>\n",
              "      <th>7</th>\n",
              "      <td>WASHINGTON — In private, President Trump somet...</td>\n",
              "      <td>WASHINGTON — In private, President Trump somet...</td>\n",
              "      <td>WASHINGTON — In private, President Trump somet...</td>\n",
              "    </tr>\n",
              "    <tr>\n",
              "      <th>8</th>\n",
              "      <td>Wells Fargo’s board said on Monday that it wou...</td>\n",
              "      <td>Wells Fargo’s board said on Monday that it wou...</td>\n",
              "      <td>Wells Fargo’s board said on Monday that it wou...</td>\n",
              "    </tr>\n",
              "    <tr>\n",
              "      <th>9</th>\n",
              "      <td>KHOGYANI, Afghanistan — When the American mili...</td>\n",
              "      <td>KHOGYANI, Afghanistan — When the American mili...</td>\n",
              "      <td>KHOGYANI, Afghanistan — When the American mili...</td>\n",
              "    </tr>\n",
              "  </tbody>\n",
              "</table>\n",
              "</div>\n",
              "      <button class=\"colab-df-convert\" onclick=\"convertToInteractive('df-7b8640e0-8f3c-4e11-b2c9-93d06ce4465a')\"\n",
              "              title=\"Convert this dataframe to an interactive table.\"\n",
              "              style=\"display:none;\">\n",
              "\n",
              "  <svg xmlns=\"http://www.w3.org/2000/svg\" height=\"24px\"viewBox=\"0 0 24 24\"\n",
              "       width=\"24px\">\n",
              "    <path d=\"M0 0h24v24H0V0z\" fill=\"none\"/>\n",
              "    <path d=\"M18.56 5.44l.94 2.06.94-2.06 2.06-.94-2.06-.94-.94-2.06-.94 2.06-2.06.94zm-11 1L8.5 8.5l.94-2.06 2.06-.94-2.06-.94L8.5 2.5l-.94 2.06-2.06.94zm10 10l.94 2.06.94-2.06 2.06-.94-2.06-.94-.94-2.06-.94 2.06-2.06.94z\"/><path d=\"M17.41 7.96l-1.37-1.37c-.4-.4-.92-.59-1.43-.59-.52 0-1.04.2-1.43.59L10.3 9.45l-7.72 7.72c-.78.78-.78 2.05 0 2.83L4 21.41c.39.39.9.59 1.41.59.51 0 1.02-.2 1.41-.59l7.78-7.78 2.81-2.81c.8-.78.8-2.07 0-2.86zM5.41 20L4 18.59l7.72-7.72 1.47 1.35L5.41 20z\"/>\n",
              "  </svg>\n",
              "      </button>\n",
              "\n",
              "\n",
              "\n",
              "    <div id=\"df-b001477d-67fb-4090-aa79-a935d99c2137\">\n",
              "      <button class=\"colab-df-quickchart\" onclick=\"quickchart('df-b001477d-67fb-4090-aa79-a935d99c2137')\"\n",
              "              title=\"Suggest charts.\"\n",
              "              style=\"display:none;\">\n",
              "\n",
              "<svg xmlns=\"http://www.w3.org/2000/svg\" height=\"24px\"viewBox=\"0 0 24 24\"\n",
              "     width=\"24px\">\n",
              "    <g>\n",
              "        <path d=\"M19 3H5c-1.1 0-2 .9-2 2v14c0 1.1.9 2 2 2h14c1.1 0 2-.9 2-2V5c0-1.1-.9-2-2-2zM9 17H7v-7h2v7zm4 0h-2V7h2v10zm4 0h-2v-4h2v4z\"/>\n",
              "    </g>\n",
              "</svg>\n",
              "      </button>\n",
              "    </div>\n",
              "\n",
              "<style>\n",
              "  .colab-df-quickchart {\n",
              "    background-color: #E8F0FE;\n",
              "    border: none;\n",
              "    border-radius: 50%;\n",
              "    cursor: pointer;\n",
              "    display: none;\n",
              "    fill: #1967D2;\n",
              "    height: 32px;\n",
              "    padding: 0 0 0 0;\n",
              "    width: 32px;\n",
              "  }\n",
              "\n",
              "  .colab-df-quickchart:hover {\n",
              "    background-color: #E2EBFA;\n",
              "    box-shadow: 0px 1px 2px rgba(60, 64, 67, 0.3), 0px 1px 3px 1px rgba(60, 64, 67, 0.15);\n",
              "    fill: #174EA6;\n",
              "  }\n",
              "\n",
              "  [theme=dark] .colab-df-quickchart {\n",
              "    background-color: #3B4455;\n",
              "    fill: #D2E3FC;\n",
              "  }\n",
              "\n",
              "  [theme=dark] .colab-df-quickchart:hover {\n",
              "    background-color: #434B5C;\n",
              "    box-shadow: 0px 1px 3px 1px rgba(0, 0, 0, 0.15);\n",
              "    filter: drop-shadow(0px 1px 2px rgba(0, 0, 0, 0.3));\n",
              "    fill: #FFFFFF;\n",
              "  }\n",
              "</style>\n",
              "\n",
              "    <script>\n",
              "      async function quickchart(key) {\n",
              "        const containerElement = document.querySelector('#' + key);\n",
              "        const charts = await google.colab.kernel.invokeFunction(\n",
              "            'suggestCharts', [key], {});\n",
              "      }\n",
              "    </script>\n",
              "\n",
              "      <script>\n",
              "\n",
              "function displayQuickchartButton(domScope) {\n",
              "  let quickchartButtonEl =\n",
              "    domScope.querySelector('#df-b001477d-67fb-4090-aa79-a935d99c2137 button.colab-df-quickchart');\n",
              "  quickchartButtonEl.style.display =\n",
              "    google.colab.kernel.accessAllowed ? 'block' : 'none';\n",
              "}\n",
              "\n",
              "        displayQuickchartButton(document);\n",
              "      </script>\n",
              "      <style>\n",
              "    .colab-df-container {\n",
              "      display:flex;\n",
              "      flex-wrap:wrap;\n",
              "      gap: 12px;\n",
              "    }\n",
              "\n",
              "    .colab-df-convert {\n",
              "      background-color: #E8F0FE;\n",
              "      border: none;\n",
              "      border-radius: 50%;\n",
              "      cursor: pointer;\n",
              "      display: none;\n",
              "      fill: #1967D2;\n",
              "      height: 32px;\n",
              "      padding: 0 0 0 0;\n",
              "      width: 32px;\n",
              "    }\n",
              "\n",
              "    .colab-df-convert:hover {\n",
              "      background-color: #E2EBFA;\n",
              "      box-shadow: 0px 1px 2px rgba(60, 64, 67, 0.3), 0px 1px 3px 1px rgba(60, 64, 67, 0.15);\n",
              "      fill: #174EA6;\n",
              "    }\n",
              "\n",
              "    [theme=dark] .colab-df-convert {\n",
              "      background-color: #3B4455;\n",
              "      fill: #D2E3FC;\n",
              "    }\n",
              "\n",
              "    [theme=dark] .colab-df-convert:hover {\n",
              "      background-color: #434B5C;\n",
              "      box-shadow: 0px 1px 3px 1px rgba(0, 0, 0, 0.15);\n",
              "      filter: drop-shadow(0px 1px 2px rgba(0, 0, 0, 0.3));\n",
              "      fill: #FFFFFF;\n",
              "    }\n",
              "  </style>\n",
              "\n",
              "      <script>\n",
              "        const buttonEl =\n",
              "          document.querySelector('#df-7b8640e0-8f3c-4e11-b2c9-93d06ce4465a button.colab-df-convert');\n",
              "        buttonEl.style.display =\n",
              "          google.colab.kernel.accessAllowed ? 'block' : 'none';\n",
              "\n",
              "        async function convertToInteractive(key) {\n",
              "          const element = document.querySelector('#df-7b8640e0-8f3c-4e11-b2c9-93d06ce4465a');\n",
              "          const dataTable =\n",
              "            await google.colab.kernel.invokeFunction('convertToInteractive',\n",
              "                                                     [key], {});\n",
              "          if (!dataTable) return;\n",
              "\n",
              "          const docLinkHtml = 'Like what you see? Visit the ' +\n",
              "            '<a target=\"_blank\" href=https://colab.research.google.com/notebooks/data_table.ipynb>data table notebook</a>'\n",
              "            + ' to learn more about interactive tables.';\n",
              "          element.innerHTML = '';\n",
              "          dataTable['output_type'] = 'display_data';\n",
              "          await google.colab.output.renderOutput(dataTable, element);\n",
              "          const docLink = document.createElement('div');\n",
              "          docLink.innerHTML = docLinkHtml;\n",
              "          element.appendChild(docLink);\n",
              "        }\n",
              "      </script>\n",
              "    </div>\n",
              "  </div>\n"
            ]
          },
          "metadata": {},
          "execution_count": 16
        }
      ]
    },
    {
      "cell_type": "code",
      "source": [
        "# Save the new dataframe to a csv file\n",
        "new_df.to_csv(f'{GDRIVEPATH}/generated/llama2qlora_nyt.csv', index=False)"
      ],
      "metadata": {
        "colab": {
          "base_uri": "https://localhost:8080/",
          "height": 17
        },
        "id": "i3e5y7mx2gwa",
        "outputId": "434b05b5-e1b5-4f52-f4f6-0fbef96a78ed"
      },
      "execution_count": 27,
      "outputs": [
        {
          "output_type": "display_data",
          "data": {
            "text/plain": [
              "<IPython.core.display.HTML object>"
            ],
            "text/html": [
              "\n",
              "  <style>\n",
              "    pre {\n",
              "        white-space: pre-wrap;\n",
              "    }\n",
              "  </style>\n",
              "  "
            ]
          },
          "metadata": {}
        }
      ]
    },
    {
      "cell_type": "code",
      "source": [
        "new_df"
      ],
      "metadata": {
        "colab": {
          "base_uri": "https://localhost:8080/",
          "height": 581
        },
        "id": "UCm5iFPtNpdn",
        "outputId": "4658c45d-6621-463b-8fb4-388af31b214e"
      },
      "execution_count": 21,
      "outputs": [
        {
          "output_type": "display_data",
          "data": {
            "text/plain": [
              "<IPython.core.display.HTML object>"
            ],
            "text/html": [
              "\n",
              "  <style>\n",
              "    pre {\n",
              "        white-space: pre-wrap;\n",
              "    }\n",
              "  </style>\n",
              "  "
            ]
          },
          "metadata": {}
        },
        {
          "output_type": "execute_result",
          "data": {
            "text/plain": [
              "                                    Original Article  \\\n",
              "0  WASHINGTON — After decades of maintaining a mi...   \n",
              "1  KABUL, Afghanistan — Soon, American Embassy em...   \n",
              "2  MEXICO CITY — Mexico’s most prominent human ri...   \n",
              "3  WASHINGTON — Tom Price, the health and human s...   \n",
              "4  • Bruno Mars swept the top categories, winning...   \n",
              "5  A jury in San Diego on Thursday rejected claim...   \n",
              "6  WASHINGTON — A Senate security officer stepped...   \n",
              "7  WASHINGTON — In private, President Trump somet...   \n",
              "8  Wells Fargo’s board said on Monday that it wou...   \n",
              "9  KHOGYANI, Afghanistan — When the American mili...   \n",
              "\n",
              "                                              Prompt  \\\n",
              "0  WASHINGTON — After decades of maintaining a mi...   \n",
              "1  KABUL, Afghanistan — Soon, American Embassy em...   \n",
              "2  MEXICO CITY — Mexico’s most prominent human ri...   \n",
              "3  WASHINGTON — Tom Price, the health and human s...   \n",
              "4  • Bruno Mars swept the top categories, winning...   \n",
              "5  A jury in San Diego on Thursday rejected claim...   \n",
              "6  WASHINGTON — A Senate security officer stepped...   \n",
              "7  WASHINGTON — In private, President Trump somet...   \n",
              "8  Wells Fargo’s board said on Monday that it wou...   \n",
              "9  KHOGYANI, Afghanistan — When the American mili...   \n",
              "\n",
              "                                   Generated Article  \n",
              "0  WASHINGTON — After decades of maintaining a mi...  \n",
              "1  KABUL, Afghanistan — Soon, American Embassy em...  \n",
              "2  MEXICO CITY — Mexico’s most prominent human ri...  \n",
              "3  WASHINGTON — Tom Price, the health and human s...  \n",
              "4  • Bruno Mars swept the top categories, winning...  \n",
              "5  A jury in San Diego on Thursday rejected claim...  \n",
              "6  WASHINGTON — A Senate security officer stepped...  \n",
              "7  WASHINGTON — In private, President Trump somet...  \n",
              "8  Wells Fargo’s board said on Monday that it wou...  \n",
              "9  KHOGYANI, Afghanistan — When the American mili...  "
            ],
            "text/html": [
              "\n",
              "\n",
              "  <div id=\"df-d909459c-f815-4d57-b88b-216243075261\">\n",
              "    <div class=\"colab-df-container\">\n",
              "      <div>\n",
              "<style scoped>\n",
              "    .dataframe tbody tr th:only-of-type {\n",
              "        vertical-align: middle;\n",
              "    }\n",
              "\n",
              "    .dataframe tbody tr th {\n",
              "        vertical-align: top;\n",
              "    }\n",
              "\n",
              "    .dataframe thead th {\n",
              "        text-align: right;\n",
              "    }\n",
              "</style>\n",
              "<table border=\"1\" class=\"dataframe\">\n",
              "  <thead>\n",
              "    <tr style=\"text-align: right;\">\n",
              "      <th></th>\n",
              "      <th>Original Article</th>\n",
              "      <th>Prompt</th>\n",
              "      <th>Generated Article</th>\n",
              "    </tr>\n",
              "  </thead>\n",
              "  <tbody>\n",
              "    <tr>\n",
              "      <th>0</th>\n",
              "      <td>WASHINGTON — After decades of maintaining a mi...</td>\n",
              "      <td>WASHINGTON — After decades of maintaining a mi...</td>\n",
              "      <td>WASHINGTON — After decades of maintaining a mi...</td>\n",
              "    </tr>\n",
              "    <tr>\n",
              "      <th>1</th>\n",
              "      <td>KABUL, Afghanistan — Soon, American Embassy em...</td>\n",
              "      <td>KABUL, Afghanistan — Soon, American Embassy em...</td>\n",
              "      <td>KABUL, Afghanistan — Soon, American Embassy em...</td>\n",
              "    </tr>\n",
              "    <tr>\n",
              "      <th>2</th>\n",
              "      <td>MEXICO CITY — Mexico’s most prominent human ri...</td>\n",
              "      <td>MEXICO CITY — Mexico’s most prominent human ri...</td>\n",
              "      <td>MEXICO CITY — Mexico’s most prominent human ri...</td>\n",
              "    </tr>\n",
              "    <tr>\n",
              "      <th>3</th>\n",
              "      <td>WASHINGTON — Tom Price, the health and human s...</td>\n",
              "      <td>WASHINGTON — Tom Price, the health and human s...</td>\n",
              "      <td>WASHINGTON — Tom Price, the health and human s...</td>\n",
              "    </tr>\n",
              "    <tr>\n",
              "      <th>4</th>\n",
              "      <td>• Bruno Mars swept the top categories, winning...</td>\n",
              "      <td>• Bruno Mars swept the top categories, winning...</td>\n",
              "      <td>• Bruno Mars swept the top categories, winning...</td>\n",
              "    </tr>\n",
              "    <tr>\n",
              "      <th>5</th>\n",
              "      <td>A jury in San Diego on Thursday rejected claim...</td>\n",
              "      <td>A jury in San Diego on Thursday rejected claim...</td>\n",
              "      <td>A jury in San Diego on Thursday rejected claim...</td>\n",
              "    </tr>\n",
              "    <tr>\n",
              "      <th>6</th>\n",
              "      <td>WASHINGTON — A Senate security officer stepped...</td>\n",
              "      <td>WASHINGTON — A Senate security officer stepped...</td>\n",
              "      <td>WASHINGTON — A Senate security officer stepped...</td>\n",
              "    </tr>\n",
              "    <tr>\n",
              "      <th>7</th>\n",
              "      <td>WASHINGTON — In private, President Trump somet...</td>\n",
              "      <td>WASHINGTON — In private, President Trump somet...</td>\n",
              "      <td>WASHINGTON — In private, President Trump somet...</td>\n",
              "    </tr>\n",
              "    <tr>\n",
              "      <th>8</th>\n",
              "      <td>Wells Fargo’s board said on Monday that it wou...</td>\n",
              "      <td>Wells Fargo’s board said on Monday that it wou...</td>\n",
              "      <td>Wells Fargo’s board said on Monday that it wou...</td>\n",
              "    </tr>\n",
              "    <tr>\n",
              "      <th>9</th>\n",
              "      <td>KHOGYANI, Afghanistan — When the American mili...</td>\n",
              "      <td>KHOGYANI, Afghanistan — When the American mili...</td>\n",
              "      <td>KHOGYANI, Afghanistan — When the American mili...</td>\n",
              "    </tr>\n",
              "  </tbody>\n",
              "</table>\n",
              "</div>\n",
              "      <button class=\"colab-df-convert\" onclick=\"convertToInteractive('df-d909459c-f815-4d57-b88b-216243075261')\"\n",
              "              title=\"Convert this dataframe to an interactive table.\"\n",
              "              style=\"display:none;\">\n",
              "\n",
              "  <svg xmlns=\"http://www.w3.org/2000/svg\" height=\"24px\"viewBox=\"0 0 24 24\"\n",
              "       width=\"24px\">\n",
              "    <path d=\"M0 0h24v24H0V0z\" fill=\"none\"/>\n",
              "    <path d=\"M18.56 5.44l.94 2.06.94-2.06 2.06-.94-2.06-.94-.94-2.06-.94 2.06-2.06.94zm-11 1L8.5 8.5l.94-2.06 2.06-.94-2.06-.94L8.5 2.5l-.94 2.06-2.06.94zm10 10l.94 2.06.94-2.06 2.06-.94-2.06-.94-.94-2.06-.94 2.06-2.06.94z\"/><path d=\"M17.41 7.96l-1.37-1.37c-.4-.4-.92-.59-1.43-.59-.52 0-1.04.2-1.43.59L10.3 9.45l-7.72 7.72c-.78.78-.78 2.05 0 2.83L4 21.41c.39.39.9.59 1.41.59.51 0 1.02-.2 1.41-.59l7.78-7.78 2.81-2.81c.8-.78.8-2.07 0-2.86zM5.41 20L4 18.59l7.72-7.72 1.47 1.35L5.41 20z\"/>\n",
              "  </svg>\n",
              "      </button>\n",
              "\n",
              "\n",
              "\n",
              "    <div id=\"df-9d1d3e58-9e3b-412d-bbf3-1fa78c013ea2\">\n",
              "      <button class=\"colab-df-quickchart\" onclick=\"quickchart('df-9d1d3e58-9e3b-412d-bbf3-1fa78c013ea2')\"\n",
              "              title=\"Suggest charts.\"\n",
              "              style=\"display:none;\">\n",
              "\n",
              "<svg xmlns=\"http://www.w3.org/2000/svg\" height=\"24px\"viewBox=\"0 0 24 24\"\n",
              "     width=\"24px\">\n",
              "    <g>\n",
              "        <path d=\"M19 3H5c-1.1 0-2 .9-2 2v14c0 1.1.9 2 2 2h14c1.1 0 2-.9 2-2V5c0-1.1-.9-2-2-2zM9 17H7v-7h2v7zm4 0h-2V7h2v10zm4 0h-2v-4h2v4z\"/>\n",
              "    </g>\n",
              "</svg>\n",
              "      </button>\n",
              "    </div>\n",
              "\n",
              "<style>\n",
              "  .colab-df-quickchart {\n",
              "    background-color: #E8F0FE;\n",
              "    border: none;\n",
              "    border-radius: 50%;\n",
              "    cursor: pointer;\n",
              "    display: none;\n",
              "    fill: #1967D2;\n",
              "    height: 32px;\n",
              "    padding: 0 0 0 0;\n",
              "    width: 32px;\n",
              "  }\n",
              "\n",
              "  .colab-df-quickchart:hover {\n",
              "    background-color: #E2EBFA;\n",
              "    box-shadow: 0px 1px 2px rgba(60, 64, 67, 0.3), 0px 1px 3px 1px rgba(60, 64, 67, 0.15);\n",
              "    fill: #174EA6;\n",
              "  }\n",
              "\n",
              "  [theme=dark] .colab-df-quickchart {\n",
              "    background-color: #3B4455;\n",
              "    fill: #D2E3FC;\n",
              "  }\n",
              "\n",
              "  [theme=dark] .colab-df-quickchart:hover {\n",
              "    background-color: #434B5C;\n",
              "    box-shadow: 0px 1px 3px 1px rgba(0, 0, 0, 0.15);\n",
              "    filter: drop-shadow(0px 1px 2px rgba(0, 0, 0, 0.3));\n",
              "    fill: #FFFFFF;\n",
              "  }\n",
              "</style>\n",
              "\n",
              "    <script>\n",
              "      async function quickchart(key) {\n",
              "        const containerElement = document.querySelector('#' + key);\n",
              "        const charts = await google.colab.kernel.invokeFunction(\n",
              "            'suggestCharts', [key], {});\n",
              "      }\n",
              "    </script>\n",
              "\n",
              "      <script>\n",
              "\n",
              "function displayQuickchartButton(domScope) {\n",
              "  let quickchartButtonEl =\n",
              "    domScope.querySelector('#df-9d1d3e58-9e3b-412d-bbf3-1fa78c013ea2 button.colab-df-quickchart');\n",
              "  quickchartButtonEl.style.display =\n",
              "    google.colab.kernel.accessAllowed ? 'block' : 'none';\n",
              "}\n",
              "\n",
              "        displayQuickchartButton(document);\n",
              "      </script>\n",
              "      <style>\n",
              "    .colab-df-container {\n",
              "      display:flex;\n",
              "      flex-wrap:wrap;\n",
              "      gap: 12px;\n",
              "    }\n",
              "\n",
              "    .colab-df-convert {\n",
              "      background-color: #E8F0FE;\n",
              "      border: none;\n",
              "      border-radius: 50%;\n",
              "      cursor: pointer;\n",
              "      display: none;\n",
              "      fill: #1967D2;\n",
              "      height: 32px;\n",
              "      padding: 0 0 0 0;\n",
              "      width: 32px;\n",
              "    }\n",
              "\n",
              "    .colab-df-convert:hover {\n",
              "      background-color: #E2EBFA;\n",
              "      box-shadow: 0px 1px 2px rgba(60, 64, 67, 0.3), 0px 1px 3px 1px rgba(60, 64, 67, 0.15);\n",
              "      fill: #174EA6;\n",
              "    }\n",
              "\n",
              "    [theme=dark] .colab-df-convert {\n",
              "      background-color: #3B4455;\n",
              "      fill: #D2E3FC;\n",
              "    }\n",
              "\n",
              "    [theme=dark] .colab-df-convert:hover {\n",
              "      background-color: #434B5C;\n",
              "      box-shadow: 0px 1px 3px 1px rgba(0, 0, 0, 0.15);\n",
              "      filter: drop-shadow(0px 1px 2px rgba(0, 0, 0, 0.3));\n",
              "      fill: #FFFFFF;\n",
              "    }\n",
              "  </style>\n",
              "\n",
              "      <script>\n",
              "        const buttonEl =\n",
              "          document.querySelector('#df-d909459c-f815-4d57-b88b-216243075261 button.colab-df-convert');\n",
              "        buttonEl.style.display =\n",
              "          google.colab.kernel.accessAllowed ? 'block' : 'none';\n",
              "\n",
              "        async function convertToInteractive(key) {\n",
              "          const element = document.querySelector('#df-d909459c-f815-4d57-b88b-216243075261');\n",
              "          const dataTable =\n",
              "            await google.colab.kernel.invokeFunction('convertToInteractive',\n",
              "                                                     [key], {});\n",
              "          if (!dataTable) return;\n",
              "\n",
              "          const docLinkHtml = 'Like what you see? Visit the ' +\n",
              "            '<a target=\"_blank\" href=https://colab.research.google.com/notebooks/data_table.ipynb>data table notebook</a>'\n",
              "            + ' to learn more about interactive tables.';\n",
              "          element.innerHTML = '';\n",
              "          dataTable['output_type'] = 'display_data';\n",
              "          await google.colab.output.renderOutput(dataTable, element);\n",
              "          const docLink = document.createElement('div');\n",
              "          docLink.innerHTML = docLinkHtml;\n",
              "          element.appendChild(docLink);\n",
              "        }\n",
              "      </script>\n",
              "    </div>\n",
              "  </div>\n"
            ]
          },
          "metadata": {},
          "execution_count": 21
        }
      ]
    },
    {
      "cell_type": "code",
      "source": [
        "new_df.loc[4,\"Generated Article\"]"
      ],
      "metadata": {
        "colab": {
          "base_uri": "https://localhost:8080/",
          "height": 209
        },
        "id": "UH1-fC2RNplg",
        "outputId": "adca7801-2d4d-415f-b68a-c7b89b692431"
      },
      "execution_count": 25,
      "outputs": [
        {
          "output_type": "display_data",
          "data": {
            "text/plain": [
              "<IPython.core.display.HTML object>"
            ],
            "text/html": [
              "\n",
              "  <style>\n",
              "    pre {\n",
              "        white-space: pre-wrap;\n",
              "    }\n",
              "  </style>\n",
              "  "
            ]
          },
          "metadata": {}
        },
        {
          "output_type": "execute_result",
          "data": {
            "text/plain": [
              "'• Bruno Mars swept the top categories, winning album, record and song of the year. • Our writers and critics weigh in on the best and worst moments of the Grammys. . • Read more about this year’s Grammy Awards here. The Grammys were a night for old-school music to shine — but not always as expected. In an awards show that seemed at times like it was trying too hard to be “relevant,” many of its biggest winners had little or no connection with contemporary pop culture. And when they did connect, it wasn’t necessarily how you might have predicted: For example, Adele won three trophies Sunday evening (including one for her new single, “Hello”), while Beyoncé went home empty handed after being nominated six times. Still, there were plenty of memorable performances by artists who are very much part of today’s musical landscape. One such artist is Rihanna, whose performance of “Kiss It Better” from her latest No. 1 hit album, “Anti,” showed off both her vocal prowess and her sartorial style. But perhaps most surprisingly, she also brought out a guest star: Drake, who performed his own recent chart-topper, “Hotline Bling.” Other highlights included Kendrick Lamar’s fiery rendition of “The Blacker the Berry”; Lady Gaga’s emotional tribute to David Bowie; and Justin Timberlake’s high-energy medley of hits spanning two decades. Here are some other takeaways from the ceremony, which took place live from Los Angeles and was hosted by James Corden. Best New Artist Nominees Were All Over the Map This category has been a reliable source of controversial snubs over the years. Last time around, the Recording Academy left off Sam Smith, Ed Sheeran and Iggy Azalea despite their popularity among fans and industry insiders alike. This year, the nomination committee didn’t disappoint. Instead of selecting an obvious frontrunner like Meghan Trainor, who dominated airplay charts last summer, the group chose five acts who all have something different going for them: Tori Kelly, Courtney Barnett, James Bay, Sam Hunt and Meg Mac. Mr. Corden even tried to make light of the situation during his opening monologue, saying he wanted to give each performer equal stage time because “we don’t want any of these kids coming back next year complaining about how they got screwed.” Alas, the joke fell flat. Ms. Kelly ended up taking home the award, but only after losing to Ms. McCallum in the first round of voting. (Ms. Kelly later returned to accept the honor.) At least the winner had a great speech prepared if she hadn’t taken home the prize. After thanking God, her family and friends, she said, “I just want to say I love my parents so much for believing in me.” Then she added: “This is so crazy! My mom used to tell me growing up ‘You can do anything.’ So, mama, look what I did!” Taylor Swift Fell Short Again Even though she made history earlier this month by becoming the youngest person ever to win Album of the Year twice, Miss Swift still couldn’t get enough recognition from the Recording Academy. Her critically acclaimed release, “1989,” failed to earn nominations in four major categories — including Record of the Year and Song of the Year — despite generating several radio smashes and reaching platinum status within weeks of its release. Perhaps the Recording Academy should consider giving her another shot? Or maybe it will go ahead and hand the title to someone else entirely. That happened once before, when Eminem became the first hip-hop act to receive the big prize in 2000. He lost again the following year. Bruno Mars Was King of Pop While the Grammys often feel like a battle between rap and rock, this year’s honoree for the prestigious Producer of the Year Award was decidedly uncontroversial. Mark Ronson beat out Dr. Luke, Max Martin, Jeff Bhasker and Sham Pooja to claim the honor, thanks largely to his work with Mr. Mars, who released two albums in 2015 alone. Mr. Mars’s triumphant return to the spotlight began with “Uptown Funk,” a collaboration with Mr. Ronson and producer Nicky Romero. Released late last fall, the track quickly climbed Billboard’s Hot 100 list, eventually peaking at No. 3 on the singles chart. Later came “Golden Skies,” a solo song featuring Miguel that reached No. 46 on the same ranking. in May of last year, and “The Hills (From Where You Are),” which hit No. 50 when it was released as part of her soundtrack for the movie The Twilight Saga: New Moon in November. Ms. Perry’s latest single is “Wildfire.” Her album has not been announced yet; she said only that its release would be timed with the tour dates. She will also perform songs from her other projects — including the 2010 film Eat Pray Love, based on Elizabeth Gilbert’s memoir about traveling to Italy, India and Indonesia after getting divorced — during the shows. In an interview, Ms. Perry described herself as someone who had always felt more comfortable performing than recording music. But even though she has spent much time in studios over the years working on albums like Teenage Dream, her most recent full-length effort, Prism, did not come together until recently. “I feel very lucky because I have this opportunity now where I can do both things,” she said. “And they are so different. They require two totally separate skill sets. So if you love one thing but hate doing another, then maybe it’s just not your path.” Ms. Perry began writing material for what became Prism while making the video for “Roar,” the first single off the album. That song, which features a chorus of roaring lions, debuted at No. 1 on Billboard’s Hot 100 list in September. It remained there for four weeks before being displaced by Pharrell Williams’s ubiquitous “Happy.” In October, Ms. Perry performed “Roar” at the American Music Awards, where she won favorite pop/rock female artist. Last weekend, she sang the song again at the Grammy Nominations Concert Live! special broadcast on CBS. On Tuesday night, she appeared alongside Mr. Williams at the MusiCares Person of the Year gala honoring Bruce Springsteen, singing his classic “Dancing in the Dark.” When asked why she chose to sing such a well known tune rather than one of hers, Ms. Perry laughed and explained that Mr. Springsteen had written the song specifically for her performance. “He wrote me into ‘Dark,’ ” she said. “That’s how he wanted us to end our set tonight.” Ms. Perry, whose parents were born in Australia, grew up listening to Australian rock bands like AC/DC and Cold Chisel. After moving to Los Angeles from Melbourne at age 17, she studied acting under Stella Adler and started taking voice lessons. By the early 2000s, she had begun releasing dance records through labels owned by L.A. Reid, the former chairman of Epic Records and current executive vice president of Island Def Jam Music Group. Among those releases were the single “Lionheart” and her debut studio album, One of the Boys, which featured collaborators like Dr. Luke and Benny Blanco. A decade later, Ms. Perry remains best known for her work outside the realm of traditional pop music. But she does not consider herself a genre-defying artist. Rather, she says, she likes to think of herself as simply a singer. And right now, she wants nothing more than to share her newfound vocal skills live. “I’ve never really done any kind of concert tour or anything like that,” she said. “So my goal is to make sure people get to see all these parts of myself that haven’t necessarily gotten out there yet. Because we don’t know each other.'"
            ],
            "application/vnd.google.colaboratory.intrinsic+json": {
              "type": "string"
            }
          },
          "metadata": {},
          "execution_count": 25
        }
      ]
    }
  ]
}