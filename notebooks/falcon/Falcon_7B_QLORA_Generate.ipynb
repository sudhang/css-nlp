{
  "nbformat": 4,
  "nbformat_minor": 0,
  "metadata": {
    "colab": {
      "provenance": [],
      "machine_shape": "hm",
      "gpuType": "A100",
      "mount_file_id": "16uub86uwk2GPKPT8lhP3QxLeRnTYDKU1",
      "authorship_tag": "ABX9TyPnE17oUGHmQfPsmG5OS+aw",
      "include_colab_link": true
    },
    "kernelspec": {
      "name": "python3",
      "display_name": "Python 3"
    },
    "language_info": {
      "name": "python"
    },
    "widgets": {
      "application/vnd.jupyter.widget-state+json": {
        "b66ffe6dd2324858822d222c438ee474": {
          "model_module": "@jupyter-widgets/controls",
          "model_name": "VBoxModel",
          "model_module_version": "1.5.0",
          "state": {
            "_dom_classes": [],
            "_model_module": "@jupyter-widgets/controls",
            "_model_module_version": "1.5.0",
            "_model_name": "VBoxModel",
            "_view_count": null,
            "_view_module": "@jupyter-widgets/controls",
            "_view_module_version": "1.5.0",
            "_view_name": "VBoxView",
            "box_style": "",
            "children": [
              "IPY_MODEL_88a3e311c010419380fabe30fb1b304f",
              "IPY_MODEL_fa8c357d2f7c46ad8266b6cd95850fca",
              "IPY_MODEL_7a7f156caaba4f7286bb8213fea89fd2",
              "IPY_MODEL_b852aa182a0349a7b1b0f0d132619e64"
            ],
            "layout": "IPY_MODEL_88003a8a6097436d830748502e7fe478"
          }
        },
        "bc0cd62f94c647b1b1d93cf89d3f5dbd": {
          "model_module": "@jupyter-widgets/controls",
          "model_name": "HTMLModel",
          "model_module_version": "1.5.0",
          "state": {
            "_dom_classes": [],
            "_model_module": "@jupyter-widgets/controls",
            "_model_module_version": "1.5.0",
            "_model_name": "HTMLModel",
            "_view_count": null,
            "_view_module": "@jupyter-widgets/controls",
            "_view_module_version": "1.5.0",
            "_view_name": "HTMLView",
            "description": "",
            "description_tooltip": null,
            "layout": "IPY_MODEL_35ce3eda1ed64aa1b6539a53392ac8bb",
            "placeholder": "​",
            "style": "IPY_MODEL_076a409decf0457fa0dbdd4f0a994626",
            "value": "<center> <img\nsrc=https://huggingface.co/front/assets/huggingface_logo-noborder.svg\nalt='Hugging Face'> <br> Copy a token from <a\nhref=\"https://huggingface.co/settings/tokens\" target=\"_blank\">your Hugging Face\ntokens page</a> and paste it below. <br> Immediately click login after copying\nyour token or it might be stored in plain text in this notebook file. </center>"
          }
        },
        "cee1084103a442a28b7c358ba9f5de04": {
          "model_module": "@jupyter-widgets/controls",
          "model_name": "PasswordModel",
          "model_module_version": "1.5.0",
          "state": {
            "_dom_classes": [],
            "_model_module": "@jupyter-widgets/controls",
            "_model_module_version": "1.5.0",
            "_model_name": "PasswordModel",
            "_view_count": null,
            "_view_module": "@jupyter-widgets/controls",
            "_view_module_version": "1.5.0",
            "_view_name": "PasswordView",
            "continuous_update": true,
            "description": "Token:",
            "description_tooltip": null,
            "disabled": false,
            "layout": "IPY_MODEL_36039f5acd044c30a94cce8e099b10ef",
            "placeholder": "​",
            "style": "IPY_MODEL_fffd0f3f18464912a7f5349c30882c15",
            "value": ""
          }
        },
        "ab990d0e7a2b4230ba3cd9939a7d9b10": {
          "model_module": "@jupyter-widgets/controls",
          "model_name": "CheckboxModel",
          "model_module_version": "1.5.0",
          "state": {
            "_dom_classes": [],
            "_model_module": "@jupyter-widgets/controls",
            "_model_module_version": "1.5.0",
            "_model_name": "CheckboxModel",
            "_view_count": null,
            "_view_module": "@jupyter-widgets/controls",
            "_view_module_version": "1.5.0",
            "_view_name": "CheckboxView",
            "description": "Add token as git credential?",
            "description_tooltip": null,
            "disabled": false,
            "indent": true,
            "layout": "IPY_MODEL_a7e92bd736f148fcb3c87de98ec4a573",
            "style": "IPY_MODEL_290cb547f11341bbb72417ec828ed614",
            "value": true
          }
        },
        "0fcae160e1dc44279a5fc6c923ede14a": {
          "model_module": "@jupyter-widgets/controls",
          "model_name": "ButtonModel",
          "model_module_version": "1.5.0",
          "state": {
            "_dom_classes": [],
            "_model_module": "@jupyter-widgets/controls",
            "_model_module_version": "1.5.0",
            "_model_name": "ButtonModel",
            "_view_count": null,
            "_view_module": "@jupyter-widgets/controls",
            "_view_module_version": "1.5.0",
            "_view_name": "ButtonView",
            "button_style": "",
            "description": "Login",
            "disabled": false,
            "icon": "",
            "layout": "IPY_MODEL_bfe09e5933e74f12a530d791278d3d65",
            "style": "IPY_MODEL_bb1fca1904a6408d8d93be9023c9364f",
            "tooltip": ""
          }
        },
        "5437ed0b18f247c58d35fa70e681b5f1": {
          "model_module": "@jupyter-widgets/controls",
          "model_name": "HTMLModel",
          "model_module_version": "1.5.0",
          "state": {
            "_dom_classes": [],
            "_model_module": "@jupyter-widgets/controls",
            "_model_module_version": "1.5.0",
            "_model_name": "HTMLModel",
            "_view_count": null,
            "_view_module": "@jupyter-widgets/controls",
            "_view_module_version": "1.5.0",
            "_view_name": "HTMLView",
            "description": "",
            "description_tooltip": null,
            "layout": "IPY_MODEL_b63d93d82bda4898bfdcb2063a4b4705",
            "placeholder": "​",
            "style": "IPY_MODEL_cc78d35cf61f454f9189b7d7539d2991",
            "value": "\n<b>Pro Tip:</b> If you don't already have one, you can create a dedicated\n'notebooks' token with 'write' access, that you can then easily reuse for all\nnotebooks. </center>"
          }
        },
        "88003a8a6097436d830748502e7fe478": {
          "model_module": "@jupyter-widgets/base",
          "model_name": "LayoutModel",
          "model_module_version": "1.2.0",
          "state": {
            "_model_module": "@jupyter-widgets/base",
            "_model_module_version": "1.2.0",
            "_model_name": "LayoutModel",
            "_view_count": null,
            "_view_module": "@jupyter-widgets/base",
            "_view_module_version": "1.2.0",
            "_view_name": "LayoutView",
            "align_content": null,
            "align_items": "center",
            "align_self": null,
            "border": null,
            "bottom": null,
            "display": "flex",
            "flex": null,
            "flex_flow": "column",
            "grid_area": null,
            "grid_auto_columns": null,
            "grid_auto_flow": null,
            "grid_auto_rows": null,
            "grid_column": null,
            "grid_gap": null,
            "grid_row": null,
            "grid_template_areas": null,
            "grid_template_columns": null,
            "grid_template_rows": null,
            "height": null,
            "justify_content": null,
            "justify_items": null,
            "left": null,
            "margin": null,
            "max_height": null,
            "max_width": null,
            "min_height": null,
            "min_width": null,
            "object_fit": null,
            "object_position": null,
            "order": null,
            "overflow": null,
            "overflow_x": null,
            "overflow_y": null,
            "padding": null,
            "right": null,
            "top": null,
            "visibility": null,
            "width": "50%"
          }
        },
        "35ce3eda1ed64aa1b6539a53392ac8bb": {
          "model_module": "@jupyter-widgets/base",
          "model_name": "LayoutModel",
          "model_module_version": "1.2.0",
          "state": {
            "_model_module": "@jupyter-widgets/base",
            "_model_module_version": "1.2.0",
            "_model_name": "LayoutModel",
            "_view_count": null,
            "_view_module": "@jupyter-widgets/base",
            "_view_module_version": "1.2.0",
            "_view_name": "LayoutView",
            "align_content": null,
            "align_items": null,
            "align_self": null,
            "border": null,
            "bottom": null,
            "display": null,
            "flex": null,
            "flex_flow": null,
            "grid_area": null,
            "grid_auto_columns": null,
            "grid_auto_flow": null,
            "grid_auto_rows": null,
            "grid_column": null,
            "grid_gap": null,
            "grid_row": null,
            "grid_template_areas": null,
            "grid_template_columns": null,
            "grid_template_rows": null,
            "height": null,
            "justify_content": null,
            "justify_items": null,
            "left": null,
            "margin": null,
            "max_height": null,
            "max_width": null,
            "min_height": null,
            "min_width": null,
            "object_fit": null,
            "object_position": null,
            "order": null,
            "overflow": null,
            "overflow_x": null,
            "overflow_y": null,
            "padding": null,
            "right": null,
            "top": null,
            "visibility": null,
            "width": null
          }
        },
        "076a409decf0457fa0dbdd4f0a994626": {
          "model_module": "@jupyter-widgets/controls",
          "model_name": "DescriptionStyleModel",
          "model_module_version": "1.5.0",
          "state": {
            "_model_module": "@jupyter-widgets/controls",
            "_model_module_version": "1.5.0",
            "_model_name": "DescriptionStyleModel",
            "_view_count": null,
            "_view_module": "@jupyter-widgets/base",
            "_view_module_version": "1.2.0",
            "_view_name": "StyleView",
            "description_width": ""
          }
        },
        "36039f5acd044c30a94cce8e099b10ef": {
          "model_module": "@jupyter-widgets/base",
          "model_name": "LayoutModel",
          "model_module_version": "1.2.0",
          "state": {
            "_model_module": "@jupyter-widgets/base",
            "_model_module_version": "1.2.0",
            "_model_name": "LayoutModel",
            "_view_count": null,
            "_view_module": "@jupyter-widgets/base",
            "_view_module_version": "1.2.0",
            "_view_name": "LayoutView",
            "align_content": null,
            "align_items": null,
            "align_self": null,
            "border": null,
            "bottom": null,
            "display": null,
            "flex": null,
            "flex_flow": null,
            "grid_area": null,
            "grid_auto_columns": null,
            "grid_auto_flow": null,
            "grid_auto_rows": null,
            "grid_column": null,
            "grid_gap": null,
            "grid_row": null,
            "grid_template_areas": null,
            "grid_template_columns": null,
            "grid_template_rows": null,
            "height": null,
            "justify_content": null,
            "justify_items": null,
            "left": null,
            "margin": null,
            "max_height": null,
            "max_width": null,
            "min_height": null,
            "min_width": null,
            "object_fit": null,
            "object_position": null,
            "order": null,
            "overflow": null,
            "overflow_x": null,
            "overflow_y": null,
            "padding": null,
            "right": null,
            "top": null,
            "visibility": null,
            "width": null
          }
        },
        "fffd0f3f18464912a7f5349c30882c15": {
          "model_module": "@jupyter-widgets/controls",
          "model_name": "DescriptionStyleModel",
          "model_module_version": "1.5.0",
          "state": {
            "_model_module": "@jupyter-widgets/controls",
            "_model_module_version": "1.5.0",
            "_model_name": "DescriptionStyleModel",
            "_view_count": null,
            "_view_module": "@jupyter-widgets/base",
            "_view_module_version": "1.2.0",
            "_view_name": "StyleView",
            "description_width": ""
          }
        },
        "a7e92bd736f148fcb3c87de98ec4a573": {
          "model_module": "@jupyter-widgets/base",
          "model_name": "LayoutModel",
          "model_module_version": "1.2.0",
          "state": {
            "_model_module": "@jupyter-widgets/base",
            "_model_module_version": "1.2.0",
            "_model_name": "LayoutModel",
            "_view_count": null,
            "_view_module": "@jupyter-widgets/base",
            "_view_module_version": "1.2.0",
            "_view_name": "LayoutView",
            "align_content": null,
            "align_items": null,
            "align_self": null,
            "border": null,
            "bottom": null,
            "display": null,
            "flex": null,
            "flex_flow": null,
            "grid_area": null,
            "grid_auto_columns": null,
            "grid_auto_flow": null,
            "grid_auto_rows": null,
            "grid_column": null,
            "grid_gap": null,
            "grid_row": null,
            "grid_template_areas": null,
            "grid_template_columns": null,
            "grid_template_rows": null,
            "height": null,
            "justify_content": null,
            "justify_items": null,
            "left": null,
            "margin": null,
            "max_height": null,
            "max_width": null,
            "min_height": null,
            "min_width": null,
            "object_fit": null,
            "object_position": null,
            "order": null,
            "overflow": null,
            "overflow_x": null,
            "overflow_y": null,
            "padding": null,
            "right": null,
            "top": null,
            "visibility": null,
            "width": null
          }
        },
        "290cb547f11341bbb72417ec828ed614": {
          "model_module": "@jupyter-widgets/controls",
          "model_name": "DescriptionStyleModel",
          "model_module_version": "1.5.0",
          "state": {
            "_model_module": "@jupyter-widgets/controls",
            "_model_module_version": "1.5.0",
            "_model_name": "DescriptionStyleModel",
            "_view_count": null,
            "_view_module": "@jupyter-widgets/base",
            "_view_module_version": "1.2.0",
            "_view_name": "StyleView",
            "description_width": ""
          }
        },
        "bfe09e5933e74f12a530d791278d3d65": {
          "model_module": "@jupyter-widgets/base",
          "model_name": "LayoutModel",
          "model_module_version": "1.2.0",
          "state": {
            "_model_module": "@jupyter-widgets/base",
            "_model_module_version": "1.2.0",
            "_model_name": "LayoutModel",
            "_view_count": null,
            "_view_module": "@jupyter-widgets/base",
            "_view_module_version": "1.2.0",
            "_view_name": "LayoutView",
            "align_content": null,
            "align_items": null,
            "align_self": null,
            "border": null,
            "bottom": null,
            "display": null,
            "flex": null,
            "flex_flow": null,
            "grid_area": null,
            "grid_auto_columns": null,
            "grid_auto_flow": null,
            "grid_auto_rows": null,
            "grid_column": null,
            "grid_gap": null,
            "grid_row": null,
            "grid_template_areas": null,
            "grid_template_columns": null,
            "grid_template_rows": null,
            "height": null,
            "justify_content": null,
            "justify_items": null,
            "left": null,
            "margin": null,
            "max_height": null,
            "max_width": null,
            "min_height": null,
            "min_width": null,
            "object_fit": null,
            "object_position": null,
            "order": null,
            "overflow": null,
            "overflow_x": null,
            "overflow_y": null,
            "padding": null,
            "right": null,
            "top": null,
            "visibility": null,
            "width": null
          }
        },
        "bb1fca1904a6408d8d93be9023c9364f": {
          "model_module": "@jupyter-widgets/controls",
          "model_name": "ButtonStyleModel",
          "model_module_version": "1.5.0",
          "state": {
            "_model_module": "@jupyter-widgets/controls",
            "_model_module_version": "1.5.0",
            "_model_name": "ButtonStyleModel",
            "_view_count": null,
            "_view_module": "@jupyter-widgets/base",
            "_view_module_version": "1.2.0",
            "_view_name": "StyleView",
            "button_color": null,
            "font_weight": ""
          }
        },
        "b63d93d82bda4898bfdcb2063a4b4705": {
          "model_module": "@jupyter-widgets/base",
          "model_name": "LayoutModel",
          "model_module_version": "1.2.0",
          "state": {
            "_model_module": "@jupyter-widgets/base",
            "_model_module_version": "1.2.0",
            "_model_name": "LayoutModel",
            "_view_count": null,
            "_view_module": "@jupyter-widgets/base",
            "_view_module_version": "1.2.0",
            "_view_name": "LayoutView",
            "align_content": null,
            "align_items": null,
            "align_self": null,
            "border": null,
            "bottom": null,
            "display": null,
            "flex": null,
            "flex_flow": null,
            "grid_area": null,
            "grid_auto_columns": null,
            "grid_auto_flow": null,
            "grid_auto_rows": null,
            "grid_column": null,
            "grid_gap": null,
            "grid_row": null,
            "grid_template_areas": null,
            "grid_template_columns": null,
            "grid_template_rows": null,
            "height": null,
            "justify_content": null,
            "justify_items": null,
            "left": null,
            "margin": null,
            "max_height": null,
            "max_width": null,
            "min_height": null,
            "min_width": null,
            "object_fit": null,
            "object_position": null,
            "order": null,
            "overflow": null,
            "overflow_x": null,
            "overflow_y": null,
            "padding": null,
            "right": null,
            "top": null,
            "visibility": null,
            "width": null
          }
        },
        "cc78d35cf61f454f9189b7d7539d2991": {
          "model_module": "@jupyter-widgets/controls",
          "model_name": "DescriptionStyleModel",
          "model_module_version": "1.5.0",
          "state": {
            "_model_module": "@jupyter-widgets/controls",
            "_model_module_version": "1.5.0",
            "_model_name": "DescriptionStyleModel",
            "_view_count": null,
            "_view_module": "@jupyter-widgets/base",
            "_view_module_version": "1.2.0",
            "_view_name": "StyleView",
            "description_width": ""
          }
        },
        "eb83f3126b974931b88087ac8f74142c": {
          "model_module": "@jupyter-widgets/controls",
          "model_name": "LabelModel",
          "model_module_version": "1.5.0",
          "state": {
            "_dom_classes": [],
            "_model_module": "@jupyter-widgets/controls",
            "_model_module_version": "1.5.0",
            "_model_name": "LabelModel",
            "_view_count": null,
            "_view_module": "@jupyter-widgets/controls",
            "_view_module_version": "1.5.0",
            "_view_name": "LabelView",
            "description": "",
            "description_tooltip": null,
            "layout": "IPY_MODEL_b04820e8af63438c9fcee7fedf80667d",
            "placeholder": "​",
            "style": "IPY_MODEL_055960a7bd7f4e0e9920c0502dcb36b7",
            "value": "Connecting..."
          }
        },
        "b04820e8af63438c9fcee7fedf80667d": {
          "model_module": "@jupyter-widgets/base",
          "model_name": "LayoutModel",
          "model_module_version": "1.2.0",
          "state": {
            "_model_module": "@jupyter-widgets/base",
            "_model_module_version": "1.2.0",
            "_model_name": "LayoutModel",
            "_view_count": null,
            "_view_module": "@jupyter-widgets/base",
            "_view_module_version": "1.2.0",
            "_view_name": "LayoutView",
            "align_content": null,
            "align_items": null,
            "align_self": null,
            "border": null,
            "bottom": null,
            "display": null,
            "flex": null,
            "flex_flow": null,
            "grid_area": null,
            "grid_auto_columns": null,
            "grid_auto_flow": null,
            "grid_auto_rows": null,
            "grid_column": null,
            "grid_gap": null,
            "grid_row": null,
            "grid_template_areas": null,
            "grid_template_columns": null,
            "grid_template_rows": null,
            "height": null,
            "justify_content": null,
            "justify_items": null,
            "left": null,
            "margin": null,
            "max_height": null,
            "max_width": null,
            "min_height": null,
            "min_width": null,
            "object_fit": null,
            "object_position": null,
            "order": null,
            "overflow": null,
            "overflow_x": null,
            "overflow_y": null,
            "padding": null,
            "right": null,
            "top": null,
            "visibility": null,
            "width": null
          }
        },
        "055960a7bd7f4e0e9920c0502dcb36b7": {
          "model_module": "@jupyter-widgets/controls",
          "model_name": "DescriptionStyleModel",
          "model_module_version": "1.5.0",
          "state": {
            "_model_module": "@jupyter-widgets/controls",
            "_model_module_version": "1.5.0",
            "_model_name": "DescriptionStyleModel",
            "_view_count": null,
            "_view_module": "@jupyter-widgets/base",
            "_view_module_version": "1.2.0",
            "_view_name": "StyleView",
            "description_width": ""
          }
        },
        "88a3e311c010419380fabe30fb1b304f": {
          "model_module": "@jupyter-widgets/controls",
          "model_name": "LabelModel",
          "model_module_version": "1.5.0",
          "state": {
            "_dom_classes": [],
            "_model_module": "@jupyter-widgets/controls",
            "_model_module_version": "1.5.0",
            "_model_name": "LabelModel",
            "_view_count": null,
            "_view_module": "@jupyter-widgets/controls",
            "_view_module_version": "1.5.0",
            "_view_name": "LabelView",
            "description": "",
            "description_tooltip": null,
            "layout": "IPY_MODEL_f41259a3fe2e40c98e7c12082bafbbfd",
            "placeholder": "​",
            "style": "IPY_MODEL_b883dcbf5a284d679d3d184bb758b10e",
            "value": "Token is valid (permission: write)."
          }
        },
        "fa8c357d2f7c46ad8266b6cd95850fca": {
          "model_module": "@jupyter-widgets/controls",
          "model_name": "LabelModel",
          "model_module_version": "1.5.0",
          "state": {
            "_dom_classes": [],
            "_model_module": "@jupyter-widgets/controls",
            "_model_module_version": "1.5.0",
            "_model_name": "LabelModel",
            "_view_count": null,
            "_view_module": "@jupyter-widgets/controls",
            "_view_module_version": "1.5.0",
            "_view_name": "LabelView",
            "description": "",
            "description_tooltip": null,
            "layout": "IPY_MODEL_84dbd86d1a3449bfbd6890536a64610a",
            "placeholder": "​",
            "style": "IPY_MODEL_8d6bd170fd4142038a98c302f7aa0de0",
            "value": "Your token has been saved in your configured git credential helpers (store)."
          }
        },
        "7a7f156caaba4f7286bb8213fea89fd2": {
          "model_module": "@jupyter-widgets/controls",
          "model_name": "LabelModel",
          "model_module_version": "1.5.0",
          "state": {
            "_dom_classes": [],
            "_model_module": "@jupyter-widgets/controls",
            "_model_module_version": "1.5.0",
            "_model_name": "LabelModel",
            "_view_count": null,
            "_view_module": "@jupyter-widgets/controls",
            "_view_module_version": "1.5.0",
            "_view_name": "LabelView",
            "description": "",
            "description_tooltip": null,
            "layout": "IPY_MODEL_3d227c675c9943c1a09f9eec6f142c7f",
            "placeholder": "​",
            "style": "IPY_MODEL_37bed7a0c3ed4172a51d70a235907197",
            "value": "Your token has been saved to /root/.cache/huggingface/token"
          }
        },
        "b852aa182a0349a7b1b0f0d132619e64": {
          "model_module": "@jupyter-widgets/controls",
          "model_name": "LabelModel",
          "model_module_version": "1.5.0",
          "state": {
            "_dom_classes": [],
            "_model_module": "@jupyter-widgets/controls",
            "_model_module_version": "1.5.0",
            "_model_name": "LabelModel",
            "_view_count": null,
            "_view_module": "@jupyter-widgets/controls",
            "_view_module_version": "1.5.0",
            "_view_name": "LabelView",
            "description": "",
            "description_tooltip": null,
            "layout": "IPY_MODEL_baaac822d4654d578d1c3eadc1adf67e",
            "placeholder": "​",
            "style": "IPY_MODEL_afedabac11ea4d37bfda74ee9a239914",
            "value": "Login successful"
          }
        },
        "f41259a3fe2e40c98e7c12082bafbbfd": {
          "model_module": "@jupyter-widgets/base",
          "model_name": "LayoutModel",
          "model_module_version": "1.2.0",
          "state": {
            "_model_module": "@jupyter-widgets/base",
            "_model_module_version": "1.2.0",
            "_model_name": "LayoutModel",
            "_view_count": null,
            "_view_module": "@jupyter-widgets/base",
            "_view_module_version": "1.2.0",
            "_view_name": "LayoutView",
            "align_content": null,
            "align_items": null,
            "align_self": null,
            "border": null,
            "bottom": null,
            "display": null,
            "flex": null,
            "flex_flow": null,
            "grid_area": null,
            "grid_auto_columns": null,
            "grid_auto_flow": null,
            "grid_auto_rows": null,
            "grid_column": null,
            "grid_gap": null,
            "grid_row": null,
            "grid_template_areas": null,
            "grid_template_columns": null,
            "grid_template_rows": null,
            "height": null,
            "justify_content": null,
            "justify_items": null,
            "left": null,
            "margin": null,
            "max_height": null,
            "max_width": null,
            "min_height": null,
            "min_width": null,
            "object_fit": null,
            "object_position": null,
            "order": null,
            "overflow": null,
            "overflow_x": null,
            "overflow_y": null,
            "padding": null,
            "right": null,
            "top": null,
            "visibility": null,
            "width": null
          }
        },
        "b883dcbf5a284d679d3d184bb758b10e": {
          "model_module": "@jupyter-widgets/controls",
          "model_name": "DescriptionStyleModel",
          "model_module_version": "1.5.0",
          "state": {
            "_model_module": "@jupyter-widgets/controls",
            "_model_module_version": "1.5.0",
            "_model_name": "DescriptionStyleModel",
            "_view_count": null,
            "_view_module": "@jupyter-widgets/base",
            "_view_module_version": "1.2.0",
            "_view_name": "StyleView",
            "description_width": ""
          }
        },
        "84dbd86d1a3449bfbd6890536a64610a": {
          "model_module": "@jupyter-widgets/base",
          "model_name": "LayoutModel",
          "model_module_version": "1.2.0",
          "state": {
            "_model_module": "@jupyter-widgets/base",
            "_model_module_version": "1.2.0",
            "_model_name": "LayoutModel",
            "_view_count": null,
            "_view_module": "@jupyter-widgets/base",
            "_view_module_version": "1.2.0",
            "_view_name": "LayoutView",
            "align_content": null,
            "align_items": null,
            "align_self": null,
            "border": null,
            "bottom": null,
            "display": null,
            "flex": null,
            "flex_flow": null,
            "grid_area": null,
            "grid_auto_columns": null,
            "grid_auto_flow": null,
            "grid_auto_rows": null,
            "grid_column": null,
            "grid_gap": null,
            "grid_row": null,
            "grid_template_areas": null,
            "grid_template_columns": null,
            "grid_template_rows": null,
            "height": null,
            "justify_content": null,
            "justify_items": null,
            "left": null,
            "margin": null,
            "max_height": null,
            "max_width": null,
            "min_height": null,
            "min_width": null,
            "object_fit": null,
            "object_position": null,
            "order": null,
            "overflow": null,
            "overflow_x": null,
            "overflow_y": null,
            "padding": null,
            "right": null,
            "top": null,
            "visibility": null,
            "width": null
          }
        },
        "8d6bd170fd4142038a98c302f7aa0de0": {
          "model_module": "@jupyter-widgets/controls",
          "model_name": "DescriptionStyleModel",
          "model_module_version": "1.5.0",
          "state": {
            "_model_module": "@jupyter-widgets/controls",
            "_model_module_version": "1.5.0",
            "_model_name": "DescriptionStyleModel",
            "_view_count": null,
            "_view_module": "@jupyter-widgets/base",
            "_view_module_version": "1.2.0",
            "_view_name": "StyleView",
            "description_width": ""
          }
        },
        "3d227c675c9943c1a09f9eec6f142c7f": {
          "model_module": "@jupyter-widgets/base",
          "model_name": "LayoutModel",
          "model_module_version": "1.2.0",
          "state": {
            "_model_module": "@jupyter-widgets/base",
            "_model_module_version": "1.2.0",
            "_model_name": "LayoutModel",
            "_view_count": null,
            "_view_module": "@jupyter-widgets/base",
            "_view_module_version": "1.2.0",
            "_view_name": "LayoutView",
            "align_content": null,
            "align_items": null,
            "align_self": null,
            "border": null,
            "bottom": null,
            "display": null,
            "flex": null,
            "flex_flow": null,
            "grid_area": null,
            "grid_auto_columns": null,
            "grid_auto_flow": null,
            "grid_auto_rows": null,
            "grid_column": null,
            "grid_gap": null,
            "grid_row": null,
            "grid_template_areas": null,
            "grid_template_columns": null,
            "grid_template_rows": null,
            "height": null,
            "justify_content": null,
            "justify_items": null,
            "left": null,
            "margin": null,
            "max_height": null,
            "max_width": null,
            "min_height": null,
            "min_width": null,
            "object_fit": null,
            "object_position": null,
            "order": null,
            "overflow": null,
            "overflow_x": null,
            "overflow_y": null,
            "padding": null,
            "right": null,
            "top": null,
            "visibility": null,
            "width": null
          }
        },
        "37bed7a0c3ed4172a51d70a235907197": {
          "model_module": "@jupyter-widgets/controls",
          "model_name": "DescriptionStyleModel",
          "model_module_version": "1.5.0",
          "state": {
            "_model_module": "@jupyter-widgets/controls",
            "_model_module_version": "1.5.0",
            "_model_name": "DescriptionStyleModel",
            "_view_count": null,
            "_view_module": "@jupyter-widgets/base",
            "_view_module_version": "1.2.0",
            "_view_name": "StyleView",
            "description_width": ""
          }
        },
        "baaac822d4654d578d1c3eadc1adf67e": {
          "model_module": "@jupyter-widgets/base",
          "model_name": "LayoutModel",
          "model_module_version": "1.2.0",
          "state": {
            "_model_module": "@jupyter-widgets/base",
            "_model_module_version": "1.2.0",
            "_model_name": "LayoutModel",
            "_view_count": null,
            "_view_module": "@jupyter-widgets/base",
            "_view_module_version": "1.2.0",
            "_view_name": "LayoutView",
            "align_content": null,
            "align_items": null,
            "align_self": null,
            "border": null,
            "bottom": null,
            "display": null,
            "flex": null,
            "flex_flow": null,
            "grid_area": null,
            "grid_auto_columns": null,
            "grid_auto_flow": null,
            "grid_auto_rows": null,
            "grid_column": null,
            "grid_gap": null,
            "grid_row": null,
            "grid_template_areas": null,
            "grid_template_columns": null,
            "grid_template_rows": null,
            "height": null,
            "justify_content": null,
            "justify_items": null,
            "left": null,
            "margin": null,
            "max_height": null,
            "max_width": null,
            "min_height": null,
            "min_width": null,
            "object_fit": null,
            "object_position": null,
            "order": null,
            "overflow": null,
            "overflow_x": null,
            "overflow_y": null,
            "padding": null,
            "right": null,
            "top": null,
            "visibility": null,
            "width": null
          }
        },
        "afedabac11ea4d37bfda74ee9a239914": {
          "model_module": "@jupyter-widgets/controls",
          "model_name": "DescriptionStyleModel",
          "model_module_version": "1.5.0",
          "state": {
            "_model_module": "@jupyter-widgets/controls",
            "_model_module_version": "1.5.0",
            "_model_name": "DescriptionStyleModel",
            "_view_count": null,
            "_view_module": "@jupyter-widgets/base",
            "_view_module_version": "1.2.0",
            "_view_name": "StyleView",
            "description_width": ""
          }
        },
        "0f286585a01d4434927d04f461dc6dac": {
          "model_module": "@jupyter-widgets/controls",
          "model_name": "HBoxModel",
          "model_module_version": "1.5.0",
          "state": {
            "_dom_classes": [],
            "_model_module": "@jupyter-widgets/controls",
            "_model_module_version": "1.5.0",
            "_model_name": "HBoxModel",
            "_view_count": null,
            "_view_module": "@jupyter-widgets/controls",
            "_view_module_version": "1.5.0",
            "_view_name": "HBoxView",
            "box_style": "",
            "children": [
              "IPY_MODEL_06ff34a3366c4c559113a5ed0a32672d",
              "IPY_MODEL_8d5ed8b2fa1942c1a28a83ee4369c059",
              "IPY_MODEL_58b27ce04cb64fccb28ee4f777acf7dc"
            ],
            "layout": "IPY_MODEL_21bf47f82a8348e8941d21141b048ee6"
          }
        },
        "06ff34a3366c4c559113a5ed0a32672d": {
          "model_module": "@jupyter-widgets/controls",
          "model_name": "HTMLModel",
          "model_module_version": "1.5.0",
          "state": {
            "_dom_classes": [],
            "_model_module": "@jupyter-widgets/controls",
            "_model_module_version": "1.5.0",
            "_model_name": "HTMLModel",
            "_view_count": null,
            "_view_module": "@jupyter-widgets/controls",
            "_view_module_version": "1.5.0",
            "_view_name": "HTMLView",
            "description": "",
            "description_tooltip": null,
            "layout": "IPY_MODEL_fa1d19701d9c4262a85724390e5d0f1d",
            "placeholder": "​",
            "style": "IPY_MODEL_2f8d4812f3264412ac2c5dc9dee0f39f",
            "value": "Loading checkpoint shards: 100%"
          }
        },
        "8d5ed8b2fa1942c1a28a83ee4369c059": {
          "model_module": "@jupyter-widgets/controls",
          "model_name": "FloatProgressModel",
          "model_module_version": "1.5.0",
          "state": {
            "_dom_classes": [],
            "_model_module": "@jupyter-widgets/controls",
            "_model_module_version": "1.5.0",
            "_model_name": "FloatProgressModel",
            "_view_count": null,
            "_view_module": "@jupyter-widgets/controls",
            "_view_module_version": "1.5.0",
            "_view_name": "ProgressView",
            "bar_style": "success",
            "description": "",
            "description_tooltip": null,
            "layout": "IPY_MODEL_ffda57836c1d4aceb4c4320be291d51f",
            "max": 2,
            "min": 0,
            "orientation": "horizontal",
            "style": "IPY_MODEL_e2ce59f9cbe64558976b2a195df1b1b1",
            "value": 2
          }
        },
        "58b27ce04cb64fccb28ee4f777acf7dc": {
          "model_module": "@jupyter-widgets/controls",
          "model_name": "HTMLModel",
          "model_module_version": "1.5.0",
          "state": {
            "_dom_classes": [],
            "_model_module": "@jupyter-widgets/controls",
            "_model_module_version": "1.5.0",
            "_model_name": "HTMLModel",
            "_view_count": null,
            "_view_module": "@jupyter-widgets/controls",
            "_view_module_version": "1.5.0",
            "_view_name": "HTMLView",
            "description": "",
            "description_tooltip": null,
            "layout": "IPY_MODEL_25b9de29f2c744aa811f1aff3c1daeaf",
            "placeholder": "​",
            "style": "IPY_MODEL_91723a285b1f4b75993bf8af9ea3f54a",
            "value": " 2/2 [00:15&lt;00:00,  7.07s/it]"
          }
        },
        "21bf47f82a8348e8941d21141b048ee6": {
          "model_module": "@jupyter-widgets/base",
          "model_name": "LayoutModel",
          "model_module_version": "1.2.0",
          "state": {
            "_model_module": "@jupyter-widgets/base",
            "_model_module_version": "1.2.0",
            "_model_name": "LayoutModel",
            "_view_count": null,
            "_view_module": "@jupyter-widgets/base",
            "_view_module_version": "1.2.0",
            "_view_name": "LayoutView",
            "align_content": null,
            "align_items": null,
            "align_self": null,
            "border": null,
            "bottom": null,
            "display": null,
            "flex": null,
            "flex_flow": null,
            "grid_area": null,
            "grid_auto_columns": null,
            "grid_auto_flow": null,
            "grid_auto_rows": null,
            "grid_column": null,
            "grid_gap": null,
            "grid_row": null,
            "grid_template_areas": null,
            "grid_template_columns": null,
            "grid_template_rows": null,
            "height": null,
            "justify_content": null,
            "justify_items": null,
            "left": null,
            "margin": null,
            "max_height": null,
            "max_width": null,
            "min_height": null,
            "min_width": null,
            "object_fit": null,
            "object_position": null,
            "order": null,
            "overflow": null,
            "overflow_x": null,
            "overflow_y": null,
            "padding": null,
            "right": null,
            "top": null,
            "visibility": null,
            "width": null
          }
        },
        "fa1d19701d9c4262a85724390e5d0f1d": {
          "model_module": "@jupyter-widgets/base",
          "model_name": "LayoutModel",
          "model_module_version": "1.2.0",
          "state": {
            "_model_module": "@jupyter-widgets/base",
            "_model_module_version": "1.2.0",
            "_model_name": "LayoutModel",
            "_view_count": null,
            "_view_module": "@jupyter-widgets/base",
            "_view_module_version": "1.2.0",
            "_view_name": "LayoutView",
            "align_content": null,
            "align_items": null,
            "align_self": null,
            "border": null,
            "bottom": null,
            "display": null,
            "flex": null,
            "flex_flow": null,
            "grid_area": null,
            "grid_auto_columns": null,
            "grid_auto_flow": null,
            "grid_auto_rows": null,
            "grid_column": null,
            "grid_gap": null,
            "grid_row": null,
            "grid_template_areas": null,
            "grid_template_columns": null,
            "grid_template_rows": null,
            "height": null,
            "justify_content": null,
            "justify_items": null,
            "left": null,
            "margin": null,
            "max_height": null,
            "max_width": null,
            "min_height": null,
            "min_width": null,
            "object_fit": null,
            "object_position": null,
            "order": null,
            "overflow": null,
            "overflow_x": null,
            "overflow_y": null,
            "padding": null,
            "right": null,
            "top": null,
            "visibility": null,
            "width": null
          }
        },
        "2f8d4812f3264412ac2c5dc9dee0f39f": {
          "model_module": "@jupyter-widgets/controls",
          "model_name": "DescriptionStyleModel",
          "model_module_version": "1.5.0",
          "state": {
            "_model_module": "@jupyter-widgets/controls",
            "_model_module_version": "1.5.0",
            "_model_name": "DescriptionStyleModel",
            "_view_count": null,
            "_view_module": "@jupyter-widgets/base",
            "_view_module_version": "1.2.0",
            "_view_name": "StyleView",
            "description_width": ""
          }
        },
        "ffda57836c1d4aceb4c4320be291d51f": {
          "model_module": "@jupyter-widgets/base",
          "model_name": "LayoutModel",
          "model_module_version": "1.2.0",
          "state": {
            "_model_module": "@jupyter-widgets/base",
            "_model_module_version": "1.2.0",
            "_model_name": "LayoutModel",
            "_view_count": null,
            "_view_module": "@jupyter-widgets/base",
            "_view_module_version": "1.2.0",
            "_view_name": "LayoutView",
            "align_content": null,
            "align_items": null,
            "align_self": null,
            "border": null,
            "bottom": null,
            "display": null,
            "flex": null,
            "flex_flow": null,
            "grid_area": null,
            "grid_auto_columns": null,
            "grid_auto_flow": null,
            "grid_auto_rows": null,
            "grid_column": null,
            "grid_gap": null,
            "grid_row": null,
            "grid_template_areas": null,
            "grid_template_columns": null,
            "grid_template_rows": null,
            "height": null,
            "justify_content": null,
            "justify_items": null,
            "left": null,
            "margin": null,
            "max_height": null,
            "max_width": null,
            "min_height": null,
            "min_width": null,
            "object_fit": null,
            "object_position": null,
            "order": null,
            "overflow": null,
            "overflow_x": null,
            "overflow_y": null,
            "padding": null,
            "right": null,
            "top": null,
            "visibility": null,
            "width": null
          }
        },
        "e2ce59f9cbe64558976b2a195df1b1b1": {
          "model_module": "@jupyter-widgets/controls",
          "model_name": "ProgressStyleModel",
          "model_module_version": "1.5.0",
          "state": {
            "_model_module": "@jupyter-widgets/controls",
            "_model_module_version": "1.5.0",
            "_model_name": "ProgressStyleModel",
            "_view_count": null,
            "_view_module": "@jupyter-widgets/base",
            "_view_module_version": "1.2.0",
            "_view_name": "StyleView",
            "bar_color": null,
            "description_width": ""
          }
        },
        "25b9de29f2c744aa811f1aff3c1daeaf": {
          "model_module": "@jupyter-widgets/base",
          "model_name": "LayoutModel",
          "model_module_version": "1.2.0",
          "state": {
            "_model_module": "@jupyter-widgets/base",
            "_model_module_version": "1.2.0",
            "_model_name": "LayoutModel",
            "_view_count": null,
            "_view_module": "@jupyter-widgets/base",
            "_view_module_version": "1.2.0",
            "_view_name": "LayoutView",
            "align_content": null,
            "align_items": null,
            "align_self": null,
            "border": null,
            "bottom": null,
            "display": null,
            "flex": null,
            "flex_flow": null,
            "grid_area": null,
            "grid_auto_columns": null,
            "grid_auto_flow": null,
            "grid_auto_rows": null,
            "grid_column": null,
            "grid_gap": null,
            "grid_row": null,
            "grid_template_areas": null,
            "grid_template_columns": null,
            "grid_template_rows": null,
            "height": null,
            "justify_content": null,
            "justify_items": null,
            "left": null,
            "margin": null,
            "max_height": null,
            "max_width": null,
            "min_height": null,
            "min_width": null,
            "object_fit": null,
            "object_position": null,
            "order": null,
            "overflow": null,
            "overflow_x": null,
            "overflow_y": null,
            "padding": null,
            "right": null,
            "top": null,
            "visibility": null,
            "width": null
          }
        },
        "91723a285b1f4b75993bf8af9ea3f54a": {
          "model_module": "@jupyter-widgets/controls",
          "model_name": "DescriptionStyleModel",
          "model_module_version": "1.5.0",
          "state": {
            "_model_module": "@jupyter-widgets/controls",
            "_model_module_version": "1.5.0",
            "_model_name": "DescriptionStyleModel",
            "_view_count": null,
            "_view_module": "@jupyter-widgets/base",
            "_view_module_version": "1.2.0",
            "_view_name": "StyleView",
            "description_width": ""
          }
        }
      }
    },
    "accelerator": "GPU"
  },
  "cells": [
    {
      "cell_type": "markdown",
      "metadata": {
        "id": "view-in-github",
        "colab_type": "text"
      },
      "source": [
        "<a href=\"https://colab.research.google.com/github/sudhang/css-nlp/blob/master/falcon/Falcon_7B_QLORA_Generate.ipynb\" target=\"_parent\"><img src=\"https://colab.research.google.com/assets/colab-badge.svg\" alt=\"Open In Colab\"/></a>"
      ]
    },
    {
      "cell_type": "code",
      "source": [
        "# Make it pretty\n",
        "from IPython.display import HTML, display\n",
        "\n",
        "def set_css():\n",
        "  display(HTML('''\n",
        "  <style>\n",
        "    pre {\n",
        "        white-space: pre-wrap;\n",
        "    }\n",
        "  </style>\n",
        "  '''))\n",
        "get_ipython().events.register('pre_run_cell', set_css)"
      ],
      "metadata": {
        "id": "zXfXqv_XmHtn"
      },
      "execution_count": null,
      "outputs": []
    },
    {
      "cell_type": "markdown",
      "source": [
        "In this notebook, we will use Falcon from TIIUAE, which was released a few months ago.  We will fine-tune it using QLORA.  We will do 4-bit quantization, enabling this 7Billion Parameter model to be trained on a free Google Colab\n",
        "\n",
        "We rely a lot on the google colab notebooks and the tutorials provided by huggingface:  https://huggingface.co/blog/4bit-transformers-bitsandbytes\n",
        "\n",
        "Apart form that, we used a number of tutorial blogs and even youtube videos:\n",
        "\n",
        "\n",
        "\n",
        "1.   [Fine-tuning Alpaca and LLaMA: Training on a Custom Dataset](https://www.mlexpert.io/machine-learning/tutorials/alpaca-fine-tuning#user-content-fn-6)\n",
        "2.   [LORA: LOW-RANK ADAPTATION OF LARGE LANGUAGE MODELS](https://arxiv.org/pdf/2106.09685.pdf)\n",
        "3.   [How to Fine-Tune Open-Source LLMs Locally Using QLoRA!](https://youtu.be/2bkrL2ZcOiM)\n",
        "4.   [QLORA: Efficient Finetuning of Quantized LLMs](https://arxiv.org/pdf/2305.14314.pdf)\n",
        "5. [How to generate text: using different decoding methods for language generation with Transformers](https://huggingface.co/blog/how-to-generate)\n",
        "6. [Making LLMs even more accessible with bitsandbytes, 4-bit quantization and QLoRA](https://huggingface.co/blog/4bit-transformers-bitsandbytes)\n",
        "\n",
        "\n",
        "\n",
        "\n",
        "\n"
      ],
      "metadata": {
        "id": "_hDYvccowjpM"
      }
    },
    {
      "cell_type": "markdown",
      "source": [
        "### Installations"
      ],
      "metadata": {
        "id": "GKE7r6Z9w5Hi"
      }
    },
    {
      "cell_type": "code",
      "execution_count": null,
      "metadata": {
        "colab": {
          "base_uri": "https://localhost:8080/",
          "height": 243
        },
        "id": "hkn_4CgUuUTK",
        "outputId": "d3c3768d-3e9d-47f8-cdcb-885c0fb9e2a1"
      },
      "outputs": [
        {
          "output_type": "display_data",
          "data": {
            "text/plain": [
              "<IPython.core.display.HTML object>"
            ],
            "text/html": [
              "\n",
              "  <style>\n",
              "    pre {\n",
              "        white-space: pre-wrap;\n",
              "    }\n",
              "  </style>\n",
              "  "
            ]
          },
          "metadata": {}
        },
        {
          "output_type": "stream",
          "name": "stdout",
          "text": [
            "  Installing build dependencies ... \u001b[?25l\u001b[?25hdone\n",
            "  Getting requirements to build wheel ... \u001b[?25l\u001b[?25hdone\n",
            "  Preparing metadata (pyproject.toml) ... \u001b[?25l\u001b[?25hdone\n",
            "  Installing build dependencies ... \u001b[?25l\u001b[?25hdone\n",
            "  Getting requirements to build wheel ... \u001b[?25l\u001b[?25hdone\n",
            "  Preparing metadata (pyproject.toml) ... \u001b[?25l\u001b[?25hdone\n",
            "\n",
            "  Installing build dependencies ... \u001b[?25l\u001b[?25hdone\n",
            "  Getting requirements to build wheel ... \u001b[?25l\u001b[?25hdone\n",
            "  Preparing metadata (pyproject.toml) ... \u001b[?25l\u001b[?25hdone\n",
            "Requirement already satisfied: rouge in /usr/local/lib/python3.10/dist-packages (1.0.1)\n",
            "Requirement already satisfied: six in /usr/local/lib/python3.10/dist-packages (from rouge) (1.16.0)\n",
            "Requirement already satisfied: einops in /usr/local/lib/python3.10/dist-packages (0.6.1)\n"
          ]
        }
      ],
      "source": [
        "!pip install -q -U bitsandbytes\n",
        "!pip install -q -U git+https://github.com/huggingface/transformers.git\n",
        "!pip install -q -U git+https://github.com/huggingface/peft.git\n",
        "!pip install -q -U git+https://github.com/huggingface/accelerate.git\n",
        "!pip install -q datasets\n",
        "!pip install rouge\n",
        "!pip install einops"
      ]
    },
    {
      "cell_type": "markdown",
      "source": [
        "## FLAGS and PARAMS"
      ],
      "metadata": {
        "id": "zsN3gcSo9N-h"
      }
    },
    {
      "cell_type": "code",
      "source": [
        "GDRIVEPATH = \"/content/drive/MyDrive/TU/Sem 4/NLP\""
      ],
      "metadata": {
        "colab": {
          "base_uri": "https://localhost:8080/",
          "height": 17
        },
        "id": "4wb3JlM5hhtE",
        "outputId": "107148ba-f36e-4f5d-cd20-756e092d32c0"
      },
      "execution_count": null,
      "outputs": [
        {
          "output_type": "display_data",
          "data": {
            "text/plain": [
              "<IPython.core.display.HTML object>"
            ],
            "text/html": [
              "\n",
              "  <style>\n",
              "    pre {\n",
              "        white-space: pre-wrap;\n",
              "    }\n",
              "  </style>\n",
              "  "
            ]
          },
          "metadata": {}
        }
      ]
    },
    {
      "cell_type": "code",
      "source": [
        "DEBUG = False\n",
        "NUM_TO_GEN = 5"
      ],
      "metadata": {
        "colab": {
          "base_uri": "https://localhost:8080/",
          "height": 17
        },
        "id": "_tjlGXF69PwV",
        "outputId": "30a450cd-86e3-467a-f0fd-963ff737200e"
      },
      "execution_count": null,
      "outputs": [
        {
          "output_type": "display_data",
          "data": {
            "text/plain": [
              "<IPython.core.display.HTML object>"
            ],
            "text/html": [
              "\n",
              "  <style>\n",
              "    pre {\n",
              "        white-space: pre-wrap;\n",
              "    }\n",
              "  </style>\n",
              "  "
            ]
          },
          "metadata": {}
        }
      ]
    },
    {
      "cell_type": "markdown",
      "source": [
        "## Imports\n",
        "\n",
        "To use the llama2 models from huggingface, we need to input an access token."
      ],
      "metadata": {
        "id": "GZUCvVv2xbWw"
      }
    },
    {
      "cell_type": "code",
      "source": [
        "from huggingface_hub import login\n",
        "login()"
      ],
      "metadata": {
        "id": "v0ORKPiLxc5z",
        "colab": {
          "base_uri": "https://localhost:8080/",
          "height": 145,
          "referenced_widgets": [
            "b66ffe6dd2324858822d222c438ee474",
            "bc0cd62f94c647b1b1d93cf89d3f5dbd",
            "cee1084103a442a28b7c358ba9f5de04",
            "ab990d0e7a2b4230ba3cd9939a7d9b10",
            "0fcae160e1dc44279a5fc6c923ede14a",
            "5437ed0b18f247c58d35fa70e681b5f1",
            "88003a8a6097436d830748502e7fe478",
            "35ce3eda1ed64aa1b6539a53392ac8bb",
            "076a409decf0457fa0dbdd4f0a994626",
            "36039f5acd044c30a94cce8e099b10ef",
            "fffd0f3f18464912a7f5349c30882c15",
            "a7e92bd736f148fcb3c87de98ec4a573",
            "290cb547f11341bbb72417ec828ed614",
            "bfe09e5933e74f12a530d791278d3d65",
            "bb1fca1904a6408d8d93be9023c9364f",
            "b63d93d82bda4898bfdcb2063a4b4705",
            "cc78d35cf61f454f9189b7d7539d2991",
            "eb83f3126b974931b88087ac8f74142c",
            "b04820e8af63438c9fcee7fedf80667d",
            "055960a7bd7f4e0e9920c0502dcb36b7",
            "88a3e311c010419380fabe30fb1b304f",
            "fa8c357d2f7c46ad8266b6cd95850fca",
            "7a7f156caaba4f7286bb8213fea89fd2",
            "b852aa182a0349a7b1b0f0d132619e64",
            "f41259a3fe2e40c98e7c12082bafbbfd",
            "b883dcbf5a284d679d3d184bb758b10e",
            "84dbd86d1a3449bfbd6890536a64610a",
            "8d6bd170fd4142038a98c302f7aa0de0",
            "3d227c675c9943c1a09f9eec6f142c7f",
            "37bed7a0c3ed4172a51d70a235907197",
            "baaac822d4654d578d1c3eadc1adf67e",
            "afedabac11ea4d37bfda74ee9a239914"
          ]
        },
        "outputId": "ba64c732-77c1-4642-f39f-f20030fe7684"
      },
      "execution_count": null,
      "outputs": [
        {
          "output_type": "display_data",
          "data": {
            "text/plain": [
              "<IPython.core.display.HTML object>"
            ],
            "text/html": [
              "\n",
              "  <style>\n",
              "    pre {\n",
              "        white-space: pre-wrap;\n",
              "    }\n",
              "  </style>\n",
              "  "
            ]
          },
          "metadata": {}
        },
        {
          "output_type": "display_data",
          "data": {
            "text/plain": [
              "VBox(children=(HTML(value='<center> <img\\nsrc=https://huggingface.co/front/assets/huggingface_logo-noborder.sv…"
            ],
            "application/vnd.jupyter.widget-view+json": {
              "version_major": 2,
              "version_minor": 0,
              "model_id": "b66ffe6dd2324858822d222c438ee474"
            }
          },
          "metadata": {}
        }
      ]
    },
    {
      "cell_type": "code",
      "source": [
        "import pandas as pd\n",
        "\n",
        "import torch\n",
        "import transformers\n",
        "from transformers import AutoTokenizer\n",
        "from transformers import AutoModelForCausalLM\n",
        "from transformers import BitsAndBytesConfig       # For quantization\n",
        "from peft import prepare_model_for_kbit_training\n",
        "\n",
        "from peft import LoraConfig                       # For LORA\n",
        "from peft import get_peft_model\n",
        "\n",
        "from datasets import Dataset, load_dataset, DatasetDict"
      ],
      "metadata": {
        "id": "wM3YbedRxosD",
        "colab": {
          "base_uri": "https://localhost:8080/",
          "height": 17
        },
        "outputId": "d4c2f4fe-63bd-413a-b162-1d3c91263829"
      },
      "execution_count": null,
      "outputs": [
        {
          "output_type": "display_data",
          "data": {
            "text/plain": [
              "<IPython.core.display.HTML object>"
            ],
            "text/html": [
              "\n",
              "  <style>\n",
              "    pre {\n",
              "        white-space: pre-wrap;\n",
              "    }\n",
              "  </style>\n",
              "  "
            ]
          },
          "metadata": {}
        }
      ]
    },
    {
      "cell_type": "markdown",
      "source": [
        "## Load a previous model"
      ],
      "metadata": {
        "id": "qwmqKRqsaMSj"
      }
    },
    {
      "cell_type": "code",
      "source": [
        "import torch\n",
        "from peft import PeftModel, PeftConfig\n",
        "from transformers import AutoModelForCausalLM, AutoTokenizer\n",
        "import nltk\n",
        "nltk.download('punkt')\n",
        "\n",
        "adapter_model_id = \"falcon_cssnlp\"\n",
        "peft_model_id = f\"sudhangshankar/{adapter_model_id}\"\n",
        "\n",
        "config = PeftConfig.from_pretrained(peft_model_id)\n",
        "the_base_model = config.base_model_name_or_path"
      ],
      "metadata": {
        "id": "n5T6hQuqaN3A",
        "colab": {
          "base_uri": "https://localhost:8080/",
          "height": 52
        },
        "outputId": "37e7182f-721d-4874-fe83-702d9e0e30ad"
      },
      "execution_count": null,
      "outputs": [
        {
          "output_type": "display_data",
          "data": {
            "text/plain": [
              "<IPython.core.display.HTML object>"
            ],
            "text/html": [
              "\n",
              "  <style>\n",
              "    pre {\n",
              "        white-space: pre-wrap;\n",
              "    }\n",
              "  </style>\n",
              "  "
            ]
          },
          "metadata": {}
        },
        {
          "output_type": "stream",
          "name": "stderr",
          "text": [
            "[nltk_data] Downloading package punkt to /root/nltk_data...\n",
            "[nltk_data]   Package punkt is already up-to-date!\n"
          ]
        }
      ]
    },
    {
      "cell_type": "code",
      "source": [
        "the_base_model"
      ],
      "metadata": {
        "colab": {
          "base_uri": "https://localhost:8080/",
          "height": 35
        },
        "id": "6VRD9d5oTZtk",
        "outputId": "b1363ba3-d0d1-4b11-f6e3-ebec6bc78bfb"
      },
      "execution_count": null,
      "outputs": [
        {
          "output_type": "display_data",
          "data": {
            "text/plain": [
              "<IPython.core.display.HTML object>"
            ],
            "text/html": [
              "\n",
              "  <style>\n",
              "    pre {\n",
              "        white-space: pre-wrap;\n",
              "    }\n",
              "  </style>\n",
              "  "
            ]
          },
          "metadata": {}
        },
        {
          "output_type": "execute_result",
          "data": {
            "text/plain": [
              "'tiiuae/falcon-7b'"
            ],
            "application/vnd.google.colaboratory.intrinsic+json": {
              "type": "string"
            }
          },
          "metadata": {},
          "execution_count": 8
        }
      ]
    },
    {
      "cell_type": "code",
      "source": [
        "config"
      ],
      "metadata": {
        "colab": {
          "base_uri": "https://localhost:8080/",
          "height": 34
        },
        "id": "s5JTfCJJ4364",
        "outputId": "4bd487f5-ff22-403e-c466-ebcde013453b"
      },
      "execution_count": null,
      "outputs": [
        {
          "output_type": "display_data",
          "data": {
            "text/plain": [
              "<IPython.core.display.HTML object>"
            ],
            "text/html": [
              "\n",
              "  <style>\n",
              "    pre {\n",
              "        white-space: pre-wrap;\n",
              "    }\n",
              "  </style>\n",
              "  "
            ]
          },
          "metadata": {}
        },
        {
          "output_type": "execute_result",
          "data": {
            "text/plain": [
              "PeftConfig(peft_type='LORA', auto_mapping=None, base_model_name_or_path='tiiuae/falcon-7b', revision=None, task_type='CAUSAL_LM', inference_mode=True)"
            ]
          },
          "metadata": {},
          "execution_count": 9
        }
      ]
    },
    {
      "cell_type": "code",
      "source": [
        "bnb_config = BitsAndBytesConfig(\n",
        "    load_in_4bit=True,\n",
        "    bnb_4bit_use_double_quant=True,         # nested quantization to preserve memory\n",
        "    bnb_4bit_quant_type=\"nf4\",              # NF4 gives higher precision than FP4\n",
        "    bnb_4bit_compute_dtype=torch.bfloat16\n",
        ")\n",
        "\n",
        "model = AutoModelForCausalLM.from_pretrained(\n",
        "                the_base_model,\n",
        "                return_dict=True,\n",
        "                quantization_config=bnb_config,\n",
        "                device_map='auto'\n",
        "              )\n",
        "tokenizer = AutoTokenizer.from_pretrained(the_base_model)\n",
        "\n",
        "# Load the Lora model\n",
        "model = PeftModel.from_pretrained(model, peft_model_id)\n"
      ],
      "metadata": {
        "colab": {
          "base_uri": "https://localhost:8080/",
          "height": 153,
          "referenced_widgets": [
            "0f286585a01d4434927d04f461dc6dac",
            "06ff34a3366c4c559113a5ed0a32672d",
            "8d5ed8b2fa1942c1a28a83ee4369c059",
            "58b27ce04cb64fccb28ee4f777acf7dc",
            "21bf47f82a8348e8941d21141b048ee6",
            "fa1d19701d9c4262a85724390e5d0f1d",
            "2f8d4812f3264412ac2c5dc9dee0f39f",
            "ffda57836c1d4aceb4c4320be291d51f",
            "e2ce59f9cbe64558976b2a195df1b1b1",
            "25b9de29f2c744aa811f1aff3c1daeaf",
            "91723a285b1f4b75993bf8af9ea3f54a"
          ]
        },
        "id": "fQBFR08a6uY6",
        "outputId": "045ede2b-9a6f-4c06-f30d-0d89650fa8de"
      },
      "execution_count": null,
      "outputs": [
        {
          "output_type": "display_data",
          "data": {
            "text/plain": [
              "<IPython.core.display.HTML object>"
            ],
            "text/html": [
              "\n",
              "  <style>\n",
              "    pre {\n",
              "        white-space: pre-wrap;\n",
              "    }\n",
              "  </style>\n",
              "  "
            ]
          },
          "metadata": {}
        },
        {
          "name": "stdout",
          "output_type": "stream",
          "text": [
            "Loading tiiuae/falcon-7b requires to execute some code in that repo, you can inspect the content of the repository at https://hf.co/tiiuae/falcon-7b. You can dismiss this prompt by passing `trust_remote_code=True`.\n",
            "Do you accept? [y/N] y\n",
            "Loading tiiuae/falcon-7b requires to execute some code in that repo, you can inspect the content of the repository at https://hf.co/tiiuae/falcon-7b. You can dismiss this prompt by passing `trust_remote_code=True`.\n",
            "Do you accept? [y/N] y\n"
          ]
        },
        {
          "output_type": "display_data",
          "data": {
            "text/plain": [
              "Loading checkpoint shards:   0%|          | 0/2 [00:00<?, ?it/s]"
            ],
            "application/vnd.jupyter.widget-view+json": {
              "version_major": 2,
              "version_minor": 0,
              "model_id": "0f286585a01d4434927d04f461dc6dac"
            }
          },
          "metadata": {}
        }
      ]
    },
    {
      "cell_type": "markdown",
      "source": [
        "## Generation\n"
      ],
      "metadata": {
        "id": "hOc3mvvkAd3w"
      }
    },
    {
      "cell_type": "code",
      "source": [
        "if DEBUG:\n",
        "  # Generate a prompt\n",
        "  prompt = 'Greek Coast Guard vessels on Saturday evacuated hundreds of tourists and locals trapped in seaside villages on Rhodes that were threatened by five-day-old wildfires, moving them to safer parts of the island.'\n",
        "\n",
        "  device = \"cuda:0\"\n",
        "  inputs = tokenizer(prompt, return_tensors=\"pt\")\n",
        "  # We need only the following two fields.\n",
        "  input_ids = inputs['input_ids'].to(device)\n",
        "  attention_mask = inputs['attention_mask'].to(device)\n",
        "\n",
        "  model.config.use_cache = True\n",
        "  outputs = model.generate(\n",
        "                  input_ids=input_ids,\n",
        "                  attention_mask=attention_mask,\n",
        "                  # Use sampling instead of greedy decoding\n",
        "                  do_sample=True,\n",
        "                  # Keep only top 50 token with\n",
        "                  # the highest probability\n",
        "                  top_k=50,\n",
        "                  # Maximum sequence length\n",
        "                  max_length=300,             # TODO: Max token length for LLaMa2 is 4096\n",
        "                  # Keep only the most probable tokens\n",
        "                  # with cumulative probability of 95%\n",
        "                  top_p=0.95,\n",
        "                  # Changes randomness of generated sequences\n",
        "                  temperature=0.7,\n",
        "                  repetition_penalty=2,  # Falcon seems to enjoy repetition.  Increasing the penalty\n",
        "                  # Number of sequences to generate\n",
        "                  num_return_sequences=1)\n",
        "\n",
        "\n",
        "  for i, sample_output in enumerate(outputs):\n",
        "      print(f\"{i}: {tokenizer.decode(sample_output, skip_special_tokens=True)}\\n\\n\")"
      ],
      "metadata": {
        "id": "MtON793rArzP",
        "colab": {
          "base_uri": "https://localhost:8080/",
          "height": 17
        },
        "outputId": "c840a26b-6ba9-44df-c178-b65dbf0a3597"
      },
      "execution_count": null,
      "outputs": [
        {
          "output_type": "display_data",
          "data": {
            "text/plain": [
              "<IPython.core.display.HTML object>"
            ],
            "text/html": [
              "\n",
              "  <style>\n",
              "    pre {\n",
              "        white-space: pre-wrap;\n",
              "    }\n",
              "  </style>\n",
              "  "
            ]
          },
          "metadata": {}
        }
      ]
    },
    {
      "cell_type": "code",
      "source": [
        "def count_sentences(text_list):\n",
        "    total_sentences = 0\n",
        "    for text in text_list:\n",
        "        sentences = nltk.sent_tokenize(text)\n",
        "        total_sentences += len(sentences)\n",
        "    return total_sentences\n",
        "\n",
        "# Example usage:\n",
        "text_list = [\n",
        "    \"This is the first sentence. This is the second sentence.\",\n",
        "    \"This is another sentence.\"\n",
        "  ]\n",
        "print(count_sentences(text_list))  # Output: 3\n"
      ],
      "metadata": {
        "id": "l-lbmF25HBxa",
        "colab": {
          "base_uri": "https://localhost:8080/",
          "height": 34
        },
        "outputId": "e5ca5398-23d3-4f14-feef-11779374ca6b"
      },
      "execution_count": null,
      "outputs": [
        {
          "output_type": "display_data",
          "data": {
            "text/plain": [
              "<IPython.core.display.HTML object>"
            ],
            "text/html": [
              "\n",
              "  <style>\n",
              "    pre {\n",
              "        white-space: pre-wrap;\n",
              "    }\n",
              "  </style>\n",
              "  "
            ]
          },
          "metadata": {}
        },
        {
          "output_type": "stream",
          "name": "stdout",
          "text": [
            "3\n"
          ]
        }
      ]
    },
    {
      "cell_type": "code",
      "source": [
        "def generate_news_article(prompt=\"Graz, Austria - \", min_sentences = 50):\n",
        "\n",
        "  device = \"cuda:0\"\n",
        "\n",
        "  gen_text_snippets = [prompt]\n",
        "  count_gen_sentences = count_sentences(gen_text_snippets)\n",
        "\n",
        "  while count_gen_sentences < min_sentences:\n",
        "    last_gen_snippet = gen_text_snippets[-1].rstrip('. ')\n",
        "                                                # rstrip('. ') to trick it into\n",
        "                                                # thinking the sentence isn't\n",
        "                                                # over so that it doesn't decide\n",
        "                                                # to go off on a tangent\n",
        "\n",
        "    inputs = tokenizer(last_gen_snippet, return_tensors=\"pt\")\n",
        "    # We need only the following two fields.\n",
        "    input_ids = inputs['input_ids'].to(device)\n",
        "    attention_mask = inputs['attention_mask'].to(device)\n",
        "\n",
        "    outputs = model.generate(\n",
        "                    input_ids=input_ids,\n",
        "                    attention_mask=attention_mask,\n",
        "                    # Use sampling instead of greedy decoding\n",
        "                    do_sample=True,\n",
        "                    # Keep only top 50 token with\n",
        "                    # the highest probability\n",
        "                    top_k=50,\n",
        "                    # Maximum sequence length\n",
        "                    max_length=1000,             # Max token length for Falcon is 2048\n",
        "                    # Keep only the most probable tokens\n",
        "                    # with cumulative probability of 95%\n",
        "                    top_p=0.95,\n",
        "                    temperature=0.3,        # Low temperature, since we have such a large sequence being generated\n",
        "                    repetition_penalty=10.0,  # Corrected here\n",
        "                    # Number of sequences to generate\n",
        "                    num_return_sequences=1)\n",
        "\n",
        "    last_gen_snippet_length = len(tokenizer.encode(last_gen_snippet))\n",
        "    gen_text = tokenizer.decode(\n",
        "        outputs[0][last_gen_snippet_length:],\n",
        "        skip_special_tokens=True\n",
        "      )\n",
        "    gen_text_snippets.append(gen_text)\n",
        "    count_gen_sentences = count_sentences(gen_text_snippets)\n",
        "    if DEBUG:\n",
        "      print(f\"{gen_text=}\\n{count_gen_sentences=}====\\n\")\n",
        "\n",
        "  gen_text = \" \".join(gen_text_snippets)\n",
        "\n",
        "  return gen_text\n",
        "\n"
      ],
      "metadata": {
        "id": "M1k87t9WFr9V",
        "colab": {
          "base_uri": "https://localhost:8080/",
          "height": 17
        },
        "outputId": "8a37dd32-8772-437b-d46c-06d8bd886799"
      },
      "execution_count": null,
      "outputs": [
        {
          "output_type": "display_data",
          "data": {
            "text/plain": [
              "<IPython.core.display.HTML object>"
            ],
            "text/html": [
              "\n",
              "  <style>\n",
              "    pre {\n",
              "        white-space: pre-wrap;\n",
              "    }\n",
              "  </style>\n",
              "  "
            ]
          },
          "metadata": {}
        }
      ]
    },
    {
      "cell_type": "code",
      "source": [
        "if DEBUG:\n",
        "  the_prompt = \"NEW DELHI - Thousands of people were evacuated from their homes \"\n",
        "  article = generate_news_article(prompt = the_prompt, min_sentences=51)\n",
        "  display(article)\n",
        "  print(\"\\n\\n\")"
      ],
      "metadata": {
        "id": "U39dHhX7IWP4",
        "colab": {
          "base_uri": "https://localhost:8080/",
          "height": 17
        },
        "outputId": "753a80ec-5a66-4993-d83d-3302bb7fd941"
      },
      "execution_count": null,
      "outputs": [
        {
          "output_type": "display_data",
          "data": {
            "text/plain": [
              "<IPython.core.display.HTML object>"
            ],
            "text/html": [
              "\n",
              "  <style>\n",
              "    pre {\n",
              "        white-space: pre-wrap;\n",
              "    }\n",
              "  </style>\n",
              "  "
            ]
          },
          "metadata": {}
        }
      ]
    },
    {
      "cell_type": "code",
      "source": [
        "# Load the csv file\n",
        "df = pd.read_csv(f'{GDRIVEPATH}/data/nyt_test.csv')\n",
        "\n",
        "# Initialize a new dataframe\n",
        "new_df = pd.DataFrame(columns=['Original Article', 'Prompt', 'Generated Article'])\n",
        "\n",
        "count_gen = 0\n",
        "while count_gen < NUM_TO_GEN:\n",
        "    random_article = df['content'].sample(1).values[0]\n",
        "\n",
        "    try:\n",
        "      sentences = nltk.sent_tokenize(random_article)\n",
        "      # Use the first two sentences of the real article as the prompt\n",
        "      prompt = ' '.join(sentences[:2])\n",
        "\n",
        "      print(f\"{count_gen=}\\n{prompt=}\\n======\")\n",
        "\n",
        "      generated_article = generate_news_article(prompt=prompt, min_sentences=51)\n",
        "\n",
        "      current_df = pd.DataFrame({\n",
        "          'Original Article': [random_article],\n",
        "          'Prompt': [prompt],\n",
        "          'Generated Article': [generated_article]\n",
        "      })\n",
        "\n",
        "      # Append the current dataframe to the new dataframe\n",
        "      new_df = pd.concat([new_df, current_df], ignore_index=True)\n",
        "      count_gen = count_gen + 1\n",
        "    except:\n",
        "      # I have no clue why i have to do this.  just don't fail\n",
        "      # recover and then try with another article\n",
        "      pass\n",
        "\n",
        "\n",
        "# Post-processing to remove incomplete sentences\n",
        "new_df['Generated Article'] = new_df['Generated Article'].apply(lambda text:\n",
        "                                      ' '.join(nltk.sent_tokenize(text)[:-1])\n",
        "                                      if not text.endswith(('.', '!', '?'))\n",
        "                                      else text\n",
        "                                    )\n"
      ],
      "metadata": {
        "colab": {
          "base_uri": "https://localhost:8080/",
          "height": 746
        },
        "id": "Dgv4qXZTy0AC",
        "outputId": "560ba891-ddf0-4304-b7b5-0537da8cd298"
      },
      "execution_count": null,
      "outputs": [
        {
          "output_type": "display_data",
          "data": {
            "text/plain": [
              "<IPython.core.display.HTML object>"
            ],
            "text/html": [
              "\n",
              "  <style>\n",
              "    pre {\n",
              "        white-space: pre-wrap;\n",
              "    }\n",
              "  </style>\n",
              "  "
            ]
          },
          "metadata": {}
        },
        {
          "output_type": "stream",
          "name": "stderr",
          "text": [
            "Setting `pad_token_id` to `eos_token_id`:11 for open-end generation.\n"
          ]
        },
        {
          "output_type": "stream",
          "name": "stdout",
          "text": [
            "count_gen=0\n",
            "prompt='It was Donald J. Trump’s chance to sound contrite and mature, to explain away the sexually predatory boasts he was caught making on tape and to persuade Americans that — for all his no-apologies braggadocio — he was, in fact, capable of feeling shame. Maura Cotter, 22, a senior at the University of Notre Dame, was shocked at what Mr. Trump did instead in Sunday’s debate: repeat, over and over, that what he had said on the 2005 recording, about forcing himself on women and grabbing their genitals, was simply “locker-room banter.” It was, Ms. Cotter said, “not an apology — no reason to believe he’s changed at all.” A classmate, Abigail Wilson, who is a registered Republican, listened closely to Mr. Trump and was reminded, she said, of the time she was groped by a stranger.'\n",
            "======\n"
          ]
        },
        {
          "output_type": "stream",
          "name": "stderr",
          "text": [
            "Setting `pad_token_id` to `eos_token_id`:11 for open-end generation.\n",
            "Setting `pad_token_id` to `eos_token_id`:11 for open-end generation.\n",
            "Setting `pad_token_id` to `eos_token_id`:11 for open-end generation.\n",
            "Setting `pad_token_id` to `eos_token_id`:11 for open-end generation.\n"
          ]
        },
        {
          "output_type": "stream",
          "name": "stdout",
          "text": [
            "count_gen=1\n",
            "prompt='WASHINGTON — Henry A. Kissinger slipped into the State Department last week for a quiet lunch in his old office with Rex W. Tillerson, the former Exxon Mobil chief executive, who has all but covered himself in a cloak of invisibility in his first six weeks as secretary of state. Describing his impressions, Mr. Kissinger, perhaps America’s most famous diplomatic strategist, chose his words judiciously.'\n",
            "======\n"
          ]
        },
        {
          "output_type": "stream",
          "name": "stderr",
          "text": [
            "Setting `pad_token_id` to `eos_token_id`:11 for open-end generation.\n",
            "Setting `pad_token_id` to `eos_token_id`:11 for open-end generation.\n",
            "Setting `pad_token_id` to `eos_token_id`:11 for open-end generation.\n"
          ]
        },
        {
          "output_type": "stream",
          "name": "stdout",
          "text": [
            "count_gen=2\n",
            "prompt='Gov. Mike Pence, aligning himself with the Republican establishment rather than his running mate, broke with Donald J. Trump on Wednesday by endorsing Speaker Paul D. Ryan’s re-election bid, a day after Mr. Trump roiled the party by declaring that he was not yet ready to support the speaker.'\n",
            "======\n"
          ]
        },
        {
          "output_type": "stream",
          "name": "stderr",
          "text": [
            "Setting `pad_token_id` to `eos_token_id`:11 for open-end generation.\n",
            "Setting `pad_token_id` to `eos_token_id`:11 for open-end generation.\n",
            "Setting `pad_token_id` to `eos_token_id`:11 for open-end generation.\n"
          ]
        },
        {
          "output_type": "stream",
          "name": "stdout",
          "text": [
            "count_gen=3\n",
            "prompt='SEOUL, South Korea — Keeping diplomatic developments coming at a head-snapping pace, the South Korean government said on Sunday that North Korea’s leader, Kim Jong-un, had told President Moon Jae-in that he would abandon his nuclear weapons if the United States agreed to formally end the Korean War and promise not to invade his country. In a confidence-building gesture ahead of a proposed summit meeting with President Trump, a suddenly loquacious and conciliatory Mr. Kim also said he would invite experts and journalists from South Korea and the United States to watch the shutdown next month of his country’s only known underground nuclear test site.'\n",
            "======\n"
          ]
        },
        {
          "output_type": "stream",
          "name": "stderr",
          "text": [
            "Setting `pad_token_id` to `eos_token_id`:11 for open-end generation.\n",
            "Setting `pad_token_id` to `eos_token_id`:11 for open-end generation.\n",
            "Setting `pad_token_id` to `eos_token_id`:11 for open-end generation.\n"
          ]
        },
        {
          "output_type": "stream",
          "name": "stdout",
          "text": [
            "count_gen=4\n",
            "prompt='NICE, France — At times it was hard to know who was on trial, the smuggler or the state. The defendant, Cédric Herrou, 37, a slightly built olive farmer, did not deny that for months he had illegally spirited dozens of migrants through the remote mountain valley where he lives.'\n",
            "======\n"
          ]
        },
        {
          "output_type": "stream",
          "name": "stderr",
          "text": [
            "Setting `pad_token_id` to `eos_token_id`:11 for open-end generation.\n",
            "Setting `pad_token_id` to `eos_token_id`:11 for open-end generation.\n"
          ]
        }
      ]
    },
    {
      "cell_type": "markdown",
      "source": [
        "## Post-Processing"
      ],
      "metadata": {
        "id": "m9_DN0pxxAXC"
      }
    },
    {
      "cell_type": "code",
      "source": [
        "import re\n",
        "from nltk.tokenize import sent_tokenize, word_tokenize\n",
        "\n",
        "def post_process(text):\n",
        "    # Remove double punctuation\n",
        "    text = re.sub(r'[!?]{2,}', r'', text)\n",
        "\n",
        "    # Remove spaces before punctuation\n",
        "    text = re.sub(r'\\s*([.,!?])', r'\\1', text)\n",
        "\n",
        "    # Remove extra whitespace\n",
        "    text = text.strip()\n",
        "    text = re.sub(r' +', ' ', text)\n",
        "\n",
        "    #Removes whitespaces around contraction marks in a string.\n",
        "    pattern = r'\\s([\\'’])\\s'\n",
        "    text = re.sub(pattern, r'\\1', text)\n",
        "\n",
        "    #Removes whitespaces around opening quote marks in a string.\n",
        "    pattern = r'“\\s'\n",
        "    text = re.sub(pattern, r'“', text)\n",
        "\n",
        "    #Removes whitespaces around closing quote marks in a string.\n",
        "    pattern = r'\\s”'\n",
        "    text = re.sub(pattern, r'”', text)\n",
        "\n",
        "    return text\n",
        "\n",
        "new_df['Generated Article'] = new_df['Generated Article'].apply(post_process)"
      ],
      "metadata": {
        "colab": {
          "base_uri": "https://localhost:8080/",
          "height": 17
        },
        "id": "UQHUXwALxP5H",
        "outputId": "c6a5e67e-79b1-4cdf-a82f-9f810a971e97"
      },
      "execution_count": null,
      "outputs": [
        {
          "output_type": "display_data",
          "data": {
            "text/plain": [
              "<IPython.core.display.HTML object>"
            ],
            "text/html": [
              "\n",
              "  <style>\n",
              "    pre {\n",
              "        white-space: pre-wrap;\n",
              "    }\n",
              "  </style>\n",
              "  "
            ]
          },
          "metadata": {}
        }
      ]
    },
    {
      "cell_type": "code",
      "source": [
        "new_df"
      ],
      "metadata": {
        "colab": {
          "base_uri": "https://localhost:8080/",
          "height": 206
        },
        "id": "lZPjyTNsNEGM",
        "outputId": "90667cc0-62eb-49bc-a296-bd71060a3aa2"
      },
      "execution_count": null,
      "outputs": [
        {
          "output_type": "display_data",
          "data": {
            "text/plain": [
              "<IPython.core.display.HTML object>"
            ],
            "text/html": [
              "\n",
              "  <style>\n",
              "    pre {\n",
              "        white-space: pre-wrap;\n",
              "    }\n",
              "  </style>\n",
              "  "
            ]
          },
          "metadata": {}
        },
        {
          "output_type": "execute_result",
          "data": {
            "text/plain": [
              "                                    Original Article  \\\n",
              "0  It was Donald J. Trump’s chance to sound contr...   \n",
              "1  WASHINGTON — Henry A. Kissinger slipped into t...   \n",
              "2  Gov. Mike Pence, aligning himself with the Rep...   \n",
              "3  SEOUL, South Korea — Keeping diplomatic develo...   \n",
              "4  NICE, France — At times it was hard to know wh...   \n",
              "\n",
              "                                              Prompt  \\\n",
              "0  It was Donald J. Trump’s chance to sound contr...   \n",
              "1  WASHINGTON — Henry A. Kissinger slipped into t...   \n",
              "2  Gov. Mike Pence, aligning himself with the Rep...   \n",
              "3  SEOUL, South Korea — Keeping diplomatic develo...   \n",
              "4  NICE, France — At times it was hard to know wh...   \n",
              "\n",
              "                                   Generated Article  \n",
              "0  It was Donald J. Trump’s chance to sound contr...  \n",
              "1  WASHINGTON — Henry A. Kissinger slipped into t...  \n",
              "2  Gov. Mike Pence, aligning himself with the Rep...  \n",
              "3  SEOUL, South Korea — Keeping diplomatic develo...  \n",
              "4  NICE, France — At times it was hard to know wh...  "
            ],
            "text/html": [
              "\n",
              "\n",
              "  <div id=\"df-1abe0d44-c2fd-4a42-b322-12212c9d2ec7\">\n",
              "    <div class=\"colab-df-container\">\n",
              "      <div>\n",
              "<style scoped>\n",
              "    .dataframe tbody tr th:only-of-type {\n",
              "        vertical-align: middle;\n",
              "    }\n",
              "\n",
              "    .dataframe tbody tr th {\n",
              "        vertical-align: top;\n",
              "    }\n",
              "\n",
              "    .dataframe thead th {\n",
              "        text-align: right;\n",
              "    }\n",
              "</style>\n",
              "<table border=\"1\" class=\"dataframe\">\n",
              "  <thead>\n",
              "    <tr style=\"text-align: right;\">\n",
              "      <th></th>\n",
              "      <th>Original Article</th>\n",
              "      <th>Prompt</th>\n",
              "      <th>Generated Article</th>\n",
              "    </tr>\n",
              "  </thead>\n",
              "  <tbody>\n",
              "    <tr>\n",
              "      <th>0</th>\n",
              "      <td>It was Donald J. Trump’s chance to sound contr...</td>\n",
              "      <td>It was Donald J. Trump’s chance to sound contr...</td>\n",
              "      <td>It was Donald J. Trump’s chance to sound contr...</td>\n",
              "    </tr>\n",
              "    <tr>\n",
              "      <th>1</th>\n",
              "      <td>WASHINGTON — Henry A. Kissinger slipped into t...</td>\n",
              "      <td>WASHINGTON — Henry A. Kissinger slipped into t...</td>\n",
              "      <td>WASHINGTON — Henry A. Kissinger slipped into t...</td>\n",
              "    </tr>\n",
              "    <tr>\n",
              "      <th>2</th>\n",
              "      <td>Gov. Mike Pence, aligning himself with the Rep...</td>\n",
              "      <td>Gov. Mike Pence, aligning himself with the Rep...</td>\n",
              "      <td>Gov. Mike Pence, aligning himself with the Rep...</td>\n",
              "    </tr>\n",
              "    <tr>\n",
              "      <th>3</th>\n",
              "      <td>SEOUL, South Korea — Keeping diplomatic develo...</td>\n",
              "      <td>SEOUL, South Korea — Keeping diplomatic develo...</td>\n",
              "      <td>SEOUL, South Korea — Keeping diplomatic develo...</td>\n",
              "    </tr>\n",
              "    <tr>\n",
              "      <th>4</th>\n",
              "      <td>NICE, France — At times it was hard to know wh...</td>\n",
              "      <td>NICE, France — At times it was hard to know wh...</td>\n",
              "      <td>NICE, France — At times it was hard to know wh...</td>\n",
              "    </tr>\n",
              "  </tbody>\n",
              "</table>\n",
              "</div>\n",
              "      <button class=\"colab-df-convert\" onclick=\"convertToInteractive('df-1abe0d44-c2fd-4a42-b322-12212c9d2ec7')\"\n",
              "              title=\"Convert this dataframe to an interactive table.\"\n",
              "              style=\"display:none;\">\n",
              "\n",
              "  <svg xmlns=\"http://www.w3.org/2000/svg\" height=\"24px\"viewBox=\"0 0 24 24\"\n",
              "       width=\"24px\">\n",
              "    <path d=\"M0 0h24v24H0V0z\" fill=\"none\"/>\n",
              "    <path d=\"M18.56 5.44l.94 2.06.94-2.06 2.06-.94-2.06-.94-.94-2.06-.94 2.06-2.06.94zm-11 1L8.5 8.5l.94-2.06 2.06-.94-2.06-.94L8.5 2.5l-.94 2.06-2.06.94zm10 10l.94 2.06.94-2.06 2.06-.94-2.06-.94-.94-2.06-.94 2.06-2.06.94z\"/><path d=\"M17.41 7.96l-1.37-1.37c-.4-.4-.92-.59-1.43-.59-.52 0-1.04.2-1.43.59L10.3 9.45l-7.72 7.72c-.78.78-.78 2.05 0 2.83L4 21.41c.39.39.9.59 1.41.59.51 0 1.02-.2 1.41-.59l7.78-7.78 2.81-2.81c.8-.78.8-2.07 0-2.86zM5.41 20L4 18.59l7.72-7.72 1.47 1.35L5.41 20z\"/>\n",
              "  </svg>\n",
              "      </button>\n",
              "\n",
              "\n",
              "\n",
              "    <div id=\"df-b4e25356-6e07-413b-bb27-f820315c94c1\">\n",
              "      <button class=\"colab-df-quickchart\" onclick=\"quickchart('df-b4e25356-6e07-413b-bb27-f820315c94c1')\"\n",
              "              title=\"Suggest charts.\"\n",
              "              style=\"display:none;\">\n",
              "\n",
              "<svg xmlns=\"http://www.w3.org/2000/svg\" height=\"24px\"viewBox=\"0 0 24 24\"\n",
              "     width=\"24px\">\n",
              "    <g>\n",
              "        <path d=\"M19 3H5c-1.1 0-2 .9-2 2v14c0 1.1.9 2 2 2h14c1.1 0 2-.9 2-2V5c0-1.1-.9-2-2-2zM9 17H7v-7h2v7zm4 0h-2V7h2v10zm4 0h-2v-4h2v4z\"/>\n",
              "    </g>\n",
              "</svg>\n",
              "      </button>\n",
              "    </div>\n",
              "\n",
              "<style>\n",
              "  .colab-df-quickchart {\n",
              "    background-color: #E8F0FE;\n",
              "    border: none;\n",
              "    border-radius: 50%;\n",
              "    cursor: pointer;\n",
              "    display: none;\n",
              "    fill: #1967D2;\n",
              "    height: 32px;\n",
              "    padding: 0 0 0 0;\n",
              "    width: 32px;\n",
              "  }\n",
              "\n",
              "  .colab-df-quickchart:hover {\n",
              "    background-color: #E2EBFA;\n",
              "    box-shadow: 0px 1px 2px rgba(60, 64, 67, 0.3), 0px 1px 3px 1px rgba(60, 64, 67, 0.15);\n",
              "    fill: #174EA6;\n",
              "  }\n",
              "\n",
              "  [theme=dark] .colab-df-quickchart {\n",
              "    background-color: #3B4455;\n",
              "    fill: #D2E3FC;\n",
              "  }\n",
              "\n",
              "  [theme=dark] .colab-df-quickchart:hover {\n",
              "    background-color: #434B5C;\n",
              "    box-shadow: 0px 1px 3px 1px rgba(0, 0, 0, 0.15);\n",
              "    filter: drop-shadow(0px 1px 2px rgba(0, 0, 0, 0.3));\n",
              "    fill: #FFFFFF;\n",
              "  }\n",
              "</style>\n",
              "\n",
              "    <script>\n",
              "      async function quickchart(key) {\n",
              "        const containerElement = document.querySelector('#' + key);\n",
              "        const charts = await google.colab.kernel.invokeFunction(\n",
              "            'suggestCharts', [key], {});\n",
              "      }\n",
              "    </script>\n",
              "\n",
              "      <script>\n",
              "\n",
              "function displayQuickchartButton(domScope) {\n",
              "  let quickchartButtonEl =\n",
              "    domScope.querySelector('#df-b4e25356-6e07-413b-bb27-f820315c94c1 button.colab-df-quickchart');\n",
              "  quickchartButtonEl.style.display =\n",
              "    google.colab.kernel.accessAllowed ? 'block' : 'none';\n",
              "}\n",
              "\n",
              "        displayQuickchartButton(document);\n",
              "      </script>\n",
              "      <style>\n",
              "    .colab-df-container {\n",
              "      display:flex;\n",
              "      flex-wrap:wrap;\n",
              "      gap: 12px;\n",
              "    }\n",
              "\n",
              "    .colab-df-convert {\n",
              "      background-color: #E8F0FE;\n",
              "      border: none;\n",
              "      border-radius: 50%;\n",
              "      cursor: pointer;\n",
              "      display: none;\n",
              "      fill: #1967D2;\n",
              "      height: 32px;\n",
              "      padding: 0 0 0 0;\n",
              "      width: 32px;\n",
              "    }\n",
              "\n",
              "    .colab-df-convert:hover {\n",
              "      background-color: #E2EBFA;\n",
              "      box-shadow: 0px 1px 2px rgba(60, 64, 67, 0.3), 0px 1px 3px 1px rgba(60, 64, 67, 0.15);\n",
              "      fill: #174EA6;\n",
              "    }\n",
              "\n",
              "    [theme=dark] .colab-df-convert {\n",
              "      background-color: #3B4455;\n",
              "      fill: #D2E3FC;\n",
              "    }\n",
              "\n",
              "    [theme=dark] .colab-df-convert:hover {\n",
              "      background-color: #434B5C;\n",
              "      box-shadow: 0px 1px 3px 1px rgba(0, 0, 0, 0.15);\n",
              "      filter: drop-shadow(0px 1px 2px rgba(0, 0, 0, 0.3));\n",
              "      fill: #FFFFFF;\n",
              "    }\n",
              "  </style>\n",
              "\n",
              "      <script>\n",
              "        const buttonEl =\n",
              "          document.querySelector('#df-1abe0d44-c2fd-4a42-b322-12212c9d2ec7 button.colab-df-convert');\n",
              "        buttonEl.style.display =\n",
              "          google.colab.kernel.accessAllowed ? 'block' : 'none';\n",
              "\n",
              "        async function convertToInteractive(key) {\n",
              "          const element = document.querySelector('#df-1abe0d44-c2fd-4a42-b322-12212c9d2ec7');\n",
              "          const dataTable =\n",
              "            await google.colab.kernel.invokeFunction('convertToInteractive',\n",
              "                                                     [key], {});\n",
              "          if (!dataTable) return;\n",
              "\n",
              "          const docLinkHtml = 'Like what you see? Visit the ' +\n",
              "            '<a target=\"_blank\" href=https://colab.research.google.com/notebooks/data_table.ipynb>data table notebook</a>'\n",
              "            + ' to learn more about interactive tables.';\n",
              "          element.innerHTML = '';\n",
              "          dataTable['output_type'] = 'display_data';\n",
              "          await google.colab.output.renderOutput(dataTable, element);\n",
              "          const docLink = document.createElement('div');\n",
              "          docLink.innerHTML = docLinkHtml;\n",
              "          element.appendChild(docLink);\n",
              "        }\n",
              "      </script>\n",
              "    </div>\n",
              "  </div>\n"
            ]
          },
          "metadata": {},
          "execution_count": 24
        }
      ]
    },
    {
      "cell_type": "code",
      "source": [
        "# Save the new dataframe to a csv file\n",
        "new_df.to_csv(f'{GDRIVEPATH}/generated/falconqlora_nyt_2.csv', index=False)"
      ],
      "metadata": {
        "colab": {
          "base_uri": "https://localhost:8080/",
          "height": 17
        },
        "id": "i3e5y7mx2gwa",
        "outputId": "7a02383e-0463-4c1f-98ef-613314d1ec10"
      },
      "execution_count": null,
      "outputs": [
        {
          "output_type": "display_data",
          "data": {
            "text/plain": [
              "<IPython.core.display.HTML object>"
            ],
            "text/html": [
              "\n",
              "  <style>\n",
              "    pre {\n",
              "        white-space: pre-wrap;\n",
              "    }\n",
              "  </style>\n",
              "  "
            ]
          },
          "metadata": {}
        }
      ]
    },
    {
      "cell_type": "code",
      "source": [
        "new_df"
      ],
      "metadata": {
        "colab": {
          "base_uri": "https://localhost:8080/",
          "height": 206
        },
        "id": "UCm5iFPtNpdn",
        "outputId": "a9468b55-9386-4991-8afc-9566ee6706fe"
      },
      "execution_count": null,
      "outputs": [
        {
          "output_type": "display_data",
          "data": {
            "text/plain": [
              "<IPython.core.display.HTML object>"
            ],
            "text/html": [
              "\n",
              "  <style>\n",
              "    pre {\n",
              "        white-space: pre-wrap;\n",
              "    }\n",
              "  </style>\n",
              "  "
            ]
          },
          "metadata": {}
        },
        {
          "output_type": "execute_result",
          "data": {
            "text/plain": [
              "                                    Original Article  \\\n",
              "0  It was Donald J. Trump’s chance to sound contr...   \n",
              "1  WASHINGTON — Henry A. Kissinger slipped into t...   \n",
              "2  Gov. Mike Pence, aligning himself with the Rep...   \n",
              "3  SEOUL, South Korea — Keeping diplomatic develo...   \n",
              "4  NICE, France — At times it was hard to know wh...   \n",
              "\n",
              "                                              Prompt  \\\n",
              "0  It was Donald J. Trump’s chance to sound contr...   \n",
              "1  WASHINGTON — Henry A. Kissinger slipped into t...   \n",
              "2  Gov. Mike Pence, aligning himself with the Rep...   \n",
              "3  SEOUL, South Korea — Keeping diplomatic develo...   \n",
              "4  NICE, France — At times it was hard to know wh...   \n",
              "\n",
              "                                   Generated Article  \n",
              "0  It was Donald J. Trump’s chance to sound contr...  \n",
              "1  WASHINGTON — Henry A. Kissinger slipped into t...  \n",
              "2  Gov. Mike Pence, aligning himself with the Rep...  \n",
              "3  SEOUL, South Korea — Keeping diplomatic develo...  \n",
              "4  NICE, France — At times it was hard to know wh...  "
            ],
            "text/html": [
              "\n",
              "\n",
              "  <div id=\"df-c38417b5-f5ce-4d33-af5d-e6e97ac57437\">\n",
              "    <div class=\"colab-df-container\">\n",
              "      <div>\n",
              "<style scoped>\n",
              "    .dataframe tbody tr th:only-of-type {\n",
              "        vertical-align: middle;\n",
              "    }\n",
              "\n",
              "    .dataframe tbody tr th {\n",
              "        vertical-align: top;\n",
              "    }\n",
              "\n",
              "    .dataframe thead th {\n",
              "        text-align: right;\n",
              "    }\n",
              "</style>\n",
              "<table border=\"1\" class=\"dataframe\">\n",
              "  <thead>\n",
              "    <tr style=\"text-align: right;\">\n",
              "      <th></th>\n",
              "      <th>Original Article</th>\n",
              "      <th>Prompt</th>\n",
              "      <th>Generated Article</th>\n",
              "    </tr>\n",
              "  </thead>\n",
              "  <tbody>\n",
              "    <tr>\n",
              "      <th>0</th>\n",
              "      <td>It was Donald J. Trump’s chance to sound contr...</td>\n",
              "      <td>It was Donald J. Trump’s chance to sound contr...</td>\n",
              "      <td>It was Donald J. Trump’s chance to sound contr...</td>\n",
              "    </tr>\n",
              "    <tr>\n",
              "      <th>1</th>\n",
              "      <td>WASHINGTON — Henry A. Kissinger slipped into t...</td>\n",
              "      <td>WASHINGTON — Henry A. Kissinger slipped into t...</td>\n",
              "      <td>WASHINGTON — Henry A. Kissinger slipped into t...</td>\n",
              "    </tr>\n",
              "    <tr>\n",
              "      <th>2</th>\n",
              "      <td>Gov. Mike Pence, aligning himself with the Rep...</td>\n",
              "      <td>Gov. Mike Pence, aligning himself with the Rep...</td>\n",
              "      <td>Gov. Mike Pence, aligning himself with the Rep...</td>\n",
              "    </tr>\n",
              "    <tr>\n",
              "      <th>3</th>\n",
              "      <td>SEOUL, South Korea — Keeping diplomatic develo...</td>\n",
              "      <td>SEOUL, South Korea — Keeping diplomatic develo...</td>\n",
              "      <td>SEOUL, South Korea — Keeping diplomatic develo...</td>\n",
              "    </tr>\n",
              "    <tr>\n",
              "      <th>4</th>\n",
              "      <td>NICE, France — At times it was hard to know wh...</td>\n",
              "      <td>NICE, France — At times it was hard to know wh...</td>\n",
              "      <td>NICE, France — At times it was hard to know wh...</td>\n",
              "    </tr>\n",
              "  </tbody>\n",
              "</table>\n",
              "</div>\n",
              "      <button class=\"colab-df-convert\" onclick=\"convertToInteractive('df-c38417b5-f5ce-4d33-af5d-e6e97ac57437')\"\n",
              "              title=\"Convert this dataframe to an interactive table.\"\n",
              "              style=\"display:none;\">\n",
              "\n",
              "  <svg xmlns=\"http://www.w3.org/2000/svg\" height=\"24px\"viewBox=\"0 0 24 24\"\n",
              "       width=\"24px\">\n",
              "    <path d=\"M0 0h24v24H0V0z\" fill=\"none\"/>\n",
              "    <path d=\"M18.56 5.44l.94 2.06.94-2.06 2.06-.94-2.06-.94-.94-2.06-.94 2.06-2.06.94zm-11 1L8.5 8.5l.94-2.06 2.06-.94-2.06-.94L8.5 2.5l-.94 2.06-2.06.94zm10 10l.94 2.06.94-2.06 2.06-.94-2.06-.94-.94-2.06-.94 2.06-2.06.94z\"/><path d=\"M17.41 7.96l-1.37-1.37c-.4-.4-.92-.59-1.43-.59-.52 0-1.04.2-1.43.59L10.3 9.45l-7.72 7.72c-.78.78-.78 2.05 0 2.83L4 21.41c.39.39.9.59 1.41.59.51 0 1.02-.2 1.41-.59l7.78-7.78 2.81-2.81c.8-.78.8-2.07 0-2.86zM5.41 20L4 18.59l7.72-7.72 1.47 1.35L5.41 20z\"/>\n",
              "  </svg>\n",
              "      </button>\n",
              "\n",
              "\n",
              "\n",
              "    <div id=\"df-2c4aa7d9-8b9a-4289-a810-77561edfd088\">\n",
              "      <button class=\"colab-df-quickchart\" onclick=\"quickchart('df-2c4aa7d9-8b9a-4289-a810-77561edfd088')\"\n",
              "              title=\"Suggest charts.\"\n",
              "              style=\"display:none;\">\n",
              "\n",
              "<svg xmlns=\"http://www.w3.org/2000/svg\" height=\"24px\"viewBox=\"0 0 24 24\"\n",
              "     width=\"24px\">\n",
              "    <g>\n",
              "        <path d=\"M19 3H5c-1.1 0-2 .9-2 2v14c0 1.1.9 2 2 2h14c1.1 0 2-.9 2-2V5c0-1.1-.9-2-2-2zM9 17H7v-7h2v7zm4 0h-2V7h2v10zm4 0h-2v-4h2v4z\"/>\n",
              "    </g>\n",
              "</svg>\n",
              "      </button>\n",
              "    </div>\n",
              "\n",
              "<style>\n",
              "  .colab-df-quickchart {\n",
              "    background-color: #E8F0FE;\n",
              "    border: none;\n",
              "    border-radius: 50%;\n",
              "    cursor: pointer;\n",
              "    display: none;\n",
              "    fill: #1967D2;\n",
              "    height: 32px;\n",
              "    padding: 0 0 0 0;\n",
              "    width: 32px;\n",
              "  }\n",
              "\n",
              "  .colab-df-quickchart:hover {\n",
              "    background-color: #E2EBFA;\n",
              "    box-shadow: 0px 1px 2px rgba(60, 64, 67, 0.3), 0px 1px 3px 1px rgba(60, 64, 67, 0.15);\n",
              "    fill: #174EA6;\n",
              "  }\n",
              "\n",
              "  [theme=dark] .colab-df-quickchart {\n",
              "    background-color: #3B4455;\n",
              "    fill: #D2E3FC;\n",
              "  }\n",
              "\n",
              "  [theme=dark] .colab-df-quickchart:hover {\n",
              "    background-color: #434B5C;\n",
              "    box-shadow: 0px 1px 3px 1px rgba(0, 0, 0, 0.15);\n",
              "    filter: drop-shadow(0px 1px 2px rgba(0, 0, 0, 0.3));\n",
              "    fill: #FFFFFF;\n",
              "  }\n",
              "</style>\n",
              "\n",
              "    <script>\n",
              "      async function quickchart(key) {\n",
              "        const containerElement = document.querySelector('#' + key);\n",
              "        const charts = await google.colab.kernel.invokeFunction(\n",
              "            'suggestCharts', [key], {});\n",
              "      }\n",
              "    </script>\n",
              "\n",
              "      <script>\n",
              "\n",
              "function displayQuickchartButton(domScope) {\n",
              "  let quickchartButtonEl =\n",
              "    domScope.querySelector('#df-2c4aa7d9-8b9a-4289-a810-77561edfd088 button.colab-df-quickchart');\n",
              "  quickchartButtonEl.style.display =\n",
              "    google.colab.kernel.accessAllowed ? 'block' : 'none';\n",
              "}\n",
              "\n",
              "        displayQuickchartButton(document);\n",
              "      </script>\n",
              "      <style>\n",
              "    .colab-df-container {\n",
              "      display:flex;\n",
              "      flex-wrap:wrap;\n",
              "      gap: 12px;\n",
              "    }\n",
              "\n",
              "    .colab-df-convert {\n",
              "      background-color: #E8F0FE;\n",
              "      border: none;\n",
              "      border-radius: 50%;\n",
              "      cursor: pointer;\n",
              "      display: none;\n",
              "      fill: #1967D2;\n",
              "      height: 32px;\n",
              "      padding: 0 0 0 0;\n",
              "      width: 32px;\n",
              "    }\n",
              "\n",
              "    .colab-df-convert:hover {\n",
              "      background-color: #E2EBFA;\n",
              "      box-shadow: 0px 1px 2px rgba(60, 64, 67, 0.3), 0px 1px 3px 1px rgba(60, 64, 67, 0.15);\n",
              "      fill: #174EA6;\n",
              "    }\n",
              "\n",
              "    [theme=dark] .colab-df-convert {\n",
              "      background-color: #3B4455;\n",
              "      fill: #D2E3FC;\n",
              "    }\n",
              "\n",
              "    [theme=dark] .colab-df-convert:hover {\n",
              "      background-color: #434B5C;\n",
              "      box-shadow: 0px 1px 3px 1px rgba(0, 0, 0, 0.15);\n",
              "      filter: drop-shadow(0px 1px 2px rgba(0, 0, 0, 0.3));\n",
              "      fill: #FFFFFF;\n",
              "    }\n",
              "  </style>\n",
              "\n",
              "      <script>\n",
              "        const buttonEl =\n",
              "          document.querySelector('#df-c38417b5-f5ce-4d33-af5d-e6e97ac57437 button.colab-df-convert');\n",
              "        buttonEl.style.display =\n",
              "          google.colab.kernel.accessAllowed ? 'block' : 'none';\n",
              "\n",
              "        async function convertToInteractive(key) {\n",
              "          const element = document.querySelector('#df-c38417b5-f5ce-4d33-af5d-e6e97ac57437');\n",
              "          const dataTable =\n",
              "            await google.colab.kernel.invokeFunction('convertToInteractive',\n",
              "                                                     [key], {});\n",
              "          if (!dataTable) return;\n",
              "\n",
              "          const docLinkHtml = 'Like what you see? Visit the ' +\n",
              "            '<a target=\"_blank\" href=https://colab.research.google.com/notebooks/data_table.ipynb>data table notebook</a>'\n",
              "            + ' to learn more about interactive tables.';\n",
              "          element.innerHTML = '';\n",
              "          dataTable['output_type'] = 'display_data';\n",
              "          await google.colab.output.renderOutput(dataTable, element);\n",
              "          const docLink = document.createElement('div');\n",
              "          docLink.innerHTML = docLinkHtml;\n",
              "          element.appendChild(docLink);\n",
              "        }\n",
              "      </script>\n",
              "    </div>\n",
              "  </div>\n"
            ]
          },
          "metadata": {},
          "execution_count": 26
        }
      ]
    },
    {
      "cell_type": "code",
      "source": [
        "new_df.loc[3,\"Generated Article\"]"
      ],
      "metadata": {
        "colab": {
          "base_uri": "https://localhost:8080/",
          "height": 122
        },
        "id": "UH1-fC2RNplg",
        "outputId": "2852ca57-3047-41a0-a784-700dd0437571"
      },
      "execution_count": null,
      "outputs": [
        {
          "output_type": "display_data",
          "data": {
            "text/plain": [
              "<IPython.core.display.HTML object>"
            ],
            "text/html": [
              "\n",
              "  <style>\n",
              "    pre {\n",
              "        white-space: pre-wrap;\n",
              "    }\n",
              "  </style>\n",
              "  "
            ]
          },
          "metadata": {}
        },
        {
          "output_type": "execute_result",
          "data": {
            "text/plain": [
              "'SEOUL, South Korea — Keeping diplomatic developments coming at a head-snapping pace, the South Korean government said on Sunday that North Korea’s leader, Kim Jong-un, had told President Moon Jae-in that he would abandon his nuclear weapons if the United States agreed to formally end the Korean War and promise not to invade his country. In a confidence-building gesture ahead of a proposed summit meeting with President Trump, a suddenly loquacious and conciliatory Mr. Kim also said he would invite experts and journalists from South Korea and the United States to watch the shutdown next month of his country’s only known underground nuclear test site., according to officials in Seoul who were briefed by their counterparts on Saturday night in Washington. The announcement came after Secretary of State Rex W. Tillerson met for more than two hours with Mr. Moon in New York, where they discussed ways for Mr. Kim to give up nuclear arms without losing face or jeopardizing his regime. It was unclear whether Mr. Kim made any commitment to denuclearization in return. But the talks between the top American diplomat and Mr. Moon came as an apparent attempt to tamp down fears among some analysts here and abroad that the president might be rushing into negotiations too quickly with a man whose record includes assassinations, torture, public executions and other atrocities against the people of the Democratic People’s Republic of Korea. The talks also seemed aimed at reassuring Americans, many of whom are skeptical about a deal with Mr. Kim and have been urging Mr. Trump to hold out longer before agreeing to meet him. The White House has not yet announced when such a sit-down will take place, but it is expected to happen soon after the conclusion of this week’s Group of Seven economic leaders’ meetings. The announcement of a possible summit also comes amid rising tensions over the deployment by Mr. Kim of new intercontinental ballistic missiles capable of reaching America and its allies in Asia. On Friday, North Korea fired four short-range projectiles off the east coast, which flew less than 300 miles, prompting condemnation and threats from both China and Russia. It was not clear what kind of response North Korea expected from those countries or how much influence either nation could exert to restrain it from further provocations. But the missile launches appeared intended as an early warning shot across Washington’s bow — the first salvo in what may prove a long war of words between the countries. And they underscored the risk of miscalculation or misunderstanding in dealing with a dictator like Mr. Kim, a master showman who appears to relish playing games and taunting adversaries and rivals alike. “The Trump administration is trying to get its ducks in order,” Robert Sutter, director of Asian studies at Georgetown University, wrote on Twitter. “It has no idea where the conversation with Kim is going.” A senior official who spoke on condition of anonymity because of the sensitivity of the situation described the latest development as an effort by Mr. Trump and the secretary of state to make sure that North Korea understands how serious Washington is about pursuing the path toward peace and reconciliation. It was not immediately clear why Mr. Kim had chosen now, when he faces mounting pressure at home from hardliners opposed to engagement and a growing threat from North Korea’s neighbors and regional powers to impose crippling sanctions and military action, to offer such concessions. “We are ready for dialogue anytime, anywhere without preconditions,” Mr. Kim reportedly said during the discussions in Pyongyang with Mr. Tillerson. Mr. Kim and Mr. Trump exchanged letters last year through intermediaries in Singapore. Since then, however, there have been few signs that their relationship was progressing beyond a series of tweets in the fall. After Mr. Tillerson’s visit to South Korea last weekend to discuss preparations for a potential meeting, it became increasingly likely that one was imminent. It was still unknown what form a summit could take, although Mr. Tillerson suggested it could include other nations besides just the two Koreas. South Korea, Japan, Australia and Canada are all members of the so-called Quadrilateral Security Dialogue. China, a member of that group as well, also expressed interest. A summit could come within weeks. On Saturday, South Korean news agencies reported that North Korean Foreign Minister Ri Yong Ho met in Beijing with Chinese Vice Premier Liu Yandan, a former ambassador to Washington and longtime confidant of China’s paramount leadership, the Communist Party chief Xi Jinping. Mr. Ri told reporters afterward that he and his counterpart had reached agreement on the agenda of the upcoming intergovernmental summits. He did not elaborate, but said he hoped that “the atmosphere surrounding” them would “be conducive to solving problems between us,” adding, “I am confident that we can resolve issues related to our relations in accordance with that spirit.” It was not clear when the two men might meet again., or if they would do so in advance of any planned Trump-Kim summit, although it seems unlikely. In addition to the talks with Mr. Kim, the president had another high-stakes encounter in Manhattan with Russian President Vladimir V. Putin, his second since taking office, a session described by aides as cordial. The leaders agreed on the need for cooperation between their militaries against terrorism, including Islamic extremism. They were set to attend the opening ceremony of a World Cup soccer match later on Sunday in Moscow between England and Tunisia. But the talks between Mr. Putin and Mr. Trump took a dramatic turn late on Saturday night after Mr. Putin and other senior officials met at an undisclosed location with Sergei N. Kislyak, Russia’s ambassador to Washington, who was fired last week amid allegations that he may have been involved in efforts by Russians to interfere in last year’s presidential election. A White House official said Saturday evening that the two men discussed “a range of issues,” but did not provide details. It is unclear whether Mr. Trump knew about the meeting before the news broke publicly early on Sunday morning. In response, a spokesman for Senator John McCain of Arizona, one of Mr. Trump’s harshest critics in Congress and a former prisoner of war during Vietnam, called on him to fire the national security adviser H. R. McMaster. “If true that Donald Trump Jr., Jared Kushner and others attended this secretive gathering, then National Security Advisor HR McMaster must resign immediately,” Mr. McCain wrote. Mr. McMaster has been under intense scrutiny in recent weeks over reports of contacts with Michael T. Flynn, the retired general whom Mr. Trump abruptly dismissed last month as head of his transition team, which included discussions with the son and daughter-in-law of Mr. Putin about lifting sanctions imposed by Mr. Obama in retaliation for alleged interference in American elections. On Friday, after an article appeared about the contacts between General Flynn and the younger members of Mr. Putin’s inner circle, a top aide to the national security adviser issued a statement saying that no such meetings had taken place, although the administration had acknowledged some contact with Mr. Flynn about foreign policy matters, including Syria. On Sunday morning, the White House press secretary Sean Spicer told reporters aboard Air Force One that he was unaware of the nature of the conversation. He also declined to say if he believed it was appropriate for Mr. Putin to meet with Donald J. McGahn II, the new counsel to the president, and Rob Porter, his staff director, without informing White House lawyers, even though the White House chief legal officer has access to all classified information. “I don’t know what happened there, I can tell you,” he said. “But we are going to get back to you.” Asked to elaborate on whether he thought that meeting had violated protocol or ethics rules, Mr. Spicer replied: “No, but I think we are getting into semantics here.” He added, “We will be able to answer those questions when the time comes. We will give you more detail than I am giving you now, because that is how these things work.” The episode came just days after it emerged that the F.B.I. interviewed several people connected to General Flynn’s conversations with Mr. Kislyak. Those interviews occurred last December, according to current and former law enforcement officials, as part of an inquiry into possible ties between associates of President Trump and Russian government operatives. The disclosure came from Representative Adam B. Schiff of California, a Democrat who sits on the Intelligence Committee, during testimony before lawmakers investigating potential collusion between the Kremlin and the campaign. Mr. Schiff was asked why he felt compelled to reveal it now, given that he did not raise the issue until Sunday morning, after it became public through reporting by CNN. Mr. Schiff responded, “Because it’s important that you understand that these issues were raised and they were taken seriously, that it wasn’t something we could ignore.” Mr. Spicer’s comments echoed statements made earlier in the day by Sarah Huckabee Sanders, who insisted that “there are plenty of examples where other presidents have done similar things” when discussing the contacts. She told Fox News Channel, “There’s nothing wrong with having communications between countries and governments.” Asked whether she considered that Mr. Kushner’s attendance was inappropriate, Ms. Sanders replied, “That wasn’t my understanding, but again I haven’t seen anything beyond reports on television.” She said the president’s sons — Eric, Ivanka and Don junior, all advisers on the transition team — were aware of Mr. Trump’s decision to invite them to a dinner meeting with the Russian delegation.'"
            ],
            "application/vnd.google.colaboratory.intrinsic+json": {
              "type": "string"
            }
          },
          "metadata": {},
          "execution_count": 27
        }
      ]
    }
  ]
}