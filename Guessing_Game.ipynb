{
  "nbformat": 4,
  "nbformat_minor": 0,
  "metadata": {
    "colab": {
      "provenance": [],
      "include_colab_link": true
    },
    "kernelspec": {
      "name": "python3",
      "display_name": "Python 3"
    },
    "language_info": {
      "name": "python"
    },
    "widgets": {
      "application/vnd.jupyter.widget-state+json": {
        "8301dddfd790486486423b7a480fa8b0": {
          "model_module": "@jupyter-widgets/controls",
          "model_name": "TextModel",
          "model_module_version": "1.5.0",
          "state": {
            "_dom_classes": [],
            "_model_module": "@jupyter-widgets/controls",
            "_model_module_version": "1.5.0",
            "_model_name": "TextModel",
            "_view_count": null,
            "_view_module": "@jupyter-widgets/controls",
            "_view_module_version": "1.5.0",
            "_view_name": "TextView",
            "continuous_update": true,
            "description": "Evaluator Name:",
            "description_tooltip": null,
            "disabled": false,
            "layout": "IPY_MODEL_35a6185ff797468488aa92d3144c9140",
            "placeholder": "Enter your name",
            "style": "IPY_MODEL_0de873b529904bdcb2c5b43449c503de",
            "value": ""
          }
        },
        "35a6185ff797468488aa92d3144c9140": {
          "model_module": "@jupyter-widgets/base",
          "model_name": "LayoutModel",
          "model_module_version": "1.2.0",
          "state": {
            "_model_module": "@jupyter-widgets/base",
            "_model_module_version": "1.2.0",
            "_model_name": "LayoutModel",
            "_view_count": null,
            "_view_module": "@jupyter-widgets/base",
            "_view_module_version": "1.2.0",
            "_view_name": "LayoutView",
            "align_content": null,
            "align_items": null,
            "align_self": null,
            "border": null,
            "bottom": null,
            "display": null,
            "flex": null,
            "flex_flow": null,
            "grid_area": null,
            "grid_auto_columns": null,
            "grid_auto_flow": null,
            "grid_auto_rows": null,
            "grid_column": null,
            "grid_gap": null,
            "grid_row": null,
            "grid_template_areas": null,
            "grid_template_columns": null,
            "grid_template_rows": null,
            "height": null,
            "justify_content": null,
            "justify_items": null,
            "left": null,
            "margin": null,
            "max_height": null,
            "max_width": null,
            "min_height": null,
            "min_width": null,
            "object_fit": null,
            "object_position": null,
            "order": null,
            "overflow": null,
            "overflow_x": null,
            "overflow_y": null,
            "padding": null,
            "right": null,
            "top": null,
            "visibility": null,
            "width": null
          }
        },
        "0de873b529904bdcb2c5b43449c503de": {
          "model_module": "@jupyter-widgets/controls",
          "model_name": "DescriptionStyleModel",
          "model_module_version": "1.5.0",
          "state": {
            "_model_module": "@jupyter-widgets/controls",
            "_model_module_version": "1.5.0",
            "_model_name": "DescriptionStyleModel",
            "_view_count": null,
            "_view_module": "@jupyter-widgets/base",
            "_view_module_version": "1.2.0",
            "_view_name": "StyleView",
            "description_width": ""
          }
        },
        "5643dfb31a4b4ce3a6c68c4e7fb56394": {
          "model_module": "@jupyter-widgets/controls",
          "model_name": "DropdownModel",
          "model_module_version": "1.5.0",
          "state": {
            "_dom_classes": [],
            "_model_module": "@jupyter-widgets/controls",
            "_model_module_version": "1.5.0",
            "_model_name": "DropdownModel",
            "_options_labels": [
              "",
              "Original, Generated",
              "Generated, Original"
            ],
            "_view_count": null,
            "_view_module": "@jupyter-widgets/controls",
            "_view_module_version": "1.5.0",
            "_view_name": "DropdownView",
            "description": "Order:",
            "description_tooltip": null,
            "disabled": false,
            "index": 0,
            "layout": "IPY_MODEL_30f502e6b8084779b49844c67886d878",
            "style": "IPY_MODEL_c8b1f2aed5c04918be3236a1681c6c5f"
          }
        },
        "30f502e6b8084779b49844c67886d878": {
          "model_module": "@jupyter-widgets/base",
          "model_name": "LayoutModel",
          "model_module_version": "1.2.0",
          "state": {
            "_model_module": "@jupyter-widgets/base",
            "_model_module_version": "1.2.0",
            "_model_name": "LayoutModel",
            "_view_count": null,
            "_view_module": "@jupyter-widgets/base",
            "_view_module_version": "1.2.0",
            "_view_name": "LayoutView",
            "align_content": null,
            "align_items": null,
            "align_self": null,
            "border": null,
            "bottom": null,
            "display": null,
            "flex": null,
            "flex_flow": null,
            "grid_area": null,
            "grid_auto_columns": null,
            "grid_auto_flow": null,
            "grid_auto_rows": null,
            "grid_column": null,
            "grid_gap": null,
            "grid_row": null,
            "grid_template_areas": null,
            "grid_template_columns": null,
            "grid_template_rows": null,
            "height": null,
            "justify_content": null,
            "justify_items": null,
            "left": null,
            "margin": null,
            "max_height": null,
            "max_width": null,
            "min_height": null,
            "min_width": null,
            "object_fit": null,
            "object_position": null,
            "order": null,
            "overflow": null,
            "overflow_x": null,
            "overflow_y": null,
            "padding": null,
            "right": null,
            "top": null,
            "visibility": null,
            "width": null
          }
        },
        "c8b1f2aed5c04918be3236a1681c6c5f": {
          "model_module": "@jupyter-widgets/controls",
          "model_name": "DescriptionStyleModel",
          "model_module_version": "1.5.0",
          "state": {
            "_model_module": "@jupyter-widgets/controls",
            "_model_module_version": "1.5.0",
            "_model_name": "DescriptionStyleModel",
            "_view_count": null,
            "_view_module": "@jupyter-widgets/base",
            "_view_module_version": "1.2.0",
            "_view_name": "StyleView",
            "description_width": ""
          }
        },
        "3b5cc90cf4f44ad1a6b2e687237fd913": {
          "model_module": "@jupyter-widgets/controls",
          "model_name": "TextareaModel",
          "model_module_version": "1.5.0",
          "state": {
            "_dom_classes": [],
            "_model_module": "@jupyter-widgets/controls",
            "_model_module_version": "1.5.0",
            "_model_name": "TextareaModel",
            "_view_count": null,
            "_view_module": "@jupyter-widgets/controls",
            "_view_module_version": "1.5.0",
            "_view_name": "TextareaView",
            "continuous_update": true,
            "description": "Notes:",
            "description_tooltip": null,
            "disabled": false,
            "layout": "IPY_MODEL_a606a6e9663743caac3aacb4d605fb19",
            "placeholder": "Enter your notes",
            "rows": null,
            "style": "IPY_MODEL_7d7db391890449f2942a41a823c83c85",
            "value": ""
          }
        },
        "a606a6e9663743caac3aacb4d605fb19": {
          "model_module": "@jupyter-widgets/base",
          "model_name": "LayoutModel",
          "model_module_version": "1.2.0",
          "state": {
            "_model_module": "@jupyter-widgets/base",
            "_model_module_version": "1.2.0",
            "_model_name": "LayoutModel",
            "_view_count": null,
            "_view_module": "@jupyter-widgets/base",
            "_view_module_version": "1.2.0",
            "_view_name": "LayoutView",
            "align_content": null,
            "align_items": null,
            "align_self": null,
            "border": null,
            "bottom": null,
            "display": null,
            "flex": null,
            "flex_flow": null,
            "grid_area": null,
            "grid_auto_columns": null,
            "grid_auto_flow": null,
            "grid_auto_rows": null,
            "grid_column": null,
            "grid_gap": null,
            "grid_row": null,
            "grid_template_areas": null,
            "grid_template_columns": null,
            "grid_template_rows": null,
            "height": null,
            "justify_content": null,
            "justify_items": null,
            "left": null,
            "margin": null,
            "max_height": null,
            "max_width": null,
            "min_height": null,
            "min_width": null,
            "object_fit": null,
            "object_position": null,
            "order": null,
            "overflow": null,
            "overflow_x": null,
            "overflow_y": null,
            "padding": null,
            "right": null,
            "top": null,
            "visibility": null,
            "width": null
          }
        },
        "7d7db391890449f2942a41a823c83c85": {
          "model_module": "@jupyter-widgets/controls",
          "model_name": "DescriptionStyleModel",
          "model_module_version": "1.5.0",
          "state": {
            "_model_module": "@jupyter-widgets/controls",
            "_model_module_version": "1.5.0",
            "_model_name": "DescriptionStyleModel",
            "_view_count": null,
            "_view_module": "@jupyter-widgets/base",
            "_view_module_version": "1.2.0",
            "_view_name": "StyleView",
            "description_width": ""
          }
        },
        "82fce575c4074d948e315f3c6da4160a": {
          "model_module": "@jupyter-widgets/controls",
          "model_name": "ButtonModel",
          "model_module_version": "1.5.0",
          "state": {
            "_dom_classes": [],
            "_model_module": "@jupyter-widgets/controls",
            "_model_module_version": "1.5.0",
            "_model_name": "ButtonModel",
            "_view_count": null,
            "_view_module": "@jupyter-widgets/controls",
            "_view_module_version": "1.5.0",
            "_view_name": "ButtonView",
            "button_style": "",
            "description": "Next Article Pair",
            "disabled": false,
            "icon": "",
            "layout": "IPY_MODEL_bacf4be00b474eda835dc131bb286623",
            "style": "IPY_MODEL_c8badca6782342238a05d72f21bed7fd",
            "tooltip": ""
          }
        },
        "bacf4be00b474eda835dc131bb286623": {
          "model_module": "@jupyter-widgets/base",
          "model_name": "LayoutModel",
          "model_module_version": "1.2.0",
          "state": {
            "_model_module": "@jupyter-widgets/base",
            "_model_module_version": "1.2.0",
            "_model_name": "LayoutModel",
            "_view_count": null,
            "_view_module": "@jupyter-widgets/base",
            "_view_module_version": "1.2.0",
            "_view_name": "LayoutView",
            "align_content": null,
            "align_items": null,
            "align_self": null,
            "border": null,
            "bottom": null,
            "display": null,
            "flex": null,
            "flex_flow": null,
            "grid_area": null,
            "grid_auto_columns": null,
            "grid_auto_flow": null,
            "grid_auto_rows": null,
            "grid_column": null,
            "grid_gap": null,
            "grid_row": null,
            "grid_template_areas": null,
            "grid_template_columns": null,
            "grid_template_rows": null,
            "height": null,
            "justify_content": null,
            "justify_items": null,
            "left": null,
            "margin": null,
            "max_height": null,
            "max_width": null,
            "min_height": null,
            "min_width": null,
            "object_fit": null,
            "object_position": null,
            "order": null,
            "overflow": null,
            "overflow_x": null,
            "overflow_y": null,
            "padding": null,
            "right": null,
            "top": null,
            "visibility": null,
            "width": null
          }
        },
        "c8badca6782342238a05d72f21bed7fd": {
          "model_module": "@jupyter-widgets/controls",
          "model_name": "ButtonStyleModel",
          "model_module_version": "1.5.0",
          "state": {
            "_model_module": "@jupyter-widgets/controls",
            "_model_module_version": "1.5.0",
            "_model_name": "ButtonStyleModel",
            "_view_count": null,
            "_view_module": "@jupyter-widgets/base",
            "_view_module_version": "1.2.0",
            "_view_name": "StyleView",
            "button_color": null,
            "font_weight": ""
          }
        }
      }
    }
  },
  "cells": [
    {
      "cell_type": "markdown",
      "metadata": {
        "id": "view-in-github",
        "colab_type": "text"
      },
      "source": [
        "<a href=\"https://colab.research.google.com/github/sudhang/css-nlp/blob/master/Guessing_Game.ipynb\" target=\"_parent\"><img src=\"https://colab.research.google.com/assets/colab-badge.svg\" alt=\"Open In Colab\"/></a>"
      ]
    },
    {
      "cell_type": "code",
      "source": [
        "# Make it pretty\n",
        "from IPython.display import HTML, display\n",
        "\n",
        "def set_css():\n",
        "  display(HTML('''\n",
        "  <style>\n",
        "    pre {\n",
        "        white-space: pre-wrap;\n",
        "    }\n",
        "  </style>\n",
        "  '''))\n",
        "get_ipython().events.register('pre_run_cell', set_css)"
      ],
      "metadata": {
        "id": "S6QGmaGHc1MP"
      },
      "execution_count": 1,
      "outputs": []
    },
    {
      "cell_type": "markdown",
      "source": [
        "# PARAMS"
      ],
      "metadata": {
        "id": "JjNS7pYtc2du"
      }
    },
    {
      "cell_type": "code",
      "source": [
        "GITREPOPATH = \"https://raw.githubusercontent.com/sudhang/css-nlp/master\""
      ],
      "metadata": {
        "id": "EER_0FM3PnM9",
        "outputId": "961beb4b-3455-4b32-e212-692548503ef6",
        "colab": {
          "base_uri": "https://localhost:8080/",
          "height": 17
        }
      },
      "execution_count": 2,
      "outputs": [
        {
          "output_type": "display_data",
          "data": {
            "text/plain": [
              "<IPython.core.display.HTML object>"
            ],
            "text/html": [
              "\n",
              "  <style>\n",
              "    pre {\n",
              "        white-space: pre-wrap;\n",
              "    }\n",
              "  </style>\n",
              "  "
            ]
          },
          "metadata": {}
        }
      ]
    },
    {
      "cell_type": "markdown",
      "source": [
        "# Imports"
      ],
      "metadata": {
        "id": "WuOVRWy-c4ne"
      }
    },
    {
      "cell_type": "code",
      "source": [
        "import pandas as pd\n",
        "import nltk\n",
        "from nltk.translate.bleu_score import sentence_bleu\n",
        "from nltk.translate.bleu_score import SmoothingFunction\n",
        "from nltk.translate.meteor_score import meteor_score\n",
        "import ipywidgets as widgets\n",
        "import random\n",
        "from IPython.display import display\n",
        "from IPython.display import display, clear_output\n",
        "from nltk.tokenize import sent_tokenize\n",
        "nltk.download('punkt')"
      ],
      "metadata": {
        "id": "R50Kzcb2PDCl",
        "colab": {
          "base_uri": "https://localhost:8080/",
          "height": 69
        },
        "outputId": "be729763-8a84-4c97-887d-a1ee8397dbfb"
      },
      "execution_count": 3,
      "outputs": [
        {
          "output_type": "display_data",
          "data": {
            "text/plain": [
              "<IPython.core.display.HTML object>"
            ],
            "text/html": [
              "\n",
              "  <style>\n",
              "    pre {\n",
              "        white-space: pre-wrap;\n",
              "    }\n",
              "  </style>\n",
              "  "
            ]
          },
          "metadata": {}
        },
        {
          "output_type": "stream",
          "name": "stderr",
          "text": [
            "[nltk_data] Downloading package punkt to /root/nltk_data...\n",
            "[nltk_data]   Unzipping tokenizers/punkt.zip.\n"
          ]
        },
        {
          "output_type": "execute_result",
          "data": {
            "text/plain": [
              "True"
            ]
          },
          "metadata": {},
          "execution_count": 3
        }
      ]
    },
    {
      "cell_type": "code",
      "execution_count": 5,
      "metadata": {
        "id": "cSGOrepuELCS",
        "outputId": "50b85eeb-6606-4631-aef6-2c780ce1464a",
        "colab": {
          "base_uri": "https://localhost:8080/",
          "height": 17
        }
      },
      "outputs": [
        {
          "output_type": "display_data",
          "data": {
            "text/plain": [
              "<IPython.core.display.HTML object>"
            ],
            "text/html": [
              "\n",
              "  <style>\n",
              "    pre {\n",
              "        white-space: pre-wrap;\n",
              "    }\n",
              "  </style>\n",
              "  "
            ]
          },
          "metadata": {}
        }
      ],
      "source": [
        "df_llama_nyt = pd.read_csv(f'{GITREPOPATH}/generated/llama2qlora_nyt.csv')\n",
        "df_gptneo_nyt = pd.read_csv(f'{GITREPOPATH}/generated/gptneo_nyt.csv')\n",
        "df_ngrams_nyt = pd.read_csv(f'{GITREPOPATH}/generated/ngram_nyt_6.csv')\n",
        "df_falcon1_nyt = pd.read_csv(f'{GITREPOPATH}/generated/falconqlora_nyt_1.csv')\n",
        "df_falcon2_nyt = pd.read_csv(f'{GITREPOPATH}/generated/falconqlora_nyt_2.csv')\n",
        "df_falcon_nyt = pd.concat([df_falcon1_nyt, df_falcon2_nyt], axis=0, ignore_index=True)"
      ]
    },
    {
      "cell_type": "markdown",
      "source": [
        "## Combine Generated Data"
      ],
      "metadata": {
        "id": "dz_tteM8jk31"
      }
    },
    {
      "cell_type": "code",
      "source": [
        "# Add a 'Model' column to each DataFrame\n",
        "df_ngrams_nyt['Model'] = 'n-grams'\n",
        "df_llama_nyt['Model'] = 'LLaMa2'\n",
        "df_gptneo_nyt['Model'] = 'GPT-NEO'\n",
        "df_falcon_nyt['Model'] = \"Falcon\"\n",
        "\n",
        "# ngrams has 20 articles.  we need only 10, because all the others do too\n",
        "df_ngrams_nyt = df_ngrams_nyt.head(10)\n",
        "\n",
        "\n",
        "# Concatenate the DataFrames\n",
        "df_all = pd.concat([df_ngrams_nyt, df_llama_nyt, df_gptneo_nyt, df_falcon_nyt])\n",
        "\n",
        "# Shuffle the DataFrame\n",
        "df_all = df_all.sample(frac=1).reset_index(drop=True)"
      ],
      "metadata": {
        "id": "Voxzwnq-jkQt",
        "colab": {
          "base_uri": "https://localhost:8080/",
          "height": 17
        },
        "outputId": "ba35568a-bf9b-4826-83a8-5c9d0b89e0bd"
      },
      "execution_count": 8,
      "outputs": [
        {
          "output_type": "display_data",
          "data": {
            "text/plain": [
              "<IPython.core.display.HTML object>"
            ],
            "text/html": [
              "\n",
              "  <style>\n",
              "    pre {\n",
              "        white-space: pre-wrap;\n",
              "    }\n",
              "  </style>\n",
              "  "
            ]
          },
          "metadata": {}
        }
      ]
    },
    {
      "cell_type": "markdown",
      "source": [
        "# Human Evaluation\n",
        "To do a human evaluation, we have implemented a \"Guessing Game\": The evaluator is presented with both a real and a fake article.\n",
        "\n",
        "In our models, we take the first two sentences from a real article, and then use it as seed texts (prompts) for the language model.  We present the real article and the article generated from this prompt side by side, and ask the user to choose which one is real and which is generated.  The user must make an active choice which is which, because the default value is \"blank\".\n",
        "\n",
        "Another point to consider is that both the real and the generated articles are truncated to 25 sentences each.  This is because the generated articles are only made to be generated up to 51 or so sentences.  This would make \"abrupt cutoffs\" an easy way to determine that it is generated.  This, of course, is a limitation of our evaluation, as it does in fact hide a major failing of the generated articles!\n",
        "\n",
        "Note that the evaluator is not given any feedback about whether his/her guess was correct or not.  This is done in order to prevent him/her from being influenced by their game playing."
      ],
      "metadata": {
        "id": "sZaxBHcMcnvr"
      }
    },
    {
      "cell_type": "code",
      "source": [
        "from google.colab import files\n",
        "\n",
        "# Initialize a counter for the current row\n",
        "current_row = 0\n",
        "\n",
        "evaluator_name = None\n",
        "\n",
        "# Function to apply CSS\n",
        "def set_css():\n",
        "    display(HTML('''\n",
        "    <style>\n",
        "        pre {\n",
        "            white-space: pre-wrap;\n",
        "        }\n",
        "    </style>\n",
        "    '''))\n",
        "\n",
        "# Function to display a row from the DataFrame\n",
        "def guessing_game(df, row_num, num_sentences=25):\n",
        "    global current_row\n",
        "    global evaluator_name\n",
        "    current_row = row_num\n",
        "\n",
        "    # Clear previous output\n",
        "    clear_output(wait=True)\n",
        "\n",
        "    display(f\"Turn {current_row} of {len(df)}\")\n",
        "\n",
        "    # Apply CSS for prettification\n",
        "    set_css()\n",
        "\n",
        "    # Create the evaluator_name widget\n",
        "    if evaluator_name is None:\n",
        "      evaluator_name = widgets.Text(value='', description='Evaluator Name:', placeholder='Enter your name')\n",
        "      display(evaluator_name)\n",
        "    else:\n",
        "      display(evaluator_name.value)\n",
        "\n",
        "    row = df.iloc[row_num]\n",
        "\n",
        "    # Get the first num_sentences sentences of the original and generated articles\n",
        "    original = ' '.join(nltk.sent_tokenize(row['Original Article'])[:num_sentences])\n",
        "    generated = ' '.join(nltk.sent_tokenize(row['Generated Article'])[:num_sentences])\n",
        "\n",
        "    # Randomly decide whether to show the original or generated article first\n",
        "    if random.choice([True, False]):\n",
        "        text1, text2 = original, generated\n",
        "        correct_answer = 'Original, Generated'\n",
        "    else:\n",
        "        text1, text2 = generated, original\n",
        "        correct_answer = 'Generated, Original'\n",
        "\n",
        "    # Create and display the widgets\n",
        "    print(\"Text 1:\")\n",
        "    print(text1)\n",
        "    print(\"\\nText 2:\")\n",
        "    print(text2)\n",
        "\n",
        "    dropdown = widgets.Dropdown(options=['', 'Original, Generated', 'Generated, Original'], description='Order:')\n",
        "    notes = widgets.Textarea(value='', description='Notes:', placeholder='Enter your notes')\n",
        "    next_button = widgets.Button(description='Next Article Pair')\n",
        "\n",
        "    display(dropdown)\n",
        "    display(notes)\n",
        "    display(next_button)\n",
        "\n",
        "    def on_next_button_clicked(b):\n",
        "      if dropdown.value == '':\n",
        "          df.loc[current_row, f'EVALUATOR_{evaluator_name.value}_GUESS'] = 'SKIPPED'\n",
        "      else:\n",
        "          guess_correct = (dropdown.value == correct_answer)\n",
        "          df.loc[current_row, f'EVALUATOR_{evaluator_name.value}_GUESS'] = guess_correct\n",
        "      df.loc[current_row, f'EVALUATOR_{evaluator_name.value}_NOTES'] = notes.value\n",
        "      if current_row < len(df) - 1:\n",
        "          guessing_game(df, current_row + 1, num_sentences)\n",
        "      else:\n",
        "          print(\"You've reached the end of the DataFrame!\")\n",
        "          filename = f'EVALUATOR_{evaluator_name.value}.csv'\n",
        "          df.to_csv(filename)\n",
        "          files.download(filename)\n",
        "\n",
        "\n",
        "    next_button.on_click(on_next_button_clicked)\n",
        "\n",
        "# Call the function to display the first row\n",
        "guessing_game(df_all, 0, num_sentences=10)"
      ],
      "metadata": {
        "id": "UBvN_9GgjUWK",
        "colab": {
          "base_uri": "https://localhost:8080/",
          "height": 545,
          "referenced_widgets": [
            "8301dddfd790486486423b7a480fa8b0",
            "35a6185ff797468488aa92d3144c9140",
            "0de873b529904bdcb2c5b43449c503de",
            "5643dfb31a4b4ce3a6c68c4e7fb56394",
            "30f502e6b8084779b49844c67886d878",
            "c8b1f2aed5c04918be3236a1681c6c5f",
            "3b5cc90cf4f44ad1a6b2e687237fd913",
            "a606a6e9663743caac3aacb4d605fb19",
            "7d7db391890449f2942a41a823c83c85",
            "82fce575c4074d948e315f3c6da4160a",
            "bacf4be00b474eda835dc131bb286623",
            "c8badca6782342238a05d72f21bed7fd"
          ]
        },
        "outputId": "40fc7380-4308-4cc1-de71-404cf03edb69"
      },
      "execution_count": 9,
      "outputs": [
        {
          "output_type": "display_data",
          "data": {
            "text/plain": [
              "'Turn 0 of 40'"
            ],
            "application/vnd.google.colaboratory.intrinsic+json": {
              "type": "string"
            }
          },
          "metadata": {}
        },
        {
          "output_type": "display_data",
          "data": {
            "text/plain": [
              "<IPython.core.display.HTML object>"
            ],
            "text/html": [
              "\n",
              "    <style>\n",
              "        pre {\n",
              "            white-space: pre-wrap;\n",
              "        }\n",
              "    </style>\n",
              "    "
            ]
          },
          "metadata": {}
        },
        {
          "output_type": "display_data",
          "data": {
            "text/plain": [
              "Text(value='', description='Evaluator Name:', placeholder='Enter your name')"
            ],
            "application/vnd.jupyter.widget-view+json": {
              "version_major": 2,
              "version_minor": 0,
              "model_id": "8301dddfd790486486423b7a480fa8b0"
            }
          },
          "metadata": {}
        },
        {
          "output_type": "stream",
          "name": "stdout",
          "text": [
            "Text 1:\n",
            "Without a trace of bitterness, the billionaire Stephen A. Wynn once described his divorce from Elaine P. Wynn as the most expensive in American history. They evenly split his stake in the casino-resort company they co-founded and seemed to remain compatible leaders of some of the most profitable hotel-casinos in the world.. But Ms. Wynn’s relationship with Mr. Wynn was rocky for years, and he eventually left her for another woman — one who would soon be known as “Mrs. Steve.” She filed for divorce last year after months of allegations that she had been unfaithful to him by sleeping with other men, including two bodyguards hired by Donald J. Trump, the Republican presidential nominee. The couple married on Sept. 19, 2000, at St. John’s Roman Catholic Church in Las Vegas, where Mr. Wynn is buried. Their marriage has never been legally recognized, but it remains an enduring symbol of their union, which lasted more than seven decades. It also became a subject of intense speculation about what might have happened if Mrs. Wynn had not wed Mr. Wynn. In recent weeks, there were reports that Mr. Wynn was considering taking steps against her. He was quoted as saying: “I am not going to stand here and defend my wife when I know that this has been going on for so long.” For many people, it is difficult to imagine how such a marriage could ever have worked out, given the personalities involved. Yet it did.\n",
            "\n",
            "Text 2:\n",
            "Without a trace of bitterness, the billionaire Stephen A. Wynn once described his divorce from Elaine P. Wynn as the most expensive in American history. They evenly split his stake in the casino-resort company they co-founded and seemed to remain compatible leaders of some of the most profitable hotel-casinos in the world. Now that amicability itself may be history — and the fate of the $13 billion enterprise they built together could hang in the balance. After Ms. Wynn filed suit to lift divorce-related restrictions on the sale of her stock, fellow board members voted this month against nominating her for another term — despite her status as a co-founder, the third-largest shareholder and the only director who is not a white man. The board said it was eliminating her seat and is recommending retention of two other directors to the seats they now hold. Ms. Wynn, 72, has countered with a direct appeal to shareholders, urging them to choose her, instead, for one of the two remaining seats. The results of the vote will be announced at an April 24 shareholder meeting in Las Vegas, four days before the 10th anniversary of the opening of Wynn Las Vegas, which is also her birthday. On Monday in New York she accelerated an already extraordinary public relations campaign, outlining a schedule of meetings with institutional investors on Wall Street who will vote in the proxy battle. She is challenging claims by the company’s governance committee that she has conflicts of interest and lacks the independence necessary to work in the best interest of shareholders. “I am the DNA of Wynn Resorts,” said Ms. Wynn, who has retained the proxy specialist firm Abernathy MacGregor and a Democratic political consultant, Mark D. Fabiani.\n"
          ]
        },
        {
          "output_type": "display_data",
          "data": {
            "text/plain": [
              "Dropdown(description='Order:', options=('', 'Original, Generated', 'Generated, Original'), value='')"
            ],
            "application/vnd.jupyter.widget-view+json": {
              "version_major": 2,
              "version_minor": 0,
              "model_id": "5643dfb31a4b4ce3a6c68c4e7fb56394"
            }
          },
          "metadata": {}
        },
        {
          "output_type": "display_data",
          "data": {
            "text/plain": [
              "Textarea(value='', description='Notes:', placeholder='Enter your notes')"
            ],
            "application/vnd.jupyter.widget-view+json": {
              "version_major": 2,
              "version_minor": 0,
              "model_id": "3b5cc90cf4f44ad1a6b2e687237fd913"
            }
          },
          "metadata": {}
        },
        {
          "output_type": "display_data",
          "data": {
            "text/plain": [
              "Button(description='Next Article Pair', style=ButtonStyle())"
            ],
            "application/vnd.jupyter.widget-view+json": {
              "version_major": 2,
              "version_minor": 0,
              "model_id": "82fce575c4074d948e315f3c6da4160a"
            }
          },
          "metadata": {}
        }
      ]
    }
  ]
}